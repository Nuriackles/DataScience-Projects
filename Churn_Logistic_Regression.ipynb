{
  "nbformat": 4,
  "nbformat_minor": 0,
  "metadata": {
    "colab": {
      "name": "Churn Logistic Regression.ipynb",
      "provenance": [],
      "collapsed_sections": []
    },
    "language_info": {
      "name": "python"
    },
    "kernelspec": {
      "name": "python3",
      "display_name": "Python 3"
    }
  },
  "cells": [
    {
      "cell_type": "markdown",
      "metadata": {
        "id": "tlmT1weMXXRT"
      },
      "source": [
        "# Importing packages and data"
      ]
    },
    {
      "cell_type": "code",
      "metadata": {
        "id": "JAPTj0M1XXRT",
        "colab": {
          "base_uri": "https://localhost:8080/"
        },
        "outputId": "1677b3f2-7374-4aa0-ac86-950202b117d2"
      },
      "source": [
        "## The magic four\n",
        "import pandas as pd\n",
        "import numpy as np \n",
        "import seaborn as sns \n",
        "import matplotlib.pyplot as plt \n",
        "\n",
        "# Train Test Split \n",
        "from sklearn.model_selection import train_test_split\n",
        "\n",
        "#Scaler \n",
        "from sklearn.preprocessing import StandardScaler, MinMaxScaler\n",
        "\n",
        "## Metrics \n",
        "from sklearn.metrics import roc_auc_score\n",
        "from sklearn.metrics import roc_curve\n",
        "from sklearn import metrics\n",
        "from sklearn.metrics import (confusion_matrix, accuracy_score, precision_score, recall_score, f1_score)\n",
        "\n",
        "## StatsModels & SkLearn\n",
        "import statsmodels.api as sm\n",
        "from sklearn.linear_model import LogisticRegression\n",
        "\n",
        "#needed to import and read .xslx file\n",
        "import openpyxl\n",
        "\n",
        "%matplotlib inline"
      ],
      "execution_count": null,
      "outputs": [
        {
          "output_type": "stream",
          "text": [
            "/usr/local/lib/python3.7/dist-packages/statsmodels/tools/_testing.py:19: FutureWarning: pandas.util.testing is deprecated. Use the functions in the public API at pandas.testing instead.\n",
            "  import pandas.util.testing as tm\n"
          ],
          "name": "stderr"
        }
      ]
    },
    {
      "cell_type": "code",
      "metadata": {
        "id": "kiElCqWIXXRV"
      },
      "source": [
        "def apr(y_real, y_pred):\n",
        "    accuracy = accuracy_score(y_real, y_pred)\n",
        "    precision = precision_score(y_real, y_pred)\n",
        "    recall = recall_score(y_real, y_pred)\n",
        "    f1 = f1_score(y_real, y_pred)\n",
        "    \n",
        "    print(f\"Accuracy:{accuracy}\")\n",
        "    print(f\"Precision:{precision}\")\n",
        "    print(f\"Recall:{recall}\")\n",
        "    print(f\"F1:{f1}\")\n",
        "    return accuracy, precision, recall, f1"
      ],
      "execution_count": null,
      "outputs": []
    },
    {
      "cell_type": "code",
      "metadata": {
        "id": "P_H_W8WYXXRV"
      },
      "source": [
        "#this is an aesthetic choice and just removes the many warnings that some functions and comands produce\n",
        "#it helps significantly declutter the workbook\n",
        "import warnings\n",
        "warnings.filterwarnings('ignore')"
      ],
      "execution_count": null,
      "outputs": []
    },
    {
      "cell_type": "code",
      "metadata": {
        "id": "9nt0_oPBXXRW"
      },
      "source": [
        "#reading in the excel file into a DataFrame\n",
        "#commented out so it doesn't create it every time\n",
        "myDF = pd.read_excel('customer_churn.xlsx', header = 0)"
      ],
      "execution_count": null,
      "outputs": []
    },
    {
      "cell_type": "code",
      "metadata": {
        "colab": {
          "base_uri": "https://localhost:8080/"
        },
        "id": "2VxDGyS9XXRW",
        "outputId": "f65bd492-c9e9-403b-e1bc-8f50c1cf9dce"
      },
      "source": [
        "#visual inspection of the DataFrame\n",
        "len(myDF)"
      ],
      "execution_count": null,
      "outputs": [
        {
          "output_type": "execute_result",
          "data": {
            "text/plain": [
              "7043"
            ]
          },
          "metadata": {
            "tags": []
          },
          "execution_count": 103
        }
      ]
    },
    {
      "cell_type": "markdown",
      "metadata": {
        "id": "tbrSUIciXXRX"
      },
      "source": [
        "# Data Cleaning"
      ]
    },
    {
      "cell_type": "code",
      "metadata": {
        "id": "EJeAQyI2XXRX"
      },
      "source": [
        "#creating a copy of the dataset to work on\n",
        "churn = myDF.copy()\n",
        "#removing useless columns\n",
        "try:\n",
        "    churn.drop(columns = ['Churn Label','CustomerID', 'Count', 'Country', 'State','City','Lat Long', 'Latitude', 'Longitude', 'Churn Reason'], inplace = True)\n",
        "except:\n",
        "    print('Already dropped!')"
      ],
      "execution_count": null,
      "outputs": []
    },
    {
      "cell_type": "markdown",
      "metadata": {
        "id": "I6i_9g_XXXRY"
      },
      "source": [
        "# Exploratory Data Analysis"
      ]
    },
    {
      "cell_type": "code",
      "metadata": {
        "id": "kznu8GMRXXRZ"
      },
      "source": [
        "## Check for number of nulls in each column\n",
        "myDF.isnull().sum()"
      ],
      "execution_count": null,
      "outputs": []
    },
    {
      "cell_type": "code",
      "metadata": {
        "id": "8h8269wMXXRZ"
      },
      "source": [
        "#checking data types for each column\n",
        "churn.dtypes"
      ],
      "execution_count": null,
      "outputs": []
    },
    {
      "cell_type": "code",
      "metadata": {
        "id": "TOIG4_ZxXXRZ"
      },
      "source": [
        "#descriptive statistics of the dataset\n",
        "churn.describe()"
      ],
      "execution_count": null,
      "outputs": []
    },
    {
      "cell_type": "code",
      "metadata": {
        "id": "amD3s37EXXRa"
      },
      "source": [
        "#descriptive statistics of the set of people who left\n",
        "churn[churn['Churn Value'] == 1].describe()"
      ],
      "execution_count": null,
      "outputs": []
    },
    {
      "cell_type": "code",
      "metadata": {
        "id": "zCEQDxHcXXRa"
      },
      "source": [
        "#checking for data type and number of unique values\n",
        " for i in churn.columns:\n",
        "     print('column',i, 'of type',churn[i].dtypes, 'has', len(churn[i].unique()),'unique value(s)')"
      ],
      "execution_count": null,
      "outputs": []
    },
    {
      "cell_type": "markdown",
      "metadata": {
        "id": "CLlUXF7SXXRb"
      },
      "source": [
        "# DEMOGRAPHICS - graphs have later been made better in Tableau"
      ]
    },
    {
      "cell_type": "code",
      "metadata": {
        "colab": {
          "base_uri": "https://localhost:8080/"
        },
        "id": "Ox3xEvpcXXRb",
        "outputId": "862335b5-ca36-4928-bb53-21f874ef700b"
      },
      "source": [
        "## Country of the customers:\n",
        "myDF['Country'].value_counts()\n",
        "# All Customers are in USA"
      ],
      "execution_count": null,
      "outputs": [
        {
          "output_type": "execute_result",
          "data": {
            "text/plain": [
              "United States    7043\n",
              "Name: Country, dtype: int64"
            ]
          },
          "metadata": {
            "tags": []
          },
          "execution_count": 110
        }
      ]
    },
    {
      "cell_type": "code",
      "metadata": {
        "colab": {
          "base_uri": "https://localhost:8080/"
        },
        "id": "vVS20pkyXXRb",
        "outputId": "60619a79-73ee-440a-afce-862f16bd75cb"
      },
      "source": [
        "## State of the customers:\n",
        "myDF['State'].value_counts()\n",
        "# All customers are in California"
      ],
      "execution_count": null,
      "outputs": [
        {
          "output_type": "execute_result",
          "data": {
            "text/plain": [
              "California    7043\n",
              "Name: State, dtype: int64"
            ]
          },
          "metadata": {
            "tags": []
          },
          "execution_count": 111
        }
      ]
    },
    {
      "cell_type": "code",
      "metadata": {
        "colab": {
          "base_uri": "https://localhost:8080/",
          "height": 52
        },
        "id": "gI9Bi4XBXXRc",
        "outputId": "5aa093d3-2554-488c-da0d-4b11f32ba61e"
      },
      "source": [
        "'''## City of the customers:\n",
        "myDF['City'].value_counts()\n",
        "bc = myDF['City'].value_counts().plot.bar()\n",
        "# Majority of customers live in Los Angeles'''"
      ],
      "execution_count": null,
      "outputs": [
        {
          "output_type": "execute_result",
          "data": {
            "application/vnd.google.colaboratory.intrinsic+json": {
              "type": "string"
            },
            "text/plain": [
              "\"## City of the customers:\\nmyDF['City'].value_counts()\\nbc = myDF['City'].value_counts().plot.bar()\\n# Majority of customers live in Los Angeles\""
            ]
          },
          "metadata": {
            "tags": []
          },
          "execution_count": 112
        }
      ]
    },
    {
      "cell_type": "code",
      "metadata": {
        "colab": {
          "base_uri": "https://localhost:8080/"
        },
        "id": "v7GjBJCOXXRd",
        "outputId": "cc22acaf-d85f-4de0-bbe5-25afb46488db"
      },
      "source": [
        "## Percentage of males and females:\n",
        "customer_gender = myDF['Gender'].value_counts() / myDF['Gender'].count()\n",
        "customer_gender\n",
        "# Male      0.504756\n",
        "# Female    0.495244"
      ],
      "execution_count": null,
      "outputs": [
        {
          "output_type": "execute_result",
          "data": {
            "text/plain": [
              "Male      0.504756\n",
              "Female    0.495244\n",
              "Name: Gender, dtype: float64"
            ]
          },
          "metadata": {
            "tags": []
          },
          "execution_count": 113
        }
      ]
    },
    {
      "cell_type": "code",
      "metadata": {
        "colab": {
          "base_uri": "https://localhost:8080/"
        },
        "id": "364IqzGuXXRd",
        "outputId": "c6c33e68-ef7e-4c63-b5b3-3438cc2eeec6"
      },
      "source": [
        "#Number of males and females that churned\n",
        "myDF.groupby('Churn Value')['Gender'].value_counts()\n"
      ],
      "execution_count": null,
      "outputs": [
        {
          "output_type": "execute_result",
          "data": {
            "text/plain": [
              "Churn Value  Gender\n",
              "0            Male      2625\n",
              "             Female    2549\n",
              "1            Female     939\n",
              "             Male       930\n",
              "Name: Gender, dtype: int64"
            ]
          },
          "metadata": {
            "tags": []
          },
          "execution_count": 114
        }
      ]
    },
    {
      "cell_type": "code",
      "metadata": {
        "colab": {
          "base_uri": "https://localhost:8080/",
          "height": 322
        },
        "id": "JG614z_5XXRd",
        "outputId": "9596d608-4bb3-4e6a-90ba-773bb829ec53"
      },
      "source": [
        "gender_churn = myDF.groupby(['Gender', 'Churn Label'])['Gender'].count().unstack('Churn Label')\n",
        "gender_churn.plot(kind = \"bar\", stacked = True)"
      ],
      "execution_count": null,
      "outputs": [
        {
          "output_type": "execute_result",
          "data": {
            "text/plain": [
              "<matplotlib.axes._subplots.AxesSubplot at 0x7f00c189b110>"
            ]
          },
          "metadata": {
            "tags": []
          },
          "execution_count": 115
        },
        {
          "output_type": "display_data",
          "data": {
            "image/png": "[encoded data removed]",
            "text/plain": [
              "<Figure size 432x288 with 1 Axes>"
            ]
          },
          "metadata": {
            "tags": [],
            "needs_background": "light"
          }
        }
      ]
    },
    {
      "cell_type": "code",
      "metadata": {
        "colab": {
          "base_uri": "https://localhost:8080/",
          "height": 142
        },
        "id": "gsfF3UtZXXRe",
        "outputId": "b232a03f-68ad-4874-c6cb-ed61e4b781fd"
      },
      "source": [
        "## churners/no churners by tenure months:\n",
        "myDF.groupby('Churn Value')['Tenure Months'].describe()\n",
        "\n",
        "# During the first months churning is more likely to happen\n",
        "# No Churn - Mean 37.56, Median 38\n",
        "# Churn - Mean 17,97, Median 10\n",
        "# Seems to be outliers in the churners"
      ],
      "execution_count": null,
      "outputs": [
        {
          "output_type": "execute_result",
          "data": {
            "text/html": [
              "<div>\n",
              "<style scoped>\n",
              "    .dataframe tbody tr th:only-of-type {\n",
              "        vertical-align: middle;\n",
              "    }\n",
              "\n",
              "    .dataframe tbody tr th {\n",
              "        vertical-align: top;\n",
              "    }\n",
              "\n",
              "    .dataframe thead th {\n",
              "        text-align: right;\n",
              "    }\n",
              "</style>\n",
              "<table border=\"1\" class=\"dataframe\">\n",
              "  <thead>\n",
              "    <tr style=\"text-align: right;\">\n",
              "      <th></th>\n",
              "      <th>count</th>\n",
              "      <th>mean</th>\n",
              "      <th>std</th>\n",
              "      <th>min</th>\n",
              "      <th>25%</th>\n",
              "      <th>50%</th>\n",
              "      <th>75%</th>\n",
              "      <th>max</th>\n",
              "    </tr>\n",
              "    <tr>\n",
              "      <th>Churn Value</th>\n",
              "      <th></th>\n",
              "      <th></th>\n",
              "      <th></th>\n",
              "      <th></th>\n",
              "      <th></th>\n",
              "      <th></th>\n",
              "      <th></th>\n",
              "      <th></th>\n",
              "    </tr>\n",
              "  </thead>\n",
              "  <tbody>\n",
              "    <tr>\n",
              "      <th>0</th>\n",
              "      <td>5174.0</td>\n",
              "      <td>37.569965</td>\n",
              "      <td>24.113777</td>\n",
              "      <td>0.0</td>\n",
              "      <td>15.0</td>\n",
              "      <td>38.0</td>\n",
              "      <td>61.0</td>\n",
              "      <td>72.0</td>\n",
              "    </tr>\n",
              "    <tr>\n",
              "      <th>1</th>\n",
              "      <td>1869.0</td>\n",
              "      <td>17.979133</td>\n",
              "      <td>19.531123</td>\n",
              "      <td>1.0</td>\n",
              "      <td>2.0</td>\n",
              "      <td>10.0</td>\n",
              "      <td>29.0</td>\n",
              "      <td>72.0</td>\n",
              "    </tr>\n",
              "  </tbody>\n",
              "</table>\n",
              "</div>"
            ],
            "text/plain": [
              "              count       mean        std  min   25%   50%   75%   max\n",
              "Churn Value                                                           \n",
              "0            5174.0  37.569965  24.113777  0.0  15.0  38.0  61.0  72.0\n",
              "1            1869.0  17.979133  19.531123  1.0   2.0  10.0  29.0  72.0"
            ]
          },
          "metadata": {
            "tags": []
          },
          "execution_count": 116
        }
      ]
    },
    {
      "cell_type": "code",
      "metadata": {
        "colab": {
          "base_uri": "https://localhost:8080/",
          "height": 302
        },
        "id": "csV-19ysXXRe",
        "outputId": "49b1dc82-41ab-469b-87fe-20b74ad8dccd"
      },
      "source": [
        "## Churners/no churners by Senior Citizen:\n",
        "myDF.groupby(['Senior Citizen'])['Churn Label'].value_counts()\n",
        "#Senior Citizen  Churn Label\n",
        "#No              No             4508\n",
        "#                Yes            1393\n",
        "#Yes             No              666\n",
        "#                Yes             476\n",
        "customer_senior = myDF.groupby(['Senior Citizen', 'Churn Label'])['Senior Citizen'].count().unstack('Churn Label')\n",
        "customer_senior.plot(kind='bar', stacked=True)"
      ],
      "execution_count": null,
      "outputs": [
        {
          "output_type": "execute_result",
          "data": {
            "text/plain": [
              "<matplotlib.axes._subplots.AxesSubplot at 0x7f00c18e7ed0>"
            ]
          },
          "metadata": {
            "tags": []
          },
          "execution_count": 117
        },
        {
          "output_type": "display_data",
          "data": {
            "image/png": "[encoded data removed]",
            "text/plain": [
              "<Figure size 432x288 with 1 Axes>"
            ]
          },
          "metadata": {
            "tags": [],
            "needs_background": "light"
          }
        }
      ]
    },
    {
      "cell_type": "code",
      "metadata": {
        "id": "67Jd6it5XXRf"
      },
      "source": [
        "# customer_senior_citizen = myDF['Senior Citizen'].value_counts() / myDF['Senior Citizen'].count()\n",
        "# customer_senior_citizen"
      ],
      "execution_count": null,
      "outputs": []
    },
    {
      "cell_type": "code",
      "metadata": {
        "colab": {
          "base_uri": "https://localhost:8080/"
        },
        "id": "r4N96UYWXXRf",
        "outputId": "2ec09db1-6726-4840-872a-759a8124eb21"
      },
      "source": [
        "#gender demographics of senior residents\n",
        "#again similar trends as seen above for male vs female when broken down by age. \n",
        "myDF.groupby(['Senior Citizen', 'Gender'])['Churn Label'].value_counts()"
      ],
      "execution_count": null,
      "outputs": [
        {
          "output_type": "execute_result",
          "data": {
            "text/plain": [
              "Senior Citizen  Gender  Churn Label\n",
              "No              Female  No             2221\n",
              "                        Yes             699\n",
              "                Male    No             2287\n",
              "                        Yes             694\n",
              "Yes             Female  No              328\n",
              "                        Yes             240\n",
              "                Male    No              338\n",
              "                        Yes             236\n",
              "Name: Churn Label, dtype: int64"
            ]
          },
          "metadata": {
            "tags": []
          },
          "execution_count": 119
        }
      ]
    },
    {
      "cell_type": "code",
      "metadata": {
        "colab": {
          "base_uri": "https://localhost:8080/",
          "height": 302
        },
        "id": "E-dVt_66XXRg",
        "outputId": "b9fd6d4b-5f05-4632-b1ed-b7a2ff10e6b2"
      },
      "source": [
        "## Churners/no churners by Partner:\n",
        "myDF.groupby(['Partner'])['Churn Label'].value_counts()\n",
        "\n",
        "# Partner  Churn Label\n",
        "# No       No             2441\n",
        "#          Yes            1200\n",
        "# Yes      No             2733\n",
        "#          Yes             669\n",
        "customer_partner = myDF.groupby(['Partner', 'Churn Label'])['Partner'].count().unstack('Churn Label')\n",
        "customer_partner.plot(kind='bar', stacked=True)"
      ],
      "execution_count": null,
      "outputs": [
        {
          "output_type": "execute_result",
          "data": {
            "text/plain": [
              "<matplotlib.axes._subplots.AxesSubplot at 0x7f00c1921110>"
            ]
          },
          "metadata": {
            "tags": []
          },
          "execution_count": 120
        },
        {
          "output_type": "display_data",
          "data": {
            "image/png": "[encoded data removed]",
            "text/plain": [
              "<Figure size 432x288 with 1 Axes>"
            ]
          },
          "metadata": {
            "tags": [],
            "needs_background": "light"
          }
        }
      ]
    },
    {
      "cell_type": "code",
      "metadata": {
        "colab": {
          "base_uri": "https://localhost:8080/",
          "height": 302
        },
        "id": "Oax4RQkiXXRg",
        "outputId": "52c72537-7da1-48b4-f8cc-86fcf32fcf4b"
      },
      "source": [
        "## Churners/no churners by Dependents:\n",
        "myDF.groupby(['Dependents'])['Churn Label'].value_counts()\n",
        "# Dependents  Churn Label\n",
        "# No          No             3653\n",
        "#             Yes            1763\n",
        "# Yes         No             1521\n",
        "#             Yes             106\n",
        "customer_dependents = myDF.groupby(['Dependents', 'Churn Label'])['Dependents'].count().unstack('Churn Label')\n",
        "customer_dependents.plot(kind='bar', stacked=True)"
      ],
      "execution_count": null,
      "outputs": [
        {
          "output_type": "execute_result",
          "data": {
            "text/plain": [
              "<matplotlib.axes._subplots.AxesSubplot at 0x7f00c18b9c90>"
            ]
          },
          "metadata": {
            "tags": []
          },
          "execution_count": 121
        },
        {
          "output_type": "display_data",
          "data": {
            "image/png": "[encoded data removed]",
            "text/plain": [
              "<Figure size 432x288 with 1 Axes>"
            ]
          },
          "metadata": {
            "tags": [],
            "needs_background": "light"
          }
        }
      ]
    },
    {
      "cell_type": "code",
      "metadata": {
        "colab": {
          "base_uri": "https://localhost:8080/"
        },
        "id": "nM-1RfayXXRh",
        "outputId": "25c68bd3-31cb-46a8-dca7-4a9003741474"
      },
      "source": [
        "myDF['Churn Reason'].value_counts()"
      ],
      "execution_count": null,
      "outputs": [
        {
          "output_type": "execute_result",
          "data": {
            "text/plain": [
              "Attitude of support person                   192\n",
              "Competitor offered higher download speeds    189\n",
              "Competitor offered more data                 162\n",
              "Don't know                                   154\n",
              "Competitor made better offer                 140\n",
              "Attitude of service provider                 135\n",
              "Competitor had better devices                130\n",
              "Network reliability                          103\n",
              "Product dissatisfaction                      102\n",
              "Price too high                                98\n",
              "Service dissatisfaction                       89\n",
              "Lack of self-service on Website               88\n",
              "Extra data charges                            57\n",
              "Moved                                         53\n",
              "Limited range of services                     44\n",
              "Long distance charges                         44\n",
              "Lack of affordable download/upload speed      44\n",
              "Poor expertise of phone support               20\n",
              "Poor expertise of online support              19\n",
              "Deceased                                       6\n",
              "Name: Churn Reason, dtype: int64"
            ]
          },
          "metadata": {
            "tags": []
          },
          "execution_count": 122
        }
      ]
    },
    {
      "cell_type": "code",
      "metadata": {
        "colab": {
          "base_uri": "https://localhost:8080/",
          "height": 333
        },
        "id": "tf8LPx12XXRh",
        "outputId": "7714928a-8bb8-47e1-e1cd-1fe61491a4b2"
      },
      "source": [
        "## Churners/no churners by monthly charges\n",
        "myDF.groupby('Churn Label')['Monthly Charges'].value_counts()\n",
        "\n",
        "myDF.groupby('Churn Label')['Monthly Charges'].plot(kind='hist', stacked=True, legend = True)"
      ],
      "execution_count": null,
      "outputs": [
        {
          "output_type": "execute_result",
          "data": {
            "text/plain": [
              "Churn Label\n",
              "No     AxesSubplot(0.125,0.125;0.775x0.755)\n",
              "Yes    AxesSubplot(0.125,0.125;0.775x0.755)\n",
              "Name: Monthly Charges, dtype: object"
            ]
          },
          "metadata": {
            "tags": []
          },
          "execution_count": 123
        },
        {
          "output_type": "display_data",
          "data": {
            "image/png": "[encoded data removed]",
            "text/plain": [
              "<Figure size 432x288 with 1 Axes>"
            ]
          },
          "metadata": {
            "tags": [],
            "needs_background": "light"
          }
        }
      ]
    },
    {
      "cell_type": "code",
      "metadata": {
        "colab": {
          "base_uri": "https://localhost:8080/",
          "height": 333
        },
        "id": "h4V-mbH7XXRi",
        "outputId": "c918fd76-6135-4f94-b8cf-accb248cbea7"
      },
      "source": [
        "## Churners/no churners by tenure months:\n",
        "myDF.groupby('Churn Label')['Tenure Months'].value_counts()\n",
        "\n",
        "myDF.groupby('Churn Label')['Tenure Months'].plot(kind='hist', stacked=True, legend = True)"
      ],
      "execution_count": null,
      "outputs": [
        {
          "output_type": "execute_result",
          "data": {
            "text/plain": [
              "Churn Label\n",
              "No     AxesSubplot(0.125,0.125;0.775x0.755)\n",
              "Yes    AxesSubplot(0.125,0.125;0.775x0.755)\n",
              "Name: Tenure Months, dtype: object"
            ]
          },
          "metadata": {
            "tags": []
          },
          "execution_count": 124
        },
        {
          "output_type": "display_data",
          "data": {
            "image/png": "[encoded data removed]",
            "text/plain": [
              "<Figure size 432x288 with 1 Axes>"
            ]
          },
          "metadata": {
            "tags": [],
            "needs_background": "light"
          }
        }
      ]
    },
    {
      "cell_type": "code",
      "metadata": {
        "colab": {
          "base_uri": "https://localhost:8080/",
          "height": 367
        },
        "id": "1170IngFXXRi",
        "outputId": "03508cb5-266a-412f-8b7c-4d0644d5d1af"
      },
      "source": [
        "# Churners/no churners by type of contract:\n",
        "myDF.groupby('Churn Label')['Contract'].value_counts()\n",
        "\n",
        "test = myDF.groupby(['Contract', 'Churn Label'])['Contract'].count().unstack('Churn Label')\n",
        "test.plot(kind='bar', stacked=True) "
      ],
      "execution_count": null,
      "outputs": [
        {
          "output_type": "execute_result",
          "data": {
            "text/plain": [
              "<matplotlib.axes._subplots.AxesSubplot at 0x7f00cbc4db90>"
            ]
          },
          "metadata": {
            "tags": []
          },
          "execution_count": 125
        },
        {
          "output_type": "display_data",
          "data": {
            "image/png": "[encoded data removed]",
            "text/plain": [
              "<Figure size 432x288 with 1 Axes>"
            ]
          },
          "metadata": {
            "tags": [],
            "needs_background": "light"
          }
        }
      ]
    },
    {
      "cell_type": "markdown",
      "metadata": {
        "id": "BJ_mExXLXXRi"
      },
      "source": [
        "# Train-test split"
      ]
    },
    {
      "cell_type": "code",
      "metadata": {
        "id": "H5VUzYywXXRi"
      },
      "source": [
        "# Split into X & y \n",
        "\n",
        "X = churn.drop('Churn Value',axis=1)\n",
        "y = churn['Churn Value']\n",
        "\n",
        "\n",
        "#Apply Train Test Split \n",
        "\n",
        "X_train, X_test, y_train, y_test = train_test_split(X,y,test_size=0.25, random_state=420)\n"
      ],
      "execution_count": null,
      "outputs": []
    },
    {
      "cell_type": "markdown",
      "metadata": {
        "id": "FwJ3hby2XXRj"
      },
      "source": [
        "# Here we save the split data to then use it in other classification models.\n",
        "# Feature engineering and scaling will be done again so we can choose which predictors to use for each different model."
      ]
    },
    {
      "cell_type": "code",
      "metadata": {
        "colab": {
          "base_uri": "https://localhost:8080/"
        },
        "id": "M0lpm3vaXXRj",
        "outputId": "fbda3459-d2a8-40ff-cd1f-96f6f90c4a3f"
      },
      "source": [
        "'''X_train.to_csv('X_train.csv', index=False)\n",
        "y_train.to_csv('y_train.csv', index=False)\n",
        "X_test.to_csv('X_test.csv', index=False)\n",
        "y_test.to_csv('y_test.csv', index=False)'''"
      ],
      "execution_count": null,
      "outputs": [
        {
          "output_type": "execute_result",
          "data": {
            "application/vnd.google.colaboratory.intrinsic+json": {
              "type": "string"
            },
            "text/plain": [
              "\"X_train.to_csv('X_train.csv', index=False)\\ny_train.to_csv('y_train.csv', index=False)\\nX_test.to_csv('X_test.csv', index=False)\\ny_test.to_csv('y_test.csv', index=False)\""
            ]
          },
          "metadata": {
            "tags": []
          },
          "execution_count": 127
        }
      ]
    },
    {
      "cell_type": "markdown",
      "metadata": {
        "id": "tGQE3c2UXXRj"
      },
      "source": [
        "# Feature Engineering"
      ]
    },
    {
      "cell_type": "code",
      "metadata": {
        "id": "2NCU_eAaXXRj"
      },
      "source": [
        "#function to automatically create dummies to chosen columns\n",
        "def one_hot(df, col):\n",
        "    new_df = pd.get_dummies(df, columns=col, prefix=col[0])\n",
        "    return new_df\n",
        "\n",
        "#main feature engineering function\n",
        "def feature_eng(df):\n",
        "\n",
        "    df = df.copy()\n",
        "    \n",
        "    df = sm.add_constant(df)\n",
        "\n",
        "    df['Total Charges'] = df['Total Charges'].apply(pd.to_numeric, errors = 'coerce')\n",
        "    df['Total Charges'].fillna(0, inplace = True)\n",
        "\n",
        "    \n",
        "    to_be_dummied = [\n",
        "                    'Gender',\n",
        "                    'Senior Citizen', \n",
        "                    'Partner', \n",
        "                    'Dependents',\n",
        "                    'Phone Service',\n",
        "                    'Multiple Lines', \n",
        "                    'Internet Service', \n",
        "                    'Online Security', \n",
        "                    'Online Backup', \n",
        "                    'Device Protection', \n",
        "                    'Tech Support', \n",
        "                    'Streaming TV', \n",
        "                    'Streaming Movies', \n",
        "                    'Contract', \n",
        "                    'Paperless Billing', \n",
        "                    'Payment Method'\n",
        "                     ]\n",
        "\n",
        "    feature_cols = list(df.columns)\n",
        "    \n",
        "    one_hot_targets = []\n",
        "    not_hot_cols = []\n",
        "\n",
        "    for i in feature_cols:\n",
        "        if i in to_be_dummied:\n",
        "            one_hot_targets.append(i)\n",
        "        else:\n",
        "            not_hot_cols.append(i)\n",
        "\n",
        "\n",
        "    for target in one_hot_targets:\n",
        "        new = one_hot(df[target], [target])\n",
        "        df.drop(columns=target, inplace=True)\n",
        "        feature_cols.remove(target)\n",
        "        new_list = feature_cols + list(new.columns)\n",
        "        feature_cols = new_list.copy()\n",
        "        df = pd.concat([df, new], axis=1, join=\"inner\")\n",
        "\n",
        "    df['Payment Method_Automatic'] = df['Payment Method_Bank transfer (automatic)'] + df['Payment Method_Credit card (automatic)']\n",
        "    df['Payment Method_Manual'] = df['Payment Method_Electronic check'] + df['Payment Method_Mailed check']\n",
        "\n",
        "    final_cols = [  \n",
        "                    'const',\n",
        "                    'Monthly Charges', \n",
        "                    #'Total Charges', \n",
        "                    'Tenure Months', \n",
        "                    #'Churn Value',\n",
        "                    #'Gender_Female', \n",
        "                    #'Gender_Male', \n",
        "                    #'Senior Citizen_No',\n",
        "                    #'Senior Citizen_Yes', \n",
        "                    #'Partner_No', \n",
        "                    'Partner_Yes', \n",
        "                    #'Dependents_No',\n",
        "                    'Dependents_Yes', \n",
        "                    #'Phone Service_No', \n",
        "                    #'Phone Service_Yes',\n",
        "                    #'Multiple Lines_No', \n",
        "                    #'Multiple Lines_No phone service',   \n",
        "                    'Multiple Lines_Yes', \n",
        "                    #'Internet Service_DSL',\n",
        "                    'Internet Service_Fiber optic', \n",
        "                    #'Internet Service_No',\n",
        "                    #'Online Security_No', \n",
        "                    #'Online Security_No internet service',\n",
        "                    'Online Security_Yes', \n",
        "                    #'Online Backup_No',\n",
        "                    #'Online Backup_No internet service', \n",
        "                    #'Online Backup_Yes',\n",
        "                    #'Device Protection_No', \n",
        "                    #'Device Protection_No internet service',\n",
        "                    #'Device Protection_Yes', \n",
        "                    #'Tech Support_No',\n",
        "                    #'Tech Support_No internet service', \n",
        "                    'Tech Support_Yes',\n",
        "                    #'Streaming TV_No',\n",
        "                    #'Streaming TV_No internet service',\n",
        "                    #'Streaming TV_Yes', \n",
        "                    #'Streaming Movies_No',\n",
        "                    #'Streaming Movies_No internet service', \n",
        "                    'Streaming Movies_Yes',\n",
        "                    'Contract_Month-to-month', \n",
        "                    #'Contract_One year',\n",
        "                    #'Contract_Two year',\n",
        "                    #'Paperless Billing_No', \n",
        "                    'Paperless Billing_Yes',\n",
        "                    #'Payment Method_Bank transfer (automatic)',\n",
        "                    #'Payment Method_Credit card (automatic)',\n",
        "                    #'Payment Method_Electronic check', \n",
        "                    #'Payment Method_Mailed check'\n",
        "                    #'Payment Method_Automatic',\n",
        "                    'Payment Method_Manual'\n",
        "                    ]\n",
        "\n",
        "    for col in final_cols: \n",
        "        if col not in df.columns:\n",
        "            df[col] = 0\n",
        "\n",
        "    df = df[final_cols]\n",
        "\n",
        "    return df"
      ],
      "execution_count": null,
      "outputs": []
    },
    {
      "cell_type": "code",
      "metadata": {
        "id": "QXPI57EpXXRk"
      },
      "source": [
        "#applying the feature engineering\n",
        "X_train_eng = feature_eng(X_train)\n",
        "X_test_eng = feature_eng(X_test)"
      ],
      "execution_count": null,
      "outputs": []
    },
    {
      "cell_type": "markdown",
      "metadata": {
        "id": "ZTdlrSBOXXRl"
      },
      "source": [
        "# Scaler"
      ]
    },
    {
      "cell_type": "code",
      "metadata": {
        "id": "yfn1zRpZXXRl"
      },
      "source": [
        "scaler = MinMaxScaler()"
      ],
      "execution_count": null,
      "outputs": []
    },
    {
      "cell_type": "code",
      "metadata": {
        "id": "Sc93f3mRXXRl"
      },
      "source": [
        "# this code serves to separate the constant from the dataframe\n",
        "# if the consant is scaled it is reduced to 0 and becomes useless\n",
        "# here we also re-index the scaled dataframe since it loses the index when scaled\n",
        "if 'const' in list(X_train_eng.columns) and 'const' in list(X_test_eng.columns):\n",
        "\n",
        "    # Fit and scale the training data\n",
        "    c = pd.DataFrame(X_train_eng['const'])\n",
        "    c.reset_index(drop = True, inplace = True)\n",
        "\n",
        "    X_train_eng.drop(columns = 'const', inplace = True)\n",
        "\n",
        "    scaled_X_train = scaler.fit_transform(X_train_eng)\n",
        "\n",
        "    precols = list(X_train_eng.columns)\n",
        "    scaled_X_train = pd.DataFrame(scaled_X_train, columns= precols)\n",
        "\n",
        "    scaled_X_train = pd.concat([c,scaled_X_train], axis = 1)\n",
        "\n",
        "    scaled_X_train.set_index(X_train_eng.reset_index()['index'], inplace = True)\n",
        "\n",
        "    # Scale the test data \n",
        "\n",
        "    k = pd.DataFrame(X_test_eng['const'])\n",
        "    k.reset_index(drop = True, inplace = True)\n",
        "\n",
        "    X_test_eng.drop(columns = 'const', inplace = True)\n",
        "\n",
        "    scaled_X_test = scaler.transform(X_test_eng)\n",
        "\n",
        "    scaled_X_test = pd.DataFrame(scaled_X_test, columns= precols)\n",
        "\n",
        "    scaled_X_test = pd.concat([k,scaled_X_test], axis = 1)\n",
        "\n",
        "    scaled_X_test.set_index(X_test_eng.reset_index()['index'], inplace = True)\n",
        "\n",
        "else:\n",
        "    precols = list(X_train_eng.columns)\n",
        "    \n",
        "    scaled_X_train = scaler.fit_transform(X_train_eng)\n",
        "    scaled_X_train = pd.DataFrame(scaled_X_train, columns= precols)\n",
        "    \n",
        "    scaled_X_train.set_index(X_train_eng.reset_index()['index'], inplace = True)\n",
        "\n",
        "    scaled_X_test = scaler.transform(X_test_eng)\n",
        "    scaled_X_test = pd.DataFrame(scaled_X_test, columns= precols)\n",
        "    \n",
        "    scaled_X_test.set_index(X_test_eng.reset_index()['index'], inplace = True)"
      ],
      "execution_count": null,
      "outputs": []
    },
    {
      "cell_type": "markdown",
      "metadata": {
        "id": "a7bg2-uJXXRm"
      },
      "source": [
        "# Model creation"
      ]
    },
    {
      "cell_type": "code",
      "metadata": {
        "id": "6PsU-Y45XXRm"
      },
      "source": [
        "#creating the logistic regression model\n",
        "def run_model(dfx, dfy):\n",
        "  y = dfy\n",
        "  X = dfx\n",
        "  return sm.Logit(y, X).fit()"
      ],
      "execution_count": null,
      "outputs": []
    },
    {
      "cell_type": "markdown",
      "metadata": {
        "id": "nK-8hiUnXXRm"
      },
      "source": [
        "# Model running"
      ]
    },
    {
      "cell_type": "code",
      "metadata": {
        "colab": {
          "base_uri": "https://localhost:8080/"
        },
        "id": "Qm2GnYhRXXRm",
        "outputId": "29d9cd9f-27e1-4ca1-8094-0736bedfee2c"
      },
      "source": [
        "list(scaled_X_train.columns)"
      ],
      "execution_count": null,
      "outputs": [
        {
          "output_type": "execute_result",
          "data": {
            "text/plain": [
              "['const',\n",
              " 'Monthly Charges',\n",
              " 'Tenure Months',\n",
              " 'Partner_Yes',\n",
              " 'Dependents_Yes',\n",
              " 'Multiple Lines_Yes',\n",
              " 'Internet Service_Fiber optic',\n",
              " 'Online Security_Yes',\n",
              " 'Tech Support_Yes',\n",
              " 'Streaming Movies_Yes',\n",
              " 'Contract_Month-to-month',\n",
              " 'Paperless Billing_Yes',\n",
              " 'Payment Method_Manual']"
            ]
          },
          "metadata": {
            "tags": []
          },
          "execution_count": 133
        }
      ]
    },
    {
      "cell_type": "code",
      "metadata": {
        "colab": {
          "base_uri": "https://localhost:8080/"
        },
        "id": "q2s9Ti5RXXRn",
        "outputId": "94f491f8-5c0d-4c48-89a4-8fbf37eaab26"
      },
      "source": [
        "#model running\n",
        "test_0 = run_model(scaled_X_train,y_train)\n",
        "print(test_0.summary())"
      ],
      "execution_count": null,
      "outputs": [
        {
          "output_type": "stream",
          "text": [
            "Optimization terminated successfully.\n",
            "         Current function value: 0.411438\n",
            "         Iterations 7\n",
            "                           Logit Regression Results                           \n",
            "==============================================================================\n",
            "Dep. Variable:            Churn Value   No. Observations:                 5282\n",
            "Model:                          Logit   Df Residuals:                     5269\n",
            "Method:                           MLE   Df Model:                           12\n",
            "Date:                Tue, 17 Aug 2021   Pseudo R-squ.:                  0.2866\n",
            "Time:                        11:20:43   Log-Likelihood:                -2173.2\n",
            "converged:                       True   LL-Null:                       -3046.3\n",
            "Covariance Type:            nonrobust   LLR p-value:                     0.000\n",
            "================================================================================================\n",
            "                                   coef    std err          z      P>|z|      [0.025      0.975]\n",
            "------------------------------------------------------------------------------------------------\n",
            "const                           -2.2037      0.159    -13.826      0.000      -2.516      -1.891\n",
            "Monthly Charges                  1.5278      0.402      3.800      0.000       0.740       2.316\n",
            "Tenure Months                   -2.5194      0.190    -13.285      0.000      -2.891      -2.148\n",
            "Partner_Yes                      0.2525      0.086      2.919      0.004       0.083       0.422\n",
            "Dependents_Yes                  -1.5217      0.132    -11.497      0.000      -1.781      -1.262\n",
            "Multiple Lines_Yes               0.1898      0.095      1.989      0.047       0.003       0.377\n",
            "Internet Service_Fiber optic     0.4440      0.173      2.567      0.010       0.105       0.783\n",
            "Online Security_Yes             -0.3074      0.104     -2.961      0.003      -0.511      -0.104\n",
            "Tech Support_Yes                -0.3380      0.106     -3.183      0.001      -0.546      -0.130\n",
            "Streaming Movies_Yes             0.2779      0.107      2.588      0.010       0.067       0.488\n",
            "Contract_Month-to-month          0.9958      0.116      8.607      0.000       0.769       1.223\n",
            "Paperless Billing_Yes            0.4380      0.085      5.131      0.000       0.271       0.605\n",
            "Payment Method_Manual            0.3513      0.085      4.138      0.000       0.185       0.518\n",
            "================================================================================================\n"
          ],
          "name": "stdout"
        }
      ]
    },
    {
      "cell_type": "code",
      "metadata": {
        "id": "erS-ISGlXXRn"
      },
      "source": [
        "# correlation plot to check if variables are too highly correlated and cause issues\n",
        "plt.figure(figsize=(15, 15))\n",
        "sns.heatmap(scaled_X_train.corr(), annot = True,  square = True)\n",
        "plt.show()"
      ],
      "execution_count": null,
      "outputs": []
    },
    {
      "cell_type": "markdown",
      "metadata": {
        "id": "iqx9nPuQXXRn"
      },
      "source": [
        "# Metrics creation"
      ]
    },
    {
      "cell_type": "code",
      "metadata": {
        "id": "BSJkfz_MXXRn"
      },
      "source": [
        "#ended up not working properly so has not been used\n",
        "\n",
        "##positive label = y = 1 class \n",
        "##negative label = y = 0 class \n",
        "\n",
        "## y = Churned. \n",
        "## y = 1 'Churned'\n",
        "## y = 0 'Stayed':('\n",
        "\n",
        "def produce_confusion(positive_label, negative_label, cut_off, dfx, dfy, y_pred_name):\n",
        "    \n",
        "    #Set pred to 0 or 1 depending on whether it's higher than the cut_off point.\n",
        "    dfx['pred_binary'] = np.where(dfy > cut_off , 1, 0)\n",
        "    \n",
        "    #Build the CM\n",
        "    cm = confusion_matrix(dfy, dfx['pred_binary'])  \n",
        "    \n",
        "    ax= plt.subplot()\n",
        "    sns.heatmap(cm, annot=True, ax=ax, fmt='g'); \n",
        "\n",
        "    # labels, title, ticks\n",
        "    ax.set_xlabel('Predicted labels');ax.set_ylabel('Real labels'); \n",
        "    ax.set_title('Confusion Matrix'); \n",
        "    ax.xaxis.set_ticklabels([negative_label, positive_label])\n",
        "    ax.yaxis.set_ticklabels([negative_label, positive_label]);\n",
        "\n",
        "    print('Test accuracy = ', accuracy_score(dfy, dfx['pred_binary']))\n",
        "    print('Test precision = ', precision_score(dfy, dfx['pred_binary']))\n",
        "    print('Test recall = ', recall_score(dfy, dfx['pred_binary']))\n",
        "    print('Test F1 score = ', f1_score(dfy, dfx['pred_binary']))\n",
        "\n",
        "    return accuracy_score(dfy, dfx['pred_binary'])\n",
        "\n",
        "def metrics(dfx, dfy, model, cut_off, feature_cols):\n",
        "\n",
        "\n",
        "    params = model.params\n",
        "    model.summary()\n",
        "    \n",
        "    dfx['prediction'] = model.predict(dfx[feature_cols])\n",
        "    #def produce_confusion(positive_label, negative_label, cut_off, dfx, dfy, y_pred_name):\n",
        "    accuracy = produce_confusion('Churned', 'Stayed', cut_off, dfx, dfy, 'Churn Value')\n",
        "    dfx['pred_bins'] = pd.cut(dfx['prediction'], np.arange(0.05,0.95,0.05))\n",
        "    dfx = pd.concat([dfx, dfy], axis =1, join=\"inner\" )\n",
        "    summary = dfx.groupby('pred_bins').agg({'Churn Value':'mean', 'prediction':['mean','count']})\n",
        "    summary = summary.reset_index()\n",
        "    summary.columns = ['pred_bins','%_Churned','avg_prediction','count']\n",
        "    \n",
        "    #start bubble chart\n",
        "    plt.figure(figsize=(5, 5), dpi=70)\n",
        "    plt.axis([0, 1, 0, 1])\n",
        "    plt.scatter(summary['avg_prediction'], summary['%_Churned'], s=summary['count'])\n",
        "    plt.plot(summary['avg_prediction'], summary['avg_prediction'], color='grey')\n",
        "    plt.xlabel('Logistic model probabilities')\n",
        "    plt.ylabel('% Churned')\n",
        "    plt.show()\n",
        "\n",
        "    #start AUC\n",
        "    logit_roc_auc = roc_auc_score(dfx['Churn Value'], dfx['prediction'])\n",
        "    fpr, tpr, thresholds = roc_curve(dfx['Churn Value'], dfx['prediction'])\n",
        "    plt.figure()\n",
        "    plt.plot(fpr, tpr, label='Logistic Regression (area = %0.2f)' % logit_roc_auc)\n",
        "    plt.plot([0, 1], [0, 1],'r--')\n",
        "    plt.xlabel('False Positive Rate')\n",
        "    plt.ylabel('True Positive Rate')\n",
        "    plt.title('Receiver operating characteristic')\n",
        "    plt.legend(loc=\"lower right\")\n",
        "    plt.show()\n",
        "\n",
        "    return None"
      ],
      "execution_count": null,
      "outputs": []
    },
    {
      "cell_type": "markdown",
      "metadata": {
        "id": "rLNGAKmPXXRo"
      },
      "source": [
        "# Metrics running"
      ]
    },
    {
      "cell_type": "code",
      "metadata": {
        "colab": {
          "base_uri": "https://localhost:8080/"
        },
        "id": "Q2t5GqyWXXRo",
        "outputId": "5574a72a-592a-480a-c6ea-a9e35a20c8c0"
      },
      "source": [
        "feature_cols = list(scaled_X_train.columns)\n",
        "feature_cols"
      ],
      "execution_count": null,
      "outputs": [
        {
          "output_type": "execute_result",
          "data": {
            "text/plain": [
              "['const',\n",
              " 'Monthly Charges',\n",
              " 'Tenure Months',\n",
              " 'Partner_Yes',\n",
              " 'Dependents_Yes',\n",
              " 'Multiple Lines_Yes',\n",
              " 'Internet Service_Fiber optic',\n",
              " 'Online Security_Yes',\n",
              " 'Tech Support_Yes',\n",
              " 'Streaming Movies_Yes',\n",
              " 'Contract_Month-to-month',\n",
              " 'Paperless Billing_Yes',\n",
              " 'Payment Method_Manual']"
            ]
          },
          "metadata": {
            "tags": []
          },
          "execution_count": 136
        }
      ]
    },
    {
      "cell_type": "code",
      "metadata": {
        "colab": {
          "base_uri": "https://localhost:8080/"
        },
        "id": "LFlSrWvdXXRp",
        "outputId": "6f76a89a-6d72-46ca-e21c-0ff13638b5dd"
      },
      "source": [
        "# only the scores have been used since the metrics function did not work properly\n",
        "train_pred = test_0.predict(scaled_X_train)\n",
        "train_pred_bin = np.where(train_pred > 0.5, 1, 0)\n",
        "apr(y_train, train_pred_bin)"
      ],
      "execution_count": null,
      "outputs": [
        {
          "output_type": "stream",
          "text": [
            "Accuracy:0.8038621734191594\n",
            "Precision:0.6578014184397163\n",
            "Recall:0.5330459770114943\n",
            "F1:0.5888888888888888\n"
          ],
          "name": "stdout"
        },
        {
          "output_type": "execute_result",
          "data": {
            "text/plain": [
              "(0.8038621734191594,\n",
              " 0.6578014184397163,\n",
              " 0.5330459770114943,\n",
              " 0.5888888888888888)"
            ]
          },
          "metadata": {
            "tags": []
          },
          "execution_count": 138
        }
      ]
    },
    {
      "cell_type": "code",
      "metadata": {
        "colab": {
          "base_uri": "https://localhost:8080/"
        },
        "id": "alIgKM93XXRp",
        "outputId": "09837968-2e09-4038-98bb-3686f411fa2b"
      },
      "source": [
        "#test scores\n",
        "test_pred = test_0.predict(scaled_X_test)\n",
        "test_pred_bin = np.where(test_pred > 0.555, 1, 0)\n",
        "apr(y_test, test_pred_bin)"
      ],
      "execution_count": null,
      "outputs": [
        {
          "output_type": "stream",
          "text": [
            "Accuracy:0.8103350369108461\n",
            "Precision:0.7284345047923323\n",
            "Recall:0.4779874213836478\n",
            "F1:0.5772151898734178\n"
          ],
          "name": "stdout"
        },
        {
          "output_type": "execute_result",
          "data": {
            "text/plain": [
              "(0.8103350369108461,\n",
              " 0.7284345047923323,\n",
              " 0.4779874213836478,\n",
              " 0.5772151898734178)"
            ]
          },
          "metadata": {
            "tags": []
          },
          "execution_count": 139
        }
      ]
    },
    {
      "cell_type": "markdown",
      "metadata": {
        "id": "0RyygXq7XXRp"
      },
      "source": [
        "# Finding churn risk score for top 500 customers"
      ]
    },
    {
      "cell_type": "code",
      "metadata": {
        "colab": {
          "base_uri": "https://localhost:8080/"
        },
        "id": "RcI8EtN3XXRp",
        "outputId": "77e611c7-e733-4c23-d494-c04faa4f9470"
      },
      "source": [
        "# similar to above, the constant must not be scaled and is therefore removed and put back after the scaling\n",
        "loyal = churn[churn['Churn Value'] == 0]\n",
        "loyal_eng = feature_eng(loyal)\n",
        "\n",
        "k = pd.DataFrame(loyal_eng['const'])\n",
        "k.reset_index(drop = True, inplace = True)\n",
        "\n",
        "loyal_eng.drop(columns = 'const', inplace = True)\n",
        "\n",
        "loyal_cols = list(loyal_eng.columns)\n",
        "\n",
        "scaled_loyal_eng = scaler.transform(loyal_eng)\n",
        "\n",
        "scaled_loyal_eng = pd.DataFrame(scaled_loyal_eng, columns= loyal_cols)\n",
        "scaled_loyal_eng = pd.concat([k,scaled_loyal_eng], axis = 1)\n",
        "scaled_loyal_eng.set_index(loyal_eng.reset_index()['index'], inplace = True)\n",
        "\n",
        "scaled_loyal_eng"
      ],
      "execution_count": null,
      "outputs": [
        {
          "output_type": "execute_result",
          "data": {
            "text/html": [
              "<div>\n",
              "<style scoped>\n",
              "    .dataframe tbody tr th:only-of-type {\n",
              "        vertical-align: middle;\n",
              "    }\n",
              "\n",
              "    .dataframe tbody tr th {\n",
              "        vertical-align: top;\n",
              "    }\n",
              "\n",
              "    .dataframe thead th {\n",
              "        text-align: right;\n",
              "    }\n",
              "</style>\n",
              "<table border=\"1\" class=\"dataframe\">\n",
              "  <thead>\n",
              "    <tr style=\"text-align: right;\">\n",
              "      <th></th>\n",
              "      <th>const</th>\n",
              "      <th>Monthly Charges</th>\n",
              "      <th>Tenure Months</th>\n",
              "      <th>Partner_Yes</th>\n",
              "      <th>Dependents_Yes</th>\n",
              "      <th>Multiple Lines_Yes</th>\n",
              "      <th>Internet Service_Fiber optic</th>\n",
              "      <th>Online Security_Yes</th>\n",
              "      <th>Tech Support_Yes</th>\n",
              "      <th>Streaming Movies_Yes</th>\n",
              "      <th>Contract_Month-to-month</th>\n",
              "      <th>Paperless Billing_Yes</th>\n",
              "      <th>Payment Method_Manual</th>\n",
              "    </tr>\n",
              "    <tr>\n",
              "      <th>index</th>\n",
              "      <th></th>\n",
              "      <th></th>\n",
              "      <th></th>\n",
              "      <th></th>\n",
              "      <th></th>\n",
              "      <th></th>\n",
              "      <th></th>\n",
              "      <th></th>\n",
              "      <th></th>\n",
              "      <th></th>\n",
              "      <th></th>\n",
              "      <th></th>\n",
              "      <th></th>\n",
              "    </tr>\n",
              "  </thead>\n",
              "  <tbody>\n",
              "    <tr>\n",
              "      <th>1869</th>\n",
              "      <td>1.0</td>\n",
              "      <td>0.115595</td>\n",
              "      <td>0.013889</td>\n",
              "      <td>1.0</td>\n",
              "      <td>0.0</td>\n",
              "      <td>0.0</td>\n",
              "      <td>0.0</td>\n",
              "      <td>0.0</td>\n",
              "      <td>0.0</td>\n",
              "      <td>0.0</td>\n",
              "      <td>1.0</td>\n",
              "      <td>1.0</td>\n",
              "      <td>1.0</td>\n",
              "    </tr>\n",
              "    <tr>\n",
              "      <th>1870</th>\n",
              "      <td>1.0</td>\n",
              "      <td>0.385650</td>\n",
              "      <td>0.472222</td>\n",
              "      <td>0.0</td>\n",
              "      <td>0.0</td>\n",
              "      <td>0.0</td>\n",
              "      <td>0.0</td>\n",
              "      <td>1.0</td>\n",
              "      <td>0.0</td>\n",
              "      <td>0.0</td>\n",
              "      <td>0.0</td>\n",
              "      <td>0.0</td>\n",
              "      <td>1.0</td>\n",
              "    </tr>\n",
              "    <tr>\n",
              "      <th>1871</th>\n",
              "      <td>1.0</td>\n",
              "      <td>0.239661</td>\n",
              "      <td>0.625000</td>\n",
              "      <td>0.0</td>\n",
              "      <td>0.0</td>\n",
              "      <td>0.0</td>\n",
              "      <td>0.0</td>\n",
              "      <td>1.0</td>\n",
              "      <td>1.0</td>\n",
              "      <td>0.0</td>\n",
              "      <td>0.0</td>\n",
              "      <td>0.0</td>\n",
              "      <td>0.0</td>\n",
              "    </tr>\n",
              "    <tr>\n",
              "      <th>1872</th>\n",
              "      <td>1.0</td>\n",
              "      <td>0.706029</td>\n",
              "      <td>0.305556</td>\n",
              "      <td>0.0</td>\n",
              "      <td>1.0</td>\n",
              "      <td>1.0</td>\n",
              "      <td>1.0</td>\n",
              "      <td>0.0</td>\n",
              "      <td>0.0</td>\n",
              "      <td>0.0</td>\n",
              "      <td>1.0</td>\n",
              "      <td>1.0</td>\n",
              "      <td>0.0</td>\n",
              "    </tr>\n",
              "    <tr>\n",
              "      <th>1873</th>\n",
              "      <td>1.0</td>\n",
              "      <td>0.114599</td>\n",
              "      <td>0.138889</td>\n",
              "      <td>0.0</td>\n",
              "      <td>0.0</td>\n",
              "      <td>0.0</td>\n",
              "      <td>0.0</td>\n",
              "      <td>1.0</td>\n",
              "      <td>0.0</td>\n",
              "      <td>0.0</td>\n",
              "      <td>1.0</td>\n",
              "      <td>0.0</td>\n",
              "      <td>1.0</td>\n",
              "    </tr>\n",
              "    <tr>\n",
              "      <th>...</th>\n",
              "      <td>...</td>\n",
              "      <td>...</td>\n",
              "      <td>...</td>\n",
              "      <td>...</td>\n",
              "      <td>...</td>\n",
              "      <td>...</td>\n",
              "      <td>...</td>\n",
              "      <td>...</td>\n",
              "      <td>...</td>\n",
              "      <td>...</td>\n",
              "      <td>...</td>\n",
              "      <td>...</td>\n",
              "      <td>...</td>\n",
              "    </tr>\n",
              "    <tr>\n",
              "      <th>7038</th>\n",
              "      <td>1.0</td>\n",
              "      <td>0.028899</td>\n",
              "      <td>1.000000</td>\n",
              "      <td>0.0</td>\n",
              "      <td>0.0</td>\n",
              "      <td>0.0</td>\n",
              "      <td>0.0</td>\n",
              "      <td>0.0</td>\n",
              "      <td>0.0</td>\n",
              "      <td>0.0</td>\n",
              "      <td>0.0</td>\n",
              "      <td>1.0</td>\n",
              "      <td>0.0</td>\n",
              "    </tr>\n",
              "    <tr>\n",
              "      <th>7039</th>\n",
              "      <td>1.0</td>\n",
              "      <td>0.663179</td>\n",
              "      <td>0.333333</td>\n",
              "      <td>1.0</td>\n",
              "      <td>1.0</td>\n",
              "      <td>1.0</td>\n",
              "      <td>0.0</td>\n",
              "      <td>1.0</td>\n",
              "      <td>1.0</td>\n",
              "      <td>1.0</td>\n",
              "      <td>0.0</td>\n",
              "      <td>1.0</td>\n",
              "      <td>1.0</td>\n",
              "    </tr>\n",
              "    <tr>\n",
              "      <th>7040</th>\n",
              "      <td>1.0</td>\n",
              "      <td>0.846537</td>\n",
              "      <td>1.000000</td>\n",
              "      <td>1.0</td>\n",
              "      <td>1.0</td>\n",
              "      <td>1.0</td>\n",
              "      <td>1.0</td>\n",
              "      <td>0.0</td>\n",
              "      <td>0.0</td>\n",
              "      <td>1.0</td>\n",
              "      <td>0.0</td>\n",
              "      <td>1.0</td>\n",
              "      <td>0.0</td>\n",
              "    </tr>\n",
              "    <tr>\n",
              "      <th>7041</th>\n",
              "      <td>1.0</td>\n",
              "      <td>0.113104</td>\n",
              "      <td>0.152778</td>\n",
              "      <td>1.0</td>\n",
              "      <td>1.0</td>\n",
              "      <td>0.0</td>\n",
              "      <td>0.0</td>\n",
              "      <td>1.0</td>\n",
              "      <td>0.0</td>\n",
              "      <td>0.0</td>\n",
              "      <td>1.0</td>\n",
              "      <td>1.0</td>\n",
              "      <td>1.0</td>\n",
              "    </tr>\n",
              "    <tr>\n",
              "      <th>7042</th>\n",
              "      <td>1.0</td>\n",
              "      <td>0.870952</td>\n",
              "      <td>0.916667</td>\n",
              "      <td>0.0</td>\n",
              "      <td>0.0</td>\n",
              "      <td>0.0</td>\n",
              "      <td>1.0</td>\n",
              "      <td>1.0</td>\n",
              "      <td>1.0</td>\n",
              "      <td>1.0</td>\n",
              "      <td>0.0</td>\n",
              "      <td>1.0</td>\n",
              "      <td>0.0</td>\n",
              "    </tr>\n",
              "  </tbody>\n",
              "</table>\n",
              "<p>5174 rows × 13 columns</p>\n",
              "</div>"
            ],
            "text/plain": [
              "       const  Monthly Charges  ...  Paperless Billing_Yes  Payment Method_Manual\n",
              "index                          ...                                              \n",
              "1869     1.0         0.115595  ...                    1.0                    1.0\n",
              "1870     1.0         0.385650  ...                    0.0                    1.0\n",
              "1871     1.0         0.239661  ...                    0.0                    0.0\n",
              "1872     1.0         0.706029  ...                    1.0                    0.0\n",
              "1873     1.0         0.114599  ...                    0.0                    1.0\n",
              "...      ...              ...  ...                    ...                    ...\n",
              "7038     1.0         0.028899  ...                    1.0                    0.0\n",
              "7039     1.0         0.663179  ...                    1.0                    1.0\n",
              "7040     1.0         0.846537  ...                    1.0                    0.0\n",
              "7041     1.0         0.113104  ...                    1.0                    1.0\n",
              "7042     1.0         0.870952  ...                    1.0                    0.0\n",
              "\n",
              "[5174 rows x 13 columns]"
            ]
          },
          "metadata": {
            "tags": []
          },
          "execution_count": 140
        }
      ]
    },
    {
      "cell_type": "code",
      "metadata": {
        "id": "Gyx6yCsuXXRq"
      },
      "source": [
        "#adding customer ID to the dataframe\n",
        "loyal_id = myDF['CustomerID'][myDF['Churn Value'] == 0]\n",
        "test = scaled_loyal_eng.join(loyal_id)\n",
        "test.sort_values('Churn Probability', ascending= False, inplace = True)"
      ],
      "execution_count": null,
      "outputs": []
    },
    {
      "cell_type": "code",
      "metadata": {
        "colab": {
          "base_uri": "https://localhost:8080/"
        },
        "id": "SJ3jETbRXXRq",
        "outputId": "51b58c93-87e3-4474-eb72-718322b654c8"
      },
      "source": [
        "#creating top 500 dataframe\n",
        "churn_list = test[['CustomerID', 'Churn Probability']].head(500)\n",
        "churn_list"
      ],
      "execution_count": null,
      "outputs": [
        {
          "output_type": "execute_result",
          "data": {
            "text/html": [
              "<div>\n",
              "<style scoped>\n",
              "    .dataframe tbody tr th:only-of-type {\n",
              "        vertical-align: middle;\n",
              "    }\n",
              "\n",
              "    .dataframe tbody tr th {\n",
              "        vertical-align: top;\n",
              "    }\n",
              "\n",
              "    .dataframe thead th {\n",
              "        text-align: right;\n",
              "    }\n",
              "</style>\n",
              "<table border=\"1\" class=\"dataframe\">\n",
              "  <thead>\n",
              "    <tr style=\"text-align: right;\">\n",
              "      <th></th>\n",
              "      <th>CustomerID</th>\n",
              "      <th>Churn Probability</th>\n",
              "    </tr>\n",
              "    <tr>\n",
              "      <th>index</th>\n",
              "      <th></th>\n",
              "      <th></th>\n",
              "    </tr>\n",
              "  </thead>\n",
              "  <tbody>\n",
              "    <tr>\n",
              "      <th>3712</th>\n",
              "      <td>8622-ZLFKO</td>\n",
              "      <td>0.837465</td>\n",
              "    </tr>\n",
              "    <tr>\n",
              "      <th>4198</th>\n",
              "      <td>5150-ITWWB</td>\n",
              "      <td>0.825548</td>\n",
              "    </tr>\n",
              "    <tr>\n",
              "      <th>3732</th>\n",
              "      <td>4927-WWOOZ</td>\n",
              "      <td>0.819388</td>\n",
              "    </tr>\n",
              "    <tr>\n",
              "      <th>4714</th>\n",
              "      <td>0365-BZUWY</td>\n",
              "      <td>0.807560</td>\n",
              "    </tr>\n",
              "    <tr>\n",
              "      <th>4341</th>\n",
              "      <td>2545-EBUPK</td>\n",
              "      <td>0.806115</td>\n",
              "    </tr>\n",
              "    <tr>\n",
              "      <th>...</th>\n",
              "      <td>...</td>\n",
              "      <td>...</td>\n",
              "    </tr>\n",
              "    <tr>\n",
              "      <th>2842</th>\n",
              "      <td>1907-YLNYW</td>\n",
              "      <td>0.502420</td>\n",
              "    </tr>\n",
              "    <tr>\n",
              "      <th>2056</th>\n",
              "      <td>0221-WMXNQ</td>\n",
              "      <td>0.502363</td>\n",
              "    </tr>\n",
              "    <tr>\n",
              "      <th>6025</th>\n",
              "      <td>9752-ZNQUT</td>\n",
              "      <td>0.502128</td>\n",
              "    </tr>\n",
              "    <tr>\n",
              "      <th>4098</th>\n",
              "      <td>5857-TYBCJ</td>\n",
              "      <td>0.502077</td>\n",
              "    </tr>\n",
              "    <tr>\n",
              "      <th>3583</th>\n",
              "      <td>4238-JSSWH</td>\n",
              "      <td>0.501849</td>\n",
              "    </tr>\n",
              "  </tbody>\n",
              "</table>\n",
              "<p>500 rows × 2 columns</p>\n",
              "</div>"
            ],
            "text/plain": [
              "       CustomerID  Churn Probability\n",
              "index                               \n",
              "3712   8622-ZLFKO           0.837465\n",
              "4198   5150-ITWWB           0.825548\n",
              "3732   4927-WWOOZ           0.819388\n",
              "4714   0365-BZUWY           0.807560\n",
              "4341   2545-EBUPK           0.806115\n",
              "...           ...                ...\n",
              "2842   1907-YLNYW           0.502420\n",
              "2056   0221-WMXNQ           0.502363\n",
              "6025   9752-ZNQUT           0.502128\n",
              "4098   5857-TYBCJ           0.502077\n",
              "3583   4238-JSSWH           0.501849\n",
              "\n",
              "[500 rows x 2 columns]"
            ]
          },
          "metadata": {
            "tags": []
          },
          "execution_count": 143
        }
      ]
    },
    {
      "cell_type": "code",
      "metadata": {
        "id": "sB_RqrCvXXRr"
      },
      "source": [
        "#saving the dataframe as csv\n",
        "churn_list.to_csv('Logit_top_500.csv', index = False)"
      ],
      "execution_count": null,
      "outputs": []
    },
    {
      "cell_type": "code",
      "metadata": {
        "id": "3QtjFnCpXXRr"
      },
      "source": [
        "#link to SVM notebook on Google Colab\n",
        "#https://colab.research.google.com/drive/1ldtXbVWAV7aBoUZXI3khKVxP9hcypgV9?usp=sharing"
      ],
      "execution_count": null,
      "outputs": []
    }
  ]
}