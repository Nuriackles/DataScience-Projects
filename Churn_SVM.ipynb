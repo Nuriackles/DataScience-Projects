{
  "nbformat": 4,
  "nbformat_minor": 0,
  "metadata": {
    "colab": {
      "name": "Churn SVM.ipynb",
      "provenance": [],
      "collapsed_sections": [
        "rvWqkeyf78-h"
      ]
    },
    "kernelspec": {
      "name": "python3",
      "display_name": "Python 3"
    },
    "language_info": {
      "name": "python"
    },
    "accelerator": "GPU"
  },
  "cells": [
    {
      "cell_type": "markdown",
      "metadata": {
        "id": "34DueFg7kvyb"
      },
      "source": [
        "# Preliminary activities"
      ]
    },
    {
      "cell_type": "code",
      "metadata": {
        "id": "OR_ifad077DP",
        "colab": {
          "base_uri": "https://localhost:8080/"
        },
        "outputId": "50571df7-1f2f-43fd-9009-626ac18f8443"
      },
      "source": [
        "import seaborn as sns \n",
        "import matplotlib.pyplot as plt \n",
        "\n",
        "import pandas as pd \n",
        "import numpy as np \n",
        "import statsmodels.api as sm\n",
        "\n",
        "from sklearn.preprocessing import OneHotEncoder\n",
        "from sklearn.linear_model import LogisticRegression\n",
        "\n",
        "from sklearn.metrics import roc_auc_score\n",
        "from sklearn.metrics import roc_curve\n",
        "from sklearn import metrics\n",
        "\n",
        "from sklearn import datasets\n",
        "from sklearn.model_selection import train_test_split\n",
        "\n",
        "from sklearn.model_selection import GridSearchCV\n",
        "from sklearn.metrics import classification_report\n",
        "from sklearn.metrics import (accuracy_score, precision_score, recall_score, f1_score)\n",
        "\n",
        "#Scaler \n",
        "from sklearn.preprocessing import MinMaxScaler\n",
        "\n",
        "from sklearn.inspection import permutation_importance\n",
        "\n",
        "import os"
      ],
      "execution_count": null,
      "outputs": [
        {
          "output_type": "stream",
          "text": [
            "/usr/local/lib/python3.7/dist-packages/statsmodels/tools/_testing.py:19: FutureWarning: pandas.util.testing is deprecated. Use the functions in the public API at pandas.testing instead.\n",
            "  import pandas.util.testing as tm\n"
          ],
          "name": "stderr"
        }
      ]
    },
    {
      "cell_type": "code",
      "metadata": {
        "id": "Hn7IvkKR7OzE"
      },
      "source": [
        "#this is an esthetic choice and just removes the many warnings that stepwise regression and other comands produce\n",
        "#it helps significantly declutter the workbook\n",
        "import warnings\n",
        "warnings.filterwarnings('ignore')"
      ],
      "execution_count": null,
      "outputs": []
    },
    {
      "cell_type": "code",
      "metadata": {
        "id": "ZdAKTf-i8E2C",
        "colab": {
          "base_uri": "https://localhost:8080/"
        },
        "outputId": "db5823ef-1454-4275-f3ef-fc577a02ef85"
      },
      "source": [
        "#this was taken as given\n",
        "!wget https://developer.nvidia.com/compute/cuda/9.0/Prod/local_installers/cuda-repo-ubuntu1704-9-0-local_9.0.176-1_amd64-deb\n",
        "\n",
        "!ls  ## Check if required cuda 9.0 amd64-deb file is downloaded\n",
        "!dpkg -i cuda-repo-ubuntu1704-9-0-local_9.0.176-1_amd64-deb\n",
        "!ls /var/cuda-repo-9-0-local | grep .pub\n",
        "!apt-key add /var/cuda-repo-9-0-local/7fa2af80.pub\n",
        "!apt-get update\n",
        "!sudo apt-get install cuda-9.0"
      ],
      "execution_count": null,
      "outputs": [
        {
          "output_type": "stream",
          "text": [
            "--2021-08-16 16:12:11--  https://developer.nvidia.com/compute/cuda/9.0/Prod/local_installers/cuda-repo-ubuntu1704-9-0-local_9.0.176-1_amd64-deb\n",
            "Resolving developer.nvidia.com (developer.nvidia.com)... 152.199.0.24\n",
            "Connecting to developer.nvidia.com (developer.nvidia.com)|152.199.0.24|:443... connected.\n",
            "HTTP request sent, awaiting response... 301 Moved Permanently\n",
            "Location: https://developer.nvidia.com/compute/cuda/9.0/prod/local_installers/cuda-repo-ubuntu1704-9-0-local_9.0.176-1_amd64-deb [following]\n",
            "--2021-08-16 16:12:12--  https://developer.nvidia.com/compute/cuda/9.0/prod/local_installers/cuda-repo-ubuntu1704-9-0-local_9.0.176-1_amd64-deb\n",
            "Reusing existing connection to developer.nvidia.com:443.\n",
            "HTTP request sent, awaiting response... 302 Found\n",
            "Location: https://developer.download.nvidia.com/compute/cuda/9.0/secure/Prod/local_installers/cuda-repo-ubuntu1704-9-0-local_9.0.176-1_amd64.deb?rB9srLYVV8JVZFVJIki4e1PTGaPxL4EmikhxjRMHvAyTLMTXLt2tMIUnT6mwM2c2fEHA_u-JRyAWvAm5PYmCo3gE5t9tQzjWqbEYrg_yrT2jJzy9953hwS0jOSfamWiRgOVAWjt8jz52lfo4dgEXLyE75oxeE3eygPTtp5vV_9D4xCLtQGKzTz9qstusAOCE3suC9uInBJMiS3HlFmtn [following]\n",
            "--2021-08-16 16:12:12--  https://developer.download.nvidia.com/compute/cuda/9.0/secure/Prod/local_installers/cuda-repo-ubuntu1704-9-0-local_9.0.176-1_amd64.deb?rB9srLYVV8JVZFVJIki4e1PTGaPxL4EmikhxjRMHvAyTLMTXLt2tMIUnT6mwM2c2fEHA_u-JRyAWvAm5PYmCo3gE5t9tQzjWqbEYrg_yrT2jJzy9953hwS0jOSfamWiRgOVAWjt8jz52lfo4dgEXLyE75oxeE3eygPTtp5vV_9D4xCLtQGKzTz9qstusAOCE3suC9uInBJMiS3HlFmtn\n",
            "Resolving developer.download.nvidia.com (developer.download.nvidia.com)... 152.195.19.142\n",
            "Connecting to developer.download.nvidia.com (developer.download.nvidia.com)|152.195.19.142|:443... connected.\n",
            "HTTP request sent, awaiting response... 200 OK\n",
            "Length: 1216133170 (1.1G) [application/x-deb]\n",
            "Saving to: ‘cuda-repo-ubuntu1704-9-0-local_9.0.176-1_amd64-deb.2’\n",
            "\n",
            "cuda-repo-ubuntu170 100%[===================>]   1.13G   213MB/s    in 5.4s    \n",
            "\n",
            "2021-08-16 16:12:18 (215 MB/s) - ‘cuda-repo-ubuntu1704-9-0-local_9.0.176-1_amd64-deb.2’ saved [1216133170/1216133170]\n",
            "\n",
            "cuda-repo-ubuntu1704-9-0-local_9.0.176-1_amd64-deb    sample_data  y_test.csv\n",
            "cuda-repo-ubuntu1704-9-0-local_9.0.176-1_amd64-deb.1  X_test.csv   y_train.csv\n",
            "cuda-repo-ubuntu1704-9-0-local_9.0.176-1_amd64-deb.2  X_train.csv\n",
            "(Reading database ... 170149 files and directories currently installed.)\n",
            "Preparing to unpack cuda-repo-ubuntu1704-9-0-local_9.0.176-1_amd64-deb ...\n",
            "Unpacking cuda-repo-ubuntu1704-9-0-local (9.0.176-1) over (9.0.176-1) ...\n",
            "Setting up cuda-repo-ubuntu1704-9-0-local (9.0.176-1) ...\n",
            "7fa2af80.pub\n",
            "OK\n",
            "Get:1 file:/var/cuda-repo-9-0-local  InRelease\n",
            "Ign:1 file:/var/cuda-repo-9-0-local  InRelease\n",
            "Get:2 file:/var/cuda-repo-9-0-local  Release [574 B]\n",
            "Get:2 file:/var/cuda-repo-9-0-local  Release [574 B]\n",
            "Ign:3 https://developer.download.nvidia.com/compute/cuda/repos/ubuntu1804/x86_64  InRelease\n",
            "Ign:4 https://developer.download.nvidia.com/compute/machine-learning/repos/ubuntu1804/x86_64  InRelease\n",
            "Hit:5 https://developer.download.nvidia.com/compute/cuda/repos/ubuntu1804/x86_64  Release\n",
            "Hit:6 https://cloud.r-project.org/bin/linux/ubuntu bionic-cran40/ InRelease\n",
            "Hit:7 https://developer.download.nvidia.com/compute/machine-learning/repos/ubuntu1804/x86_64  Release\n",
            "Get:8 http://security.ubuntu.com/ubuntu bionic-security InRelease [88.7 kB]\n",
            "Hit:10 http://archive.ubuntu.com/ubuntu bionic InRelease\n",
            "Hit:11 http://ppa.launchpad.net/c2d4u.team/c2d4u4.0+/ubuntu bionic InRelease\n",
            "Hit:13 http://archive.ubuntu.com/ubuntu bionic-updates InRelease\n",
            "Get:14 http://archive.ubuntu.com/ubuntu bionic-backports InRelease [74.6 kB]\n",
            "Hit:15 http://ppa.launchpad.net/cran/libgit2/ubuntu bionic InRelease\n",
            "Hit:17 http://ppa.launchpad.net/deadsnakes/ppa/ubuntu bionic InRelease\n",
            "Hit:18 http://ppa.launchpad.net/graphics-drivers/ppa/ubuntu bionic InRelease\n",
            "Fetched 163 kB in 2s (79.8 kB/s)\n",
            "Reading package lists... Done\n",
            "Reading package lists... Done\n",
            "Building dependency tree       \n",
            "Reading state information... Done\n",
            "Note, selecting 'cuda-9-0' for regex 'cuda-9.0'\n",
            "Note, selecting 'libcuda-9.0-1' for regex 'cuda-9.0'\n",
            "cuda-9-0 is already the newest version (9.0.176-1).\n",
            "0 upgraded, 0 newly installed, 0 to remove and 108 not upgraded.\n"
          ],
          "name": "stdout"
        }
      ]
    },
    {
      "cell_type": "code",
      "metadata": {
        "id": "7rf9LpUU8ISI",
        "colab": {
          "base_uri": "https://localhost:8080/"
        },
        "outputId": "ff92423d-652e-45c4-f14a-0bfea1cf7b93"
      },
      "source": [
        "pip install thundersvm"
      ],
      "execution_count": null,
      "outputs": [
        {
          "output_type": "stream",
          "text": [
            "Requirement already satisfied: thundersvm in /usr/local/lib/python3.7/dist-packages (0.3.12)\n",
            "Requirement already satisfied: scipy in /usr/local/lib/python3.7/dist-packages (from thundersvm) (1.4.1)\n",
            "Requirement already satisfied: numpy in /usr/local/lib/python3.7/dist-packages (from thundersvm) (1.19.5)\n",
            "Requirement already satisfied: scikit-learn in /usr/local/lib/python3.7/dist-packages (from thundersvm) (0.22.2.post1)\n",
            "Requirement already satisfied: joblib>=0.11 in /usr/local/lib/python3.7/dist-packages (from scikit-learn->thundersvm) (1.0.1)\n"
          ],
          "name": "stdout"
        }
      ]
    },
    {
      "cell_type": "code",
      "metadata": {
        "id": "pAC14VEg8J99",
        "colab": {
          "base_uri": "https://localhost:8080/",
          "height": 35
        },
        "outputId": "577a739d-275b-40e2-9b25-0da92ecd383d"
      },
      "source": [
        "os.getcwd()"
      ],
      "execution_count": null,
      "outputs": [
        {
          "output_type": "execute_result",
          "data": {
            "application/vnd.google.colaboratory.intrinsic+json": {
              "type": "string"
            },
            "text/plain": [
              "'/content'"
            ]
          },
          "metadata": {
            "tags": []
          },
          "execution_count": 7
        }
      ]
    },
    {
      "cell_type": "code",
      "metadata": {
        "id": "LyOHxcgo8Lp4"
      },
      "source": [
        "from thundersvm import SVC"
      ],
      "execution_count": null,
      "outputs": []
    },
    {
      "cell_type": "markdown",
      "metadata": {
        "id": "XlTpgxY7iP1_"
      },
      "source": [
        "# Accuracy, precision, recall"
      ]
    },
    {
      "cell_type": "code",
      "metadata": {
        "id": "S4MWU8EaoAgU"
      },
      "source": [
        "def apr(y_real, y_pred):\n",
        "    accuracy = metrics.accuracy_score(y_real, y_pred)\n",
        "    precision = metrics.precision_score(y_real, y_pred)\n",
        "    recall = metrics.recall_score(y_real, y_pred)\n",
        "    f1 = metrics.f1_score(y_real, y_pred)\n",
        "    \n",
        "    print(f\"Accuracy:{accuracy}\")\n",
        "    print(f\"Precision:{precision}\")\n",
        "    print(f\"Recall:{recall}\")\n",
        "    print(f\"F1:{f1}\")\n",
        "    return accuracy, precision, recall, f1"
      ],
      "execution_count": null,
      "outputs": []
    },
    {
      "cell_type": "markdown",
      "metadata": {
        "id": "fmyeIC7UiHz8"
      },
      "source": [
        "# Now import the data"
      ]
    },
    {
      "cell_type": "code",
      "metadata": {
        "id": "8H6EOMI_8fR1"
      },
      "source": [
        "X_train = pd.read_csv('X_train.csv')\n",
        "y_train = pd.read_csv('y_train.csv')\n",
        "X_test = pd.read_csv('X_test.csv')\n",
        "y_test = pd.read_csv('y_test.csv')"
      ],
      "execution_count": null,
      "outputs": []
    },
    {
      "cell_type": "markdown",
      "metadata": {
        "id": "L1RsckQcihwi"
      },
      "source": [
        "# Feature engineering"
      ]
    },
    {
      "cell_type": "code",
      "metadata": {
        "id": "cRaoSRkwixCv"
      },
      "source": [
        "#function to automatically create dummies to chosen columns\n",
        "def one_hot(df, col):\n",
        "    new_df = pd.get_dummies(df, columns=col, prefix=col[0])\n",
        "    return new_df\n",
        "\n",
        "#main feature engineering function\n",
        "def feature_eng(df):\n",
        "\n",
        "    df = df.copy()\n",
        "    \n",
        "    df = sm.add_constant(df)\n",
        "\n",
        "    df['Total Charges'] = df['Total Charges'].apply(pd.to_numeric, errors = 'coerce')\n",
        "    df['Total Charges'].fillna(0, inplace = True)\n",
        "\n",
        "    \n",
        "    to_be_dummied = [\n",
        "                    'Gender',\n",
        "                    'Senior Citizen', \n",
        "                    'Partner', \n",
        "                    'Dependents',\n",
        "                    'Phone Service',\n",
        "                    'Multiple Lines', \n",
        "                    'Internet Service', \n",
        "                    'Online Security', \n",
        "                    'Online Backup', \n",
        "                    'Device Protection', \n",
        "                    'Tech Support', \n",
        "                    'Streaming TV', \n",
        "                    'Streaming Movies', \n",
        "                    'Contract', \n",
        "                    'Paperless Billing', \n",
        "                    'Payment Method'\n",
        "                     ]\n",
        "\n",
        "    feature_cols = list(df.columns)\n",
        "    \n",
        "    one_hot_targets = []\n",
        "    not_hot_cols = []\n",
        "\n",
        "    for i in feature_cols:\n",
        "        if i in to_be_dummied:\n",
        "            one_hot_targets.append(i)\n",
        "        else:\n",
        "            not_hot_cols.append(i)\n",
        "\n",
        "\n",
        "    for target in one_hot_targets:\n",
        "        new = one_hot(df[target], [target])\n",
        "        df.drop(columns=target, inplace=True)\n",
        "        feature_cols.remove(target)\n",
        "        new_list = feature_cols + list(new.columns)\n",
        "        feature_cols = new_list.copy()\n",
        "        df = pd.concat([df, new], axis=1, join=\"inner\")\n",
        "\n",
        "    #print(feature_cols)\n",
        "\n",
        "    df['Payment Method_Automatic'] = df['Payment Method_Bank transfer (automatic)'] + df['Payment Method_Credit card (automatic)']\n",
        "    df['Payment Method_Manual'] = df['Payment Method_Electronic check'] + df['Payment Method_Mailed check']\n",
        "\n",
        "    final_cols = [  \n",
        "                    #'const',\n",
        "                    'Monthly Charges', \n",
        "                    #'Total Charges', \n",
        "                    'Tenure Months', \n",
        "                    #'Churn Value',\n",
        "                    #'Gender_Female', \n",
        "                    #'Gender_Male', \n",
        "                    #'Senior Citizen_No',\n",
        "                    #'Senior Citizen_Yes', \n",
        "                    #'Partner_No', \n",
        "                    #'Partner_Yes', \n",
        "                    #'Dependents_No',\n",
        "                    'Dependents_Yes', \n",
        "                    #'Phone Service_No', \n",
        "                    'Phone Service_Yes',\n",
        "                    #'Multiple Lines_No', \n",
        "                    #'Multiple Lines_No phone service',   \n",
        "                    'Multiple Lines_Yes', \n",
        "                    #'Internet Service_DSL',\n",
        "                    'Internet Service_Fiber optic', \n",
        "                    #'Internet Service_No',\n",
        "                    #'Online Security_No', \n",
        "                    #'Online Security_No internet service',\n",
        "                    'Online Security_Yes', \n",
        "                    #'Online Backup_No',\n",
        "                    #'Online Backup_No internet service', \n",
        "                    #'Online Backup_Yes',\n",
        "                    #'Device Protection_No', \n",
        "                    #'Device Protection_No internet service',\n",
        "                    #'Device Protection_Yes', \n",
        "                    #'Tech Support_No',\n",
        "                    #'Tech Support_No internet service', \n",
        "                    'Tech Support_Yes',\n",
        "                    #'Streaming TV_No',\n",
        "                    #'Streaming TV_No internet service',\n",
        "                    #'Streaming TV_Yes', \n",
        "                    #'Streaming Movies_No',\n",
        "                    #'Streaming Movies_No internet service', \n",
        "                    #'Streaming Movies_Yes',\n",
        "                    'Contract_Month-to-month', \n",
        "                    #'Contract_One year',\n",
        "                    #'Contract_Two year',\n",
        "                    #'Paperless Billing_No', \n",
        "                    'Paperless Billing_Yes',\n",
        "                    #'Payment Method_Bank transfer (automatic)',\n",
        "                    #'Payment Method_Credit card (automatic)',\n",
        "                    #'Payment Method_Electronic check', \n",
        "                    #'Payment Method_Mailed check',\n",
        "                    #'Payment Method_Automatic',\n",
        "                    #'Payment Method_Manual'\n",
        "                    ]\n",
        "\n",
        "    for col in final_cols: \n",
        "        if col not in df.columns:\n",
        "            df[col] = 0\n",
        "\n",
        "    df = df[final_cols]\n",
        "\n",
        "    return df"
      ],
      "execution_count": null,
      "outputs": []
    },
    {
      "cell_type": "code",
      "metadata": {
        "id": "mLLGIglIi7pw"
      },
      "source": [
        "#applying the feature engineering\n",
        "X_train_eng = feature_eng(X_train)\n",
        "X_test_eng = feature_eng(X_test)"
      ],
      "execution_count": null,
      "outputs": []
    },
    {
      "cell_type": "markdown",
      "metadata": {
        "id": "j8byJ25yiypD"
      },
      "source": [
        "# Scaler"
      ]
    },
    {
      "cell_type": "code",
      "metadata": {
        "id": "_ZAk9C_2isbA"
      },
      "source": [
        "scaler = MinMaxScaler()"
      ],
      "execution_count": null,
      "outputs": []
    },
    {
      "cell_type": "code",
      "metadata": {
        "id": "74li-bjbisNX"
      },
      "source": [
        "# this code serves to separate the constant from the dataframe\n",
        "# if the consant is scaled it is reduced to 0 and becomes useless\n",
        "# here we also re-index the scaled dataframe since it loses the index when scaled\n",
        "if 'const' in list(X_train_eng.columns) and 'const' in list(X_test_eng.columns):\n",
        "\n",
        "    # Fit and scale the training data\n",
        "    c = pd.DataFrame(X_train_eng['const'])\n",
        "    c.reset_index(drop = True, inplace = True)\n",
        "\n",
        "    X_train_eng.drop(columns = 'const', inplace = True)\n",
        "\n",
        "    scaled_X_train = scaler.fit_transform(X_train_eng)\n",
        "\n",
        "    precols = list(X_train_eng.columns)\n",
        "    scaled_X_train = pd.DataFrame(scaled_X_train, columns= precols)\n",
        "\n",
        "    scaled_X_train = pd.concat([c,scaled_X_train], axis = 1)\n",
        "\n",
        "    scaled_X_train.set_index(X_train_eng.reset_index()['index'], inplace = True)\n",
        "\n",
        "    # Scale the test data \n",
        "\n",
        "    k = pd.DataFrame(X_test_eng['const'])\n",
        "    k.reset_index(drop = True, inplace = True)\n",
        "\n",
        "    X_test_eng.drop(columns = 'const', inplace = True)\n",
        "\n",
        "    scaled_X_test = scaler.transform(X_test_eng)\n",
        "\n",
        "    scaled_X_test = pd.DataFrame(scaled_X_test, columns= precols)\n",
        "\n",
        "    scaled_X_test = pd.concat([k,scaled_X_test], axis = 1)\n",
        "\n",
        "    scaled_X_test.set_index(X_test_eng.reset_index()['index'], inplace = True)\n",
        "\n",
        "else:\n",
        "    precols = list(X_train_eng.columns)\n",
        "    \n",
        "    scaled_X_train = scaler.fit_transform(X_train_eng)\n",
        "    scaled_X_train = pd.DataFrame(scaled_X_train, columns= precols)\n",
        "    \n",
        "    scaled_X_train.set_index(X_train_eng.reset_index()['index'], inplace = True)\n",
        "\n",
        "    scaled_X_test = scaler.transform(X_test_eng)\n",
        "    scaled_X_test = pd.DataFrame(scaled_X_test, columns= precols)\n",
        "    \n",
        "    scaled_X_test.set_index(X_test_eng.reset_index()['index'], inplace = True)"
      ],
      "execution_count": null,
      "outputs": []
    },
    {
      "cell_type": "markdown",
      "metadata": {
        "id": "rvWqkeyf78-h"
      },
      "source": [
        "# Correlation matrix"
      ]
    },
    {
      "cell_type": "code",
      "metadata": {
        "colab": {
          "base_uri": "https://localhost:8080/",
          "height": 924
        },
        "id": "LuepqhIarRZT",
        "outputId": "68aa0dc4-2fb8-4278-ba5b-9f469f511b91"
      },
      "source": [
        "plt.figure(figsize=(15,15))\n",
        "sns.heatmap(scaled_X_train.corr(), annot = True)"
      ],
      "execution_count": null,
      "outputs": [
        {
          "output_type": "execute_result",
          "data": {
            "text/plain": [
              "<matplotlib.axes._subplots.AxesSubplot at 0x7fda84d56390>"
            ]
          },
          "metadata": {
            "tags": []
          },
          "execution_count": 31
        },
        {
          "output_type": "display_data",
          "data": {
            "image/png": "[encoded data removed]",
            "text/plain": [
              "<Figure size 1080x1080 with 2 Axes>"
            ]
          },
          "metadata": {
            "tags": [],
            "needs_background": "light"
          }
        }
      ]
    },
    {
      "cell_type": "markdown",
      "metadata": {
        "id": "YowUGkYQioJE"
      },
      "source": [
        "# SVC"
      ]
    },
    {
      "cell_type": "code",
      "metadata": {
        "id": "GDxIE9NJMMTX"
      },
      "source": [
        "# Kernel - 'linear', 'poly', 'rbf', 'sigmoid', 'precomputed'\n",
        "# gamma : {'scale', 'auto'} or float, optional (default='scale')  Kernel coefficient for 'rbf', 'poly' and 'sigmoid'.\n",
        "# C: A float"
      ],
      "execution_count": null,
      "outputs": []
    },
    {
      "cell_type": "code",
      "metadata": {
        "colab": {
          "base_uri": "https://localhost:8080/"
        },
        "id": "KwnBeN3nwvo6",
        "outputId": "53e0fd67-89c3-4e5f-ce4f-04f401a864f5"
      },
      "source": [
        "feature_cols = list(scaled_X_train.columns)\n",
        "feature_cols"
      ],
      "execution_count": null,
      "outputs": [
        {
          "output_type": "execute_result",
          "data": {
            "text/plain": [
              "['Monthly Charges',\n",
              " 'Tenure Months',\n",
              " 'Dependents_Yes',\n",
              " 'Phone Service_Yes',\n",
              " 'Multiple Lines_Yes',\n",
              " 'Internet Service_Fiber optic',\n",
              " 'Online Security_Yes',\n",
              " 'Tech Support_Yes',\n",
              " 'Contract_Month-to-month',\n",
              " 'Paperless Billing_Yes']"
            ]
          },
          "metadata": {
            "tags": []
          },
          "execution_count": 107
        }
      ]
    },
    {
      "cell_type": "markdown",
      "metadata": {
        "id": "asJX6Cwvzeeo"
      },
      "source": [
        "## GridSearch Linear kernel"
      ]
    },
    {
      "cell_type": "code",
      "metadata": {
        "id": "4U_G9JyE9DiT"
      },
      "source": [
        "#this is just for reference and syntax\n",
        "#tuned_parameters = [{'kernel': ['rbf','poly','sigmoid'], 'gamma': [1e-2, 5e-3, 1e-3, 5e-4, 1e-4, 'auto'],'C': [1, 10, 100, 1000, 10000]}]"
      ],
      "execution_count": null,
      "outputs": []
    },
    {
      "cell_type": "code",
      "metadata": {
        "id": "OFNSXc5sfoLD"
      },
      "source": [
        "# creating list of parameter values\n",
        "GS_lin_tuned_parameters = [{'kernel': ['linear'], 'C': [0.01, 0.1, 1, 10, 20, 30, 40, 50, 100, 1000]}]"
      ],
      "execution_count": null,
      "outputs": []
    },
    {
      "cell_type": "code",
      "metadata": {
        "id": "SBLqbrml9HQT"
      },
      "source": [
        "# creating GridSearch\n",
        "GS_lin_train = GridSearchCV(SVC(), GS_lin_tuned_parameters, scoring='accuracy')"
      ],
      "execution_count": null,
      "outputs": []
    },
    {
      "cell_type": "code",
      "metadata": {
        "id": "w6VxIcao9HwX",
        "colab": {
          "base_uri": "https://localhost:8080/"
        },
        "outputId": "9cd9d4f8-b47f-47fa-fc9a-bb9649d8bffb"
      },
      "source": [
        "#fitting best model\n",
        "GS_lin_train.fit(scaled_X_train, y_train)"
      ],
      "execution_count": null,
      "outputs": [
        {
          "output_type": "execute_result",
          "data": {
            "text/plain": [
              "GridSearchCV(cv=None, error_score=nan,\n",
              "             estimator=SVC(C=1.0, cache_size=None, class_weight=None, coef0=0.0,\n",
              "                           decision_function_shape='ovo', degree=3,\n",
              "                           gamma='auto', gpu_id=0, kernel='rbf', max_iter=-1,\n",
              "                           max_mem_size=-1, n_jobs=-1, probability=False,\n",
              "                           random_state=None, shrinking=False, tol=0.001,\n",
              "                           verbose=False),\n",
              "             iid='deprecated', n_jobs=None,\n",
              "             param_grid=[{'C': [0.01, 0.1, 1, 10, 20, 30, 40, 50, 100, 1000],\n",
              "                          'kernel': ['linear']}],\n",
              "             pre_dispatch='2*n_jobs', refit=True, return_train_score=False,\n",
              "             scoring='accuracy', verbose=0)"
            ]
          },
          "metadata": {
            "tags": []
          },
          "execution_count": 19
        }
      ]
    },
    {
      "cell_type": "code",
      "metadata": {
        "id": "Yv1xc3T19Kfs",
        "colab": {
          "base_uri": "https://localhost:8080/"
        },
        "outputId": "6e148348-24aa-4fa0-e2e6-3941a023f1f8"
      },
      "source": [
        "#best model parameters\n",
        "GS_lin_train.best_params_"
      ],
      "execution_count": null,
      "outputs": [
        {
          "output_type": "execute_result",
          "data": {
            "text/plain": [
              "{'C': 100, 'kernel': 'linear'}"
            ]
          },
          "metadata": {
            "tags": []
          },
          "execution_count": 20
        }
      ]
    },
    {
      "cell_type": "code",
      "metadata": {
        "colab": {
          "base_uri": "https://localhost:8080/"
        },
        "id": "gV31rN-d8-Lf",
        "outputId": "5c969240-5f23-48b7-ac57-f749cf83e54e"
      },
      "source": [
        "#train scores\n",
        "print(classification_report(y_train, GS_lin_train.predict(scaled_X_train)))"
      ],
      "execution_count": null,
      "outputs": [
        {
          "output_type": "stream",
          "text": [
            "              precision    recall  f1-score   support\n",
            "\n",
            "           0       0.85      0.89      0.87      3903\n",
            "           1       0.65      0.56      0.60      1379\n",
            "\n",
            "    accuracy                           0.81      5282\n",
            "   macro avg       0.75      0.73      0.74      5282\n",
            "weighted avg       0.80      0.81      0.80      5282\n",
            "\n"
          ],
          "name": "stdout"
        }
      ]
    },
    {
      "cell_type": "code",
      "metadata": {
        "colab": {
          "base_uri": "https://localhost:8080/"
        },
        "id": "dMoXipS38-h9",
        "outputId": "12c3d20a-e6e4-47a0-814c-f7ee3a81a88e"
      },
      "source": [
        "#test scores\n",
        "print(classification_report(y_test, GS_lin_train.predict(scaled_X_test)))"
      ],
      "execution_count": null,
      "outputs": [
        {
          "output_type": "stream",
          "text": [
            "              precision    recall  f1-score   support\n",
            "\n",
            "           0       0.84      0.87      0.86      1271\n",
            "           1       0.64      0.58      0.61       490\n",
            "\n",
            "    accuracy                           0.79      1761\n",
            "   macro avg       0.74      0.73      0.73      1761\n",
            "weighted avg       0.79      0.79      0.79      1761\n",
            "\n"
          ],
          "name": "stdout"
        }
      ]
    },
    {
      "cell_type": "markdown",
      "metadata": {
        "id": "PidioJe5zUW3"
      },
      "source": [
        "### Linear kernel"
      ]
    },
    {
      "cell_type": "code",
      "metadata": {
        "id": "-hcWMStn8aQp",
        "colab": {
          "base_uri": "https://localhost:8080/"
        },
        "outputId": "2d11c024-5d98-4998-cf85-c49990aa83a7"
      },
      "source": [
        "#running best model from GridSearch alone\n",
        "lin_train = SVC(kernel='linear', \n",
        "                C=100)\n",
        "\n",
        "lin_train.fit(scaled_X_train, y_train)"
      ],
      "execution_count": null,
      "outputs": [
        {
          "output_type": "execute_result",
          "data": {
            "text/plain": [
              "SVC(C=100, cache_size=None, class_weight={}, coef0=0.0,\n",
              "    decision_function_shape='ovo', degree=3, gamma='auto', gpu_id=0,\n",
              "    kernel='linear', max_iter=-1, max_mem_size=-1, n_jobs=-1, probability=False,\n",
              "    random_state=None, shrinking=False, tol=0.001, verbose=False)"
            ]
          },
          "metadata": {
            "tags": []
          },
          "execution_count": 23
        }
      ]
    },
    {
      "cell_type": "code",
      "metadata": {
        "id": "Gvi2yDeTojxM"
      },
      "source": [
        "#list of linear kernel coefficients\n",
        "coef_list = list(lin_train.coef_[0][i] for i in range(len(lin_train.coef_[0])))\n",
        "coefs = dict(zip(feature_cols, coef_list))\n"
      ],
      "execution_count": null,
      "outputs": []
    },
    {
      "cell_type": "code",
      "metadata": {
        "colab": {
          "base_uri": "https://localhost:8080/"
        },
        "id": "dvBOv7WywWVX",
        "outputId": "15f14f40-7d01-49eb-9043-4fb8fb6df046"
      },
      "source": [
        "#list of coefficients in increasing order of importance\n",
        "a = sorted(coefs.items(), key=lambda x: abs(x[1]))    \n",
        "a"
      ],
      "execution_count": null,
      "outputs": [
        {
          "output_type": "execute_result",
          "data": {
            "text/plain": [
              "[('Multiple Lines_Yes', -0.16364715993404388),\n",
              " ('Contract_Month-to-month', -0.3701300024986267),\n",
              " ('Tech Support_Yes', 0.39325717091560364),\n",
              " ('Online Security_Yes', 0.5452601313591003),\n",
              " ('Internet Service_Fiber optic', -0.8417264223098755),\n",
              " ('Phone Service_Yes', 1.0315361022949219),\n",
              " ('Dependents_Yes', 1.134164810180664),\n",
              " ('Monthly Charges', -1.631198525428772),\n",
              " ('Tenure Months', 2.558936834335327)]"
            ]
          },
          "metadata": {
            "tags": []
          },
          "execution_count": 25
        }
      ]
    },
    {
      "cell_type": "code",
      "metadata": {
        "id": "XPvGL5YQ8cVW",
        "colab": {
          "base_uri": "https://localhost:8080/"
        },
        "outputId": "68b817fb-0084-43ca-f12f-20c53cee2ef4"
      },
      "source": [
        "#train scores\n",
        "apr(y_train, lin_train.predict(scaled_X_train))"
      ],
      "execution_count": null,
      "outputs": [
        {
          "output_type": "stream",
          "text": [
            "Accuracy:0.8055660734570238\n",
            "Precision:0.6476510067114094\n",
            "Recall:0.5598259608411893\n",
            "F1:0.6005445352003111\n"
          ],
          "name": "stdout"
        },
        {
          "output_type": "execute_result",
          "data": {
            "text/plain": [
              "(0.8055660734570238,\n",
              " 0.6476510067114094,\n",
              " 0.5598259608411893,\n",
              " 0.6005445352003111)"
            ]
          },
          "metadata": {
            "tags": []
          },
          "execution_count": 26
        }
      ]
    },
    {
      "cell_type": "code",
      "metadata": {
        "id": "s2pwoPLW87RI"
      },
      "source": [
        "#predicting y values for test\n",
        "X_test['Pred_Y'] = lin_train.predict(scaled_X_test)"
      ],
      "execution_count": null,
      "outputs": []
    },
    {
      "cell_type": "code",
      "metadata": {
        "id": "hQsQ1jon8_KC",
        "colab": {
          "base_uri": "https://localhost:8080/"
        },
        "outputId": "827bd89f-9185-4c3f-a48b-d6e2249c912c"
      },
      "source": [
        "#test scores\n",
        "apr(y_test, lin_train.predict(scaled_X_test))"
      ],
      "execution_count": null,
      "outputs": [
        {
          "output_type": "stream",
          "text": [
            "Accuracy:0.7921635434412265\n",
            "Precision:0.6396396396396397\n",
            "Recall:0.5795918367346938\n",
            "F1:0.60813704496788\n"
          ],
          "name": "stdout"
        },
        {
          "output_type": "execute_result",
          "data": {
            "text/plain": [
              "(0.7921635434412265, 0.6396396396396397, 0.5795918367346938, 0.60813704496788)"
            ]
          },
          "metadata": {
            "tags": []
          },
          "execution_count": 28
        }
      ]
    },
    {
      "cell_type": "markdown",
      "metadata": {
        "id": "wiTIwm3I0VSi"
      },
      "source": [
        "## GridSearch Non-linear"
      ]
    },
    {
      "cell_type": "code",
      "metadata": {
        "id": "Ut74jBY10VSj"
      },
      "source": [
        "#this is just for reference and syntax\n",
        "#tuned_parameters = [{'kernel': ['rbf','poly','sigmoid'], 'gamma': [1e-2, 5e-3, 1e-3, 5e-4, 1e-4, 'auto'],'C': [1, 10, 100, 1000, 10000]}]"
      ],
      "execution_count": null,
      "outputs": []
    },
    {
      "cell_type": "code",
      "metadata": {
        "id": "ZpjvUj_a0VSj"
      },
      "source": [
        "# choosing list of parameter values\n",
        "GS_tuned_parameters = [{'kernel': ['rbf','sigmoid'], 'gamma': ['auto','scale'],'C': [1, 5, 10, 15, 20, 25, 30, 35, 40, 45, 50]}]"
      ],
      "execution_count": null,
      "outputs": []
    },
    {
      "cell_type": "code",
      "metadata": {
        "id": "E1XkrY1w0VSj"
      },
      "source": [
        "#creating GridSearch\n",
        "GS_train = GridSearchCV(SVC(), GS_tuned_parameters, scoring='accuracy')"
      ],
      "execution_count": null,
      "outputs": []
    },
    {
      "cell_type": "code",
      "metadata": {
        "id": "le_gCa4D0VSk",
        "colab": {
          "base_uri": "https://localhost:8080/"
        },
        "outputId": "86990738-5faa-4625-9e2c-accad961e419"
      },
      "source": [
        "#fitting all combinations of parameters\n",
        "GS_train.fit(scaled_X_train, y_train)"
      ],
      "execution_count": null,
      "outputs": [
        {
          "output_type": "execute_result",
          "data": {
            "text/plain": [
              "GridSearchCV(cv=None, error_score=nan,\n",
              "             estimator=SVC(C=1.0, cache_size=None, class_weight=None, coef0=0.0,\n",
              "                           decision_function_shape='ovo', degree=3,\n",
              "                           gamma='auto', gpu_id=0, kernel='rbf', max_iter=-1,\n",
              "                           max_mem_size=-1, n_jobs=-1, probability=False,\n",
              "                           random_state=None, shrinking=False, tol=0.001,\n",
              "                           verbose=False),\n",
              "             iid='deprecated', n_jobs=None,\n",
              "             param_grid=[{'C': [1, 5, 10, 15, 20, 25, 30, 35, 40, 45, 50],\n",
              "                          'gamma': ['auto', 'scale'],\n",
              "                          'kernel': ['rbf', 'sigmoid']}],\n",
              "             pre_dispatch='2*n_jobs', refit=True, return_train_score=False,\n",
              "             scoring='accuracy', verbose=0)"
            ]
          },
          "metadata": {
            "tags": []
          },
          "execution_count": 110
        }
      ]
    },
    {
      "cell_type": "code",
      "metadata": {
        "colab": {
          "base_uri": "https://localhost:8080/"
        },
        "id": "fL4bHmex0VSm",
        "outputId": "25431813-0d71-4e55-a520-1d9a71799adb"
      },
      "source": [
        "#best model parameters\n",
        "GS_train.best_params_"
      ],
      "execution_count": null,
      "outputs": [
        {
          "output_type": "execute_result",
          "data": {
            "text/plain": [
              "{'C': 10, 'gamma': 'auto', 'kernel': 'rbf'}"
            ]
          },
          "metadata": {
            "tags": []
          },
          "execution_count": 111
        }
      ]
    },
    {
      "cell_type": "code",
      "metadata": {
        "colab": {
          "base_uri": "https://localhost:8080/"
        },
        "id": "SQdkub840VSm",
        "outputId": "3821e3e2-10fc-4be6-b7a0-c643cc41f23d"
      },
      "source": [
        "#train scores\n",
        "print(classification_report(y_train, GS_train.predict(scaled_X_train)))"
      ],
      "execution_count": null,
      "outputs": [
        {
          "output_type": "stream",
          "text": [
            "              precision    recall  f1-score   support\n",
            "\n",
            "           0       0.85      0.90      0.88      3903\n",
            "           1       0.67      0.54      0.60      1379\n",
            "\n",
            "    accuracy                           0.81      5282\n",
            "   macro avg       0.76      0.72      0.74      5282\n",
            "weighted avg       0.80      0.81      0.80      5282\n",
            "\n"
          ],
          "name": "stdout"
        }
      ]
    },
    {
      "cell_type": "code",
      "metadata": {
        "colab": {
          "base_uri": "https://localhost:8080/"
        },
        "id": "e309twdc8nfQ",
        "outputId": "5d3ea3c4-b770-4985-803b-721cc2fd480a"
      },
      "source": [
        "#test scores\n",
        "print(classification_report(y_test, GS_train.predict(scaled_X_test)))"
      ],
      "execution_count": null,
      "outputs": [
        {
          "output_type": "stream",
          "text": [
            "              precision    recall  f1-score   support\n",
            "\n",
            "           0       0.84      0.89      0.86      1271\n",
            "           1       0.66      0.56      0.61       490\n",
            "\n",
            "    accuracy                           0.80      1761\n",
            "   macro avg       0.75      0.72      0.73      1761\n",
            "weighted avg       0.79      0.80      0.79      1761\n",
            "\n"
          ],
          "name": "stdout"
        }
      ]
    },
    {
      "cell_type": "markdown",
      "metadata": {
        "id": "lwBa6KFizXmb"
      },
      "source": [
        "### Non-linear kernel"
      ]
    },
    {
      "cell_type": "code",
      "metadata": {
        "id": "UojRaf479Bxw",
        "colab": {
          "base_uri": "https://localhost:8080/"
        },
        "outputId": "b91d37a0-3ea0-4e0f-a588-0521402fc2e2"
      },
      "source": [
        "#running best model from GridSearch alone\n",
        "train = SVC(gamma='auto'\n",
        "              , kernel='rbf'\n",
        "              , C=10\n",
        "              , probability = True)\n",
        "\n",
        "train.fit(scaled_X_train, y_train)"
      ],
      "execution_count": null,
      "outputs": [
        {
          "output_type": "execute_result",
          "data": {
            "text/plain": [
              "SVC(C=10, cache_size=None, class_weight={}, coef0=0.0,\n",
              "    decision_function_shape='ovo', degree=3, gamma='auto', gpu_id=0,\n",
              "    kernel='rbf', max_iter=-1, max_mem_size=-1, n_jobs=-1, probability=True,\n",
              "    random_state=None, shrinking=False, tol=0.001, verbose=False)"
            ]
          },
          "metadata": {
            "tags": []
          },
          "execution_count": 114
        }
      ]
    },
    {
      "cell_type": "code",
      "metadata": {
        "colab": {
          "base_uri": "https://localhost:8080/"
        },
        "id": "NDZhlV5xz-LI",
        "outputId": "2eca5d97-20e1-4c06-f4da-d610d6238d29"
      },
      "source": [
        "#train scores\n",
        "apr(y_train, train.predict(scaled_X_train))"
      ],
      "execution_count": null,
      "outputs": [
        {
          "output_type": "stream",
          "text": [
            "Accuracy:0.8131389625141991\n",
            "Precision:0.6956087824351297\n",
            "Recall:0.5054387237128354\n",
            "F1:0.5854682906341874\n"
          ],
          "name": "stdout"
        },
        {
          "output_type": "execute_result",
          "data": {
            "text/plain": [
              "(0.8131389625141991,\n",
              " 0.6956087824351297,\n",
              " 0.5054387237128354,\n",
              " 0.5854682906341874)"
            ]
          },
          "metadata": {
            "tags": []
          },
          "execution_count": 115
        }
      ]
    },
    {
      "cell_type": "code",
      "metadata": {
        "id": "1QGRu-UF0GcW"
      },
      "source": [
        "#predicting test y values\n",
        "X_test['Pred_Y'] = train.predict(scaled_X_test)"
      ],
      "execution_count": null,
      "outputs": []
    },
    {
      "cell_type": "code",
      "metadata": {
        "colab": {
          "base_uri": "https://localhost:8080/"
        },
        "id": "LPQyPvl70Ho5",
        "outputId": "546d7ef0-3fa9-4c57-9f17-251880e7d656"
      },
      "source": [
        "#test scores\n",
        "apr(y_test, train.predict(scaled_X_test))"
      ],
      "execution_count": null,
      "outputs": [
        {
          "output_type": "stream",
          "text": [
            "Accuracy:0.8018171493469619\n",
            "Precision:0.6860158311345647\n",
            "Recall:0.5306122448979592\n",
            "F1:0.5983889528193326\n"
          ],
          "name": "stdout"
        },
        {
          "output_type": "execute_result",
          "data": {
            "text/plain": [
              "(0.8018171493469619,\n",
              " 0.6860158311345647,\n",
              " 0.5306122448979592,\n",
              " 0.5983889528193326)"
            ]
          },
          "metadata": {
            "tags": []
          },
          "execution_count": 117
        }
      ]
    },
    {
      "cell_type": "markdown",
      "metadata": {
        "id": "-7cf0rC2_OQG"
      },
      "source": [
        "### Permutation importance"
      ]
    },
    {
      "cell_type": "code",
      "metadata": {
        "id": "4g--27ps-aA9"
      },
      "source": [
        "# calculating feature importances\n",
        "perm_importance = permutation_importance(train, scaled_X_train, y_train)"
      ],
      "execution_count": null,
      "outputs": []
    },
    {
      "cell_type": "code",
      "metadata": {
        "id": "Lv177pmx_Rjs"
      },
      "source": [
        "features = np.array(feature_cols)"
      ],
      "execution_count": null,
      "outputs": []
    },
    {
      "cell_type": "code",
      "metadata": {
        "colab": {
          "base_uri": "https://localhost:8080/",
          "height": 296
        },
        "id": "j7eju7V8_W14",
        "outputId": "90f59f51-dcd8-45f4-8fba-e1ede87dd732"
      },
      "source": [
        "#plotting feature importances\n",
        "sorted_idx = perm_importance.importances_mean.argsort()\n",
        "plt.barh(features[sorted_idx], perm_importance.importances_mean[sorted_idx])\n",
        "plt.xlabel(\"Permutation Importance\")"
      ],
      "execution_count": null,
      "outputs": [
        {
          "output_type": "execute_result",
          "data": {
            "text/plain": [
              "Text(0.5, 0, 'Permutation Importance')"
            ]
          },
          "metadata": {
            "tags": []
          },
          "execution_count": 120
        },
        {
          "output_type": "display_data",
          "data": {
            "image/png": "[encoded data removed]",
            "text/plain": [
              "<Figure size 432x288 with 1 Axes>"
            ]
          },
          "metadata": {
            "tags": [],
            "needs_background": "light"
          }
        }
      ]
    },
    {
      "cell_type": "markdown",
      "metadata": {
        "id": "4tV9sXx5cqQ0"
      },
      "source": [
        "# Trying predict_proba"
      ]
    },
    {
      "cell_type": "code",
      "metadata": {
        "id": "7nD_EY7qcuBQ"
      },
      "source": [
        "# importing original data\n",
        "myDF = pd.read_excel('customer_churn.xlsx', header = 0)"
      ],
      "execution_count": null,
      "outputs": []
    },
    {
      "cell_type": "code",
      "metadata": {
        "id": "nAwV7YBTc0uy"
      },
      "source": [
        "churn = myDF.copy()\n",
        "#removing useless columns\n",
        "try:\n",
        "    churn.drop(columns = ['Churn Label','CustomerID', 'Count', 'Country', 'State','City','Lat Long', 'Latitude', 'Longitude', 'Churn Reason'], inplace = True)\n",
        "except:\n",
        "    print('Already dropped!')"
      ],
      "execution_count": null,
      "outputs": []
    },
    {
      "cell_type": "code",
      "metadata": {
        "colab": {
          "base_uri": "https://localhost:8080/",
          "height": 484
        },
        "id": "qe7LFKkhdRHa",
        "outputId": "3a20c432-569c-445d-bf9b-c5208d3a24f7"
      },
      "source": [
        "# applying scaler\n",
        "loyal = churn[churn['Churn Value'] == 0]\n",
        "loyal_eng = feature_eng(loyal)\n",
        "\n",
        "loyal_cols = list(loyal_eng.columns)\n",
        "    \n",
        "scaled_loyal_eng = scaler.transform(loyal_eng)\n",
        "scaled_loyal_eng = pd.DataFrame(scaled_loyal_eng, columns= loyal_cols)\n",
        "    \n",
        "scaled_loyal_eng.set_index(loyal_eng.reset_index()['index'], inplace = True)\n",
        "\n",
        "scaled_loyal_eng"
      ],
      "execution_count": null,
      "outputs": [
        {
          "output_type": "execute_result",
          "data": {
            "text/html": [
              "<div>\n",
              "<style scoped>\n",
              "    .dataframe tbody tr th:only-of-type {\n",
              "        vertical-align: middle;\n",
              "    }\n",
              "\n",
              "    .dataframe tbody tr th {\n",
              "        vertical-align: top;\n",
              "    }\n",
              "\n",
              "    .dataframe thead th {\n",
              "        text-align: right;\n",
              "    }\n",
              "</style>\n",
              "<table border=\"1\" class=\"dataframe\">\n",
              "  <thead>\n",
              "    <tr style=\"text-align: right;\">\n",
              "      <th></th>\n",
              "      <th>Monthly Charges</th>\n",
              "      <th>Tenure Months</th>\n",
              "      <th>Dependents_Yes</th>\n",
              "      <th>Phone Service_Yes</th>\n",
              "      <th>Multiple Lines_Yes</th>\n",
              "      <th>Internet Service_Fiber optic</th>\n",
              "      <th>Online Security_Yes</th>\n",
              "      <th>Tech Support_Yes</th>\n",
              "      <th>Contract_Month-to-month</th>\n",
              "      <th>Paperless Billing_Yes</th>\n",
              "    </tr>\n",
              "    <tr>\n",
              "      <th>index</th>\n",
              "      <th></th>\n",
              "      <th></th>\n",
              "      <th></th>\n",
              "      <th></th>\n",
              "      <th></th>\n",
              "      <th></th>\n",
              "      <th></th>\n",
              "      <th></th>\n",
              "      <th></th>\n",
              "      <th></th>\n",
              "    </tr>\n",
              "  </thead>\n",
              "  <tbody>\n",
              "    <tr>\n",
              "      <th>1869</th>\n",
              "      <td>0.115423</td>\n",
              "      <td>0.013889</td>\n",
              "      <td>0.0</td>\n",
              "      <td>0.0</td>\n",
              "      <td>0.0</td>\n",
              "      <td>0.0</td>\n",
              "      <td>0.0</td>\n",
              "      <td>0.0</td>\n",
              "      <td>1.0</td>\n",
              "      <td>1.0</td>\n",
              "    </tr>\n",
              "    <tr>\n",
              "      <th>1870</th>\n",
              "      <td>0.385075</td>\n",
              "      <td>0.472222</td>\n",
              "      <td>0.0</td>\n",
              "      <td>1.0</td>\n",
              "      <td>0.0</td>\n",
              "      <td>0.0</td>\n",
              "      <td>1.0</td>\n",
              "      <td>0.0</td>\n",
              "      <td>0.0</td>\n",
              "      <td>0.0</td>\n",
              "    </tr>\n",
              "    <tr>\n",
              "      <th>1871</th>\n",
              "      <td>0.239303</td>\n",
              "      <td>0.625000</td>\n",
              "      <td>0.0</td>\n",
              "      <td>0.0</td>\n",
              "      <td>0.0</td>\n",
              "      <td>0.0</td>\n",
              "      <td>1.0</td>\n",
              "      <td>1.0</td>\n",
              "      <td>0.0</td>\n",
              "      <td>0.0</td>\n",
              "    </tr>\n",
              "    <tr>\n",
              "      <th>1872</th>\n",
              "      <td>0.704975</td>\n",
              "      <td>0.305556</td>\n",
              "      <td>1.0</td>\n",
              "      <td>1.0</td>\n",
              "      <td>1.0</td>\n",
              "      <td>1.0</td>\n",
              "      <td>0.0</td>\n",
              "      <td>0.0</td>\n",
              "      <td>1.0</td>\n",
              "      <td>1.0</td>\n",
              "    </tr>\n",
              "    <tr>\n",
              "      <th>1873</th>\n",
              "      <td>0.114428</td>\n",
              "      <td>0.138889</td>\n",
              "      <td>0.0</td>\n",
              "      <td>0.0</td>\n",
              "      <td>0.0</td>\n",
              "      <td>0.0</td>\n",
              "      <td>1.0</td>\n",
              "      <td>0.0</td>\n",
              "      <td>1.0</td>\n",
              "      <td>0.0</td>\n",
              "    </tr>\n",
              "    <tr>\n",
              "      <th>...</th>\n",
              "      <td>...</td>\n",
              "      <td>...</td>\n",
              "      <td>...</td>\n",
              "      <td>...</td>\n",
              "      <td>...</td>\n",
              "      <td>...</td>\n",
              "      <td>...</td>\n",
              "      <td>...</td>\n",
              "      <td>...</td>\n",
              "      <td>...</td>\n",
              "    </tr>\n",
              "    <tr>\n",
              "      <th>7038</th>\n",
              "      <td>0.028856</td>\n",
              "      <td>1.000000</td>\n",
              "      <td>0.0</td>\n",
              "      <td>1.0</td>\n",
              "      <td>0.0</td>\n",
              "      <td>0.0</td>\n",
              "      <td>0.0</td>\n",
              "      <td>0.0</td>\n",
              "      <td>0.0</td>\n",
              "      <td>1.0</td>\n",
              "    </tr>\n",
              "    <tr>\n",
              "      <th>7039</th>\n",
              "      <td>0.662189</td>\n",
              "      <td>0.333333</td>\n",
              "      <td>1.0</td>\n",
              "      <td>1.0</td>\n",
              "      <td>1.0</td>\n",
              "      <td>0.0</td>\n",
              "      <td>1.0</td>\n",
              "      <td>1.0</td>\n",
              "      <td>0.0</td>\n",
              "      <td>1.0</td>\n",
              "    </tr>\n",
              "    <tr>\n",
              "      <th>7040</th>\n",
              "      <td>0.845274</td>\n",
              "      <td>1.000000</td>\n",
              "      <td>1.0</td>\n",
              "      <td>1.0</td>\n",
              "      <td>1.0</td>\n",
              "      <td>1.0</td>\n",
              "      <td>0.0</td>\n",
              "      <td>0.0</td>\n",
              "      <td>0.0</td>\n",
              "      <td>1.0</td>\n",
              "    </tr>\n",
              "    <tr>\n",
              "      <th>7041</th>\n",
              "      <td>0.112935</td>\n",
              "      <td>0.152778</td>\n",
              "      <td>1.0</td>\n",
              "      <td>0.0</td>\n",
              "      <td>0.0</td>\n",
              "      <td>0.0</td>\n",
              "      <td>1.0</td>\n",
              "      <td>0.0</td>\n",
              "      <td>1.0</td>\n",
              "      <td>1.0</td>\n",
              "    </tr>\n",
              "    <tr>\n",
              "      <th>7042</th>\n",
              "      <td>0.869652</td>\n",
              "      <td>0.916667</td>\n",
              "      <td>0.0</td>\n",
              "      <td>1.0</td>\n",
              "      <td>0.0</td>\n",
              "      <td>1.0</td>\n",
              "      <td>1.0</td>\n",
              "      <td>1.0</td>\n",
              "      <td>0.0</td>\n",
              "      <td>1.0</td>\n",
              "    </tr>\n",
              "  </tbody>\n",
              "</table>\n",
              "<p>5174 rows × 10 columns</p>\n",
              "</div>"
            ],
            "text/plain": [
              "       Monthly Charges  ...  Paperless Billing_Yes\n",
              "index                   ...                       \n",
              "1869          0.115423  ...                    1.0\n",
              "1870          0.385075  ...                    0.0\n",
              "1871          0.239303  ...                    0.0\n",
              "1872          0.704975  ...                    1.0\n",
              "1873          0.114428  ...                    0.0\n",
              "...                ...  ...                    ...\n",
              "7038          0.028856  ...                    1.0\n",
              "7039          0.662189  ...                    1.0\n",
              "7040          0.845274  ...                    1.0\n",
              "7041          0.112935  ...                    1.0\n",
              "7042          0.869652  ...                    1.0\n",
              "\n",
              "[5174 rows x 10 columns]"
            ]
          },
          "metadata": {
            "tags": []
          },
          "execution_count": 123
        }
      ]
    },
    {
      "cell_type": "code",
      "metadata": {
        "id": "b-HTEjpBc7bc"
      },
      "source": [
        "#adding back CustomerID to the dataframe\n",
        "loyal_id = myDF['CustomerID'][myDF['Churn Value'] == 0]\n",
        "test = scaled_loyal_eng.join(loyal_id)\n",
        "test.sort_values('Churn Probability', ascending= False, inplace = True)"
      ],
      "execution_count": null,
      "outputs": []
    },
    {
      "cell_type": "code",
      "metadata": {
        "colab": {
          "base_uri": "https://localhost:8080/",
          "height": 450
        },
        "id": "qmT8O-m2c89Z",
        "outputId": "f41afb9f-da1c-4258-995f-183e8dda6b1d"
      },
      "source": [
        "#list of top 500 by churn risk\n",
        "churn_list = test[['CustomerID', 'Churn Probability']].head(500)\n",
        "churn_list"
      ],
      "execution_count": null,
      "outputs": [
        {
          "output_type": "execute_result",
          "data": {
            "text/html": [
              "<div>\n",
              "<style scoped>\n",
              "    .dataframe tbody tr th:only-of-type {\n",
              "        vertical-align: middle;\n",
              "    }\n",
              "\n",
              "    .dataframe tbody tr th {\n",
              "        vertical-align: top;\n",
              "    }\n",
              "\n",
              "    .dataframe thead th {\n",
              "        text-align: right;\n",
              "    }\n",
              "</style>\n",
              "<table border=\"1\" class=\"dataframe\">\n",
              "  <thead>\n",
              "    <tr style=\"text-align: right;\">\n",
              "      <th></th>\n",
              "      <th>CustomerID</th>\n",
              "      <th>Churn Probability</th>\n",
              "    </tr>\n",
              "    <tr>\n",
              "      <th>index</th>\n",
              "      <th></th>\n",
              "      <th></th>\n",
              "    </tr>\n",
              "  </thead>\n",
              "  <tbody>\n",
              "    <tr>\n",
              "      <th>4198</th>\n",
              "      <td>5150-ITWWB</td>\n",
              "      <td>0.868289</td>\n",
              "    </tr>\n",
              "    <tr>\n",
              "      <th>3732</th>\n",
              "      <td>4927-WWOOZ</td>\n",
              "      <td>0.864309</td>\n",
              "    </tr>\n",
              "    <tr>\n",
              "      <th>5906</th>\n",
              "      <td>4912-PIGUY</td>\n",
              "      <td>0.849819</td>\n",
              "    </tr>\n",
              "    <tr>\n",
              "      <th>1933</th>\n",
              "      <td>4445-ZJNMU</td>\n",
              "      <td>0.846769</td>\n",
              "    </tr>\n",
              "    <tr>\n",
              "      <th>1889</th>\n",
              "      <td>4929-XIHVW</td>\n",
              "      <td>0.843610</td>\n",
              "    </tr>\n",
              "    <tr>\n",
              "      <th>...</th>\n",
              "      <td>...</td>\n",
              "      <td>...</td>\n",
              "    </tr>\n",
              "    <tr>\n",
              "      <th>2798</th>\n",
              "      <td>4741-WWJQZ</td>\n",
              "      <td>0.445924</td>\n",
              "    </tr>\n",
              "    <tr>\n",
              "      <th>6551</th>\n",
              "      <td>8778-LMWTJ</td>\n",
              "      <td>0.445871</td>\n",
              "    </tr>\n",
              "    <tr>\n",
              "      <th>2156</th>\n",
              "      <td>8782-LKFPK</td>\n",
              "      <td>0.445247</td>\n",
              "    </tr>\n",
              "    <tr>\n",
              "      <th>2968</th>\n",
              "      <td>6416-YJTTB</td>\n",
              "      <td>0.445067</td>\n",
              "    </tr>\n",
              "    <tr>\n",
              "      <th>4427</th>\n",
              "      <td>0410-IPFTY</td>\n",
              "      <td>0.444859</td>\n",
              "    </tr>\n",
              "  </tbody>\n",
              "</table>\n",
              "<p>500 rows × 2 columns</p>\n",
              "</div>"
            ],
            "text/plain": [
              "       CustomerID  Churn Probability\n",
              "index                               \n",
              "4198   5150-ITWWB           0.868289\n",
              "3732   4927-WWOOZ           0.864309\n",
              "5906   4912-PIGUY           0.849819\n",
              "1933   4445-ZJNMU           0.846769\n",
              "1889   4929-XIHVW           0.843610\n",
              "...           ...                ...\n",
              "2798   4741-WWJQZ           0.445924\n",
              "6551   8778-LMWTJ           0.445871\n",
              "2156   8782-LKFPK           0.445247\n",
              "2968   6416-YJTTB           0.445067\n",
              "4427   0410-IPFTY           0.444859\n",
              "\n",
              "[500 rows x 2 columns]"
            ]
          },
          "metadata": {
            "tags": []
          },
          "execution_count": 126
        }
      ]
    },
    {
      "cell_type": "code",
      "metadata": {
        "id": "O1RqT5ukfU5R"
      },
      "source": [
        "#save list as csv file\n",
        "churn_list.to_csv('SVM_top_500.csv', index = False)"
      ],
      "execution_count": null,
      "outputs": []
    }
  ]
}