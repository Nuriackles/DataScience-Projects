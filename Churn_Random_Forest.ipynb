{
  "nbformat": 4,
  "nbformat_minor": 0,
  "metadata": {
    "colab": {
      "name": "Churn Random Forest.ipynb",
      "provenance": [],
      "collapsed_sections": []
    },
    "kernelspec": {
      "name": "python3",
      "display_name": "Python 3"
    },
    "language_info": {
      "name": "python"
    }
  },
  "cells": [
    {
      "cell_type": "markdown",
      "metadata": {
        "id": "eYjRJ48ljJ3r"
      },
      "source": [
        "# Import packages and modules"
      ]
    },
    {
      "cell_type": "code",
      "metadata": {
        "id": "iJhzOWdujJ3s"
      },
      "source": [
        "import numpy as np\n",
        "import seaborn as sns\n",
        "import matplotlib.pyplot as plt\n",
        "import pandas as pd\n",
        "\n",
        "from sklearn import metrics\n",
        "from time import time\n",
        "\n",
        "%matplotlib inline\n",
        "\n",
        "from sklearn import tree\n",
        "from sklearn.tree import DecisionTreeClassifier\n",
        "from sklearn.model_selection import train_test_split, cross_val_score, GridSearchCV\n",
        "from sklearn.metrics import confusion_matrix, accuracy_score, precision_score, recall_score, f1_score\n",
        "from sklearn.ensemble import BaggingClassifier\n",
        "from sklearn.ensemble import RandomForestClassifier, ExtraTreesClassifier"
      ],
      "execution_count": null,
      "outputs": []
    },
    {
      "cell_type": "code",
      "metadata": {
        "id": "CbNup9X3gbL0"
      },
      "source": [
        "#this is an esthetic choice and just removes the many warnings that stepwise regression and other comands produce\n",
        "#it helps significantly declutter the workbook\n",
        "import warnings\n",
        "warnings.filterwarnings('ignore')"
      ],
      "execution_count": null,
      "outputs": []
    },
    {
      "cell_type": "markdown",
      "metadata": {
        "id": "SzFWoWdVjJ3s"
      },
      "source": [
        "# Useful Functions"
      ]
    },
    {
      "cell_type": "code",
      "metadata": {
        "id": "mwM3mbjGjJ3s"
      },
      "source": [
        "## accuracy, precision, recall, f1 score\n",
        "\n",
        "def apr(y_pred, y_real):\n",
        "    accuracy = metrics.accuracy_score(y_real, y_pred)\n",
        "    precision = metrics.precision_score(y_real, y_pred)\n",
        "    recall = metrics.recall_score(y_real, y_pred)\n",
        "    f1 = metrics.f1_score(y_real, y_pred)\n",
        "    \n",
        "    print(f\"Accuracy:{accuracy}\")\n",
        "    print(f\"Precision:{precision}\")\n",
        "    print(f\"Recall:{recall}\")\n",
        "    print(f\"F1:{f1}\")\n",
        "    return accuracy, precision, recall, f1\n",
        "\n",
        "\n",
        "## confusion matrix\n",
        "\n",
        "def produce_confusion(positive_label, negative_label, cut_off, df, y_pred_name, y_real_name):\n",
        "    \n",
        "    #Set pred to 0 or 1 depending on whether it's higher than the cut_off point.\n",
        "    \n",
        "    if cut_off != 'binary':      \n",
        "        df['pred_binary'] = np.where(df[y_pred_name] > cut_off , 1, 0)\n",
        "    else: \n",
        "        df['pred_binary'] = df[y_pred_name]\n",
        "    \n",
        "    #Build the CM\n",
        "    cm = confusion_matrix(df[y_real_name], df['pred_binary'])  \n",
        "    \n",
        "    ax= plt.subplot()\n",
        "    sns.heatmap(cm, annot=True, ax=ax, fmt='g'); \n",
        "\n",
        "    # labels, title, ticks\n",
        "    ax.set_xlabel('Predicted labels');ax.set_ylabel('Real labels'); \n",
        "    ax.set_title('Confusion Matrix'); \n",
        "    ax.xaxis.set_ticklabels([negative_label, positive_label])\n",
        "    ax.yaxis.set_ticklabels([negative_label, positive_label]);\n",
        "\n",
        "    print('Test accuracy = ', accuracy_score(df[y_real_name], df['pred_binary']))\n",
        "    print('Test precision = ', precision_score(df[y_real_name], df['pred_binary']))\n",
        "    print('Test recall = ', recall_score(df[y_real_name], df['pred_binary']))\n",
        "    print('Test F1 score = ', f1_score(df[y_real_name], df['pred_binary']))\n",
        "\n",
        "\n",
        "    #return accuracy_score(df[y_real_name], df['pred_binary'])"
      ],
      "execution_count": null,
      "outputs": []
    },
    {
      "cell_type": "code",
      "metadata": {
        "id": "7wZXSx1rjJ3t"
      },
      "source": [
        "#importing data from csv to DataFrames\n",
        "X_train = pd.read_csv('X_train.csv')\n",
        "y_train = pd.read_csv('y_train.csv')\n",
        "X_test = pd.read_csv('X_test.csv')\n",
        "y_test = pd.read_csv('y_test.csv')"
      ],
      "execution_count": null,
      "outputs": []
    },
    {
      "cell_type": "markdown",
      "metadata": {
        "id": "kljA3AmUjJ3t"
      },
      "source": [
        "# Feature Engineering"
      ]
    },
    {
      "cell_type": "code",
      "metadata": {
        "id": "dCAGwdyCjJ3t"
      },
      "source": [
        "#function to automatically create dummies to chosen columns\n",
        "def one_hot(df, col):\n",
        "    new_df = pd.get_dummies(df, columns=col, prefix=col[0])\n",
        "    return new_df\n",
        "\n",
        "#main feature engineering function\n",
        "def feature_eng(dfx):\n",
        "\n",
        "    dfx = dfx.copy()\n",
        "\n",
        "    dfx['Total Charges'] = dfx['Total Charges'].apply(pd.to_numeric, errors = 'coerce')\n",
        "    dfx['Total Charges'].fillna(0, inplace = True)\n",
        "\n",
        "    \n",
        "    to_be_dummied = [\n",
        "                    'Gender',\n",
        "                    'Senior Citizen', \n",
        "                    'Partner', \n",
        "                    'Dependents',\n",
        "                    'Phone Service',\n",
        "                    'Multiple Lines', \n",
        "                    'Internet Service', \n",
        "                    'Online Security', \n",
        "                    'Online Backup', \n",
        "                    'Device Protection', \n",
        "                    'Tech Support', \n",
        "                    'Streaming TV', \n",
        "                    'Streaming Movies', \n",
        "                    'Contract', \n",
        "                    'Paperless Billing', \n",
        "                    'Payment Method'\n",
        "                     ]\n",
        "\n",
        "    feature_cols = list(dfx.columns)\n",
        "    \n",
        "    one_hot_targets = []\n",
        "    not_hot_cols = []\n",
        "\n",
        "    for i in feature_cols:\n",
        "        if i in to_be_dummied:\n",
        "            one_hot_targets.append(i)\n",
        "        else:\n",
        "            not_hot_cols.append(i)\n",
        "\n",
        "\n",
        "    for target in one_hot_targets:\n",
        "        new = one_hot(dfx[target], [target])\n",
        "        dfx.drop(columns=target, inplace=True)\n",
        "        feature_cols.remove(target)\n",
        "        new_list = feature_cols + list(new.columns)\n",
        "        feature_cols = new_list.copy()\n",
        "        dfx = pd.concat([dfx, new], axis=1, join=\"inner\")\n",
        "\n",
        "    dfx['Payment Method_Automatic'] = dfx['Payment Method_Bank transfer (automatic)'] + dfx['Payment Method_Credit card (automatic)']\n",
        "    dfx['Payment Method_Manual'] = dfx['Payment Method_Electronic check'] + dfx['Payment Method_Mailed check']\n",
        "\n",
        "    final_cols = [  \n",
        "                    'Monthly Charges', \n",
        "                    #'Total Charges', \n",
        "                    'Tenure Months', \n",
        "                    #'Churn Value',\n",
        "                    #'Gender_Female', \n",
        "                    #'Gender_Male', \n",
        "                    #'Senior Citizen_No',\n",
        "                    #'Senior Citizen_Yes', \n",
        "                    #'Partner_No', \n",
        "                    #'Partner_Yes', \n",
        "                    #'Dependents_No',\n",
        "                    'Dependents_Yes', \n",
        "                    #'Phone Service_No', \n",
        "                    #'Phone Service_Yes',\n",
        "                    #'Multiple Lines_No', \n",
        "                    #'Multiple Lines_No phone service',   \n",
        "                    'Multiple Lines_Yes', \n",
        "                    #'Internet Service_DSL',\n",
        "                    'Internet Service_Fiber optic', \n",
        "                    #'Internet Service_No',\n",
        "                    #'Online Security_No', \n",
        "                    #'Online Security_No internet service',\n",
        "                    'Online Security_Yes', \n",
        "                    #'Online Backup_No',\n",
        "                    #'Online Backup_No internet service', \n",
        "                    #'Online Backup_Yes',\n",
        "                    #'Device Protection_No', \n",
        "                    #'Device Protection_No internet service',\n",
        "                    #'Device Protection_Yes', \n",
        "                    #'Tech Support_No',\n",
        "                    #'Tech Support_No internet service', \n",
        "                    'Tech Support_Yes',\n",
        "                    #'Streaming TV_No',\n",
        "                    #'Streaming TV_No internet service',\n",
        "                    #'Streaming TV_Yes', \n",
        "                    #'Streaming Movies_No',\n",
        "                    #'Streaming Movies_No internet service', \n",
        "                    #'Streaming Movies_Yes',\n",
        "                    'Contract_Month-to-month', \n",
        "                    #'Contract_One year',\n",
        "                    #'Contract_Two year',\n",
        "                    #'Paperless Billing_No', \n",
        "                    'Paperless Billing_Yes',\n",
        "                    #'Payment Method_Bank transfer (automatic)',\n",
        "                    #'Payment Method_Credit card (automatic)',\n",
        "                    #'Payment Method_Electronic check', \n",
        "                    #'Payment Method_Mailed check',\n",
        "                    #'Payment Method_Automatic',\n",
        "                    #'Payment Method_Manual'\n",
        "                    ]\n",
        "\n",
        "    for col in final_cols: \n",
        "        if col not in dfx.columns:\n",
        "            dfx[col] = 0\n",
        "\n",
        "    dfx = dfx[final_cols]\n",
        "        \n",
        "    return dfx"
      ],
      "execution_count": null,
      "outputs": []
    },
    {
      "cell_type": "code",
      "metadata": {
        "id": "OuXm9x2MjJ3u"
      },
      "source": [
        "#applying the feature engineering\n",
        "X_train_eng = feature_eng(X_train)\n",
        "X_test_eng = feature_eng(X_test)"
      ],
      "execution_count": null,
      "outputs": []
    },
    {
      "cell_type": "markdown",
      "metadata": {
        "id": "8z8PqSohjJ3w"
      },
      "source": [
        "# Random Forest"
      ]
    },
    {
      "cell_type": "code",
      "metadata": {
        "id": "rTZHmaAhjJ3w"
      },
      "source": [
        "#creating empty classifiers\n",
        "rf = RandomForestClassifier(n_estimators=200, max_depth = 10)\n",
        "et = ExtraTreesClassifier(n_estimators=200, max_depth = 10)"
      ],
      "execution_count": null,
      "outputs": []
    },
    {
      "cell_type": "code",
      "metadata": {
        "id": "YYcGidlejJ3x"
      },
      "source": [
        "#classfication scores\n",
        "rf_score = cross_val_score(rf, X_train_eng, y_train, cv=5).mean()\n",
        "et_score = cross_val_score(et, X_train_eng, y_train, cv=5).mean()"
      ],
      "execution_count": null,
      "outputs": []
    },
    {
      "cell_type": "code",
      "metadata": {
        "id": "IxiUx10ZjJ3x",
        "colab": {
          "base_uri": "https://localhost:8080/"
        },
        "outputId": "8f2a4f51-6a19-4894-d192-32eb901e0e77"
      },
      "source": [
        "print(f'Random scored {rf_score}')\n",
        "print(f'Extra Random scored {et_score}')"
      ],
      "execution_count": null,
      "outputs": [
        {
          "output_type": "stream",
          "text": [
            "Random scored 0.8031059172615465\n",
            "Extra Random scored 0.8025363019982225\n"
          ],
          "name": "stdout"
        }
      ]
    },
    {
      "cell_type": "code",
      "metadata": {
        "id": "aNbssl8ljJ3x"
      },
      "source": [
        "#creating empty GridSearch \n",
        "rf_params = {\n",
        "    'n_estimators': [50, 100, 150, 200, 250, 300],\n",
        "    'max_depth': [5, 6, 7, 8, 9, 10],\n",
        "}\n",
        "if rf_score > et_score:\n",
        "    gs = GridSearchCV(rf, param_grid=rf_params, cv=5)  \n",
        "else:\n",
        "    gs = GridSearchCV(et, param_grid=rf_params, cv=5)"
      ],
      "execution_count": null,
      "outputs": []
    },
    {
      "cell_type": "code",
      "metadata": {
        "colab": {
          "base_uri": "https://localhost:8080/"
        },
        "id": "B4PIWSVl6t_l",
        "outputId": "04f04c3f-9de0-44e6-e2ee-647d2f95d79b"
      },
      "source": [
        "#fitting and identification of best classifier\n",
        "gs.fit(X_train_eng, y_train)\n",
        "\n",
        "print(gs.best_score_)\n",
        "\n",
        "gs.best_params_"
      ],
      "execution_count": null,
      "outputs": [
        {
          "output_type": "stream",
          "text": [
            "0.8129493850520341\n"
          ],
          "name": "stdout"
        },
        {
          "output_type": "execute_result",
          "data": {
            "text/plain": [
              "{'max_depth': 8, 'n_estimators': 300}"
            ]
          },
          "metadata": {
            "tags": []
          },
          "execution_count": 18
        }
      ]
    },
    {
      "cell_type": "code",
      "metadata": {
        "id": "7yN0LJydjJ3x",
        "colab": {
          "base_uri": "https://localhost:8080/"
        },
        "outputId": "34baed61-a0eb-4578-ea31-f24bf8b0963c"
      },
      "source": [
        "#classfier score\n",
        "gs.score(X_train_eng, y_train)"
      ],
      "execution_count": null,
      "outputs": [
        {
          "output_type": "execute_result",
          "data": {
            "text/plain": [
              "0.8385081408557364"
            ]
          },
          "metadata": {
            "tags": []
          },
          "execution_count": 19
        }
      ]
    },
    {
      "cell_type": "code",
      "metadata": {
        "id": "bsWICbXyjJ3y",
        "colab": {
          "base_uri": "https://localhost:8080/"
        },
        "outputId": "0af78088-5e7c-4253-e932-ed394c4a2879"
      },
      "source": [
        "## Predict on Train\n",
        "X_train_eng['pred'] = gs.predict(X_train_eng)\n",
        "X_train_eng\n",
        "\n",
        "## Check Accuracy, Precision, Recall & F1\n",
        "apr(X_train_eng['pred'], y_train)"
      ],
      "execution_count": null,
      "outputs": [
        {
          "output_type": "stream",
          "text": [
            "Accuracy:0.8385081408557364\n",
            "Precision:0.7390909090909091\n",
            "Recall:0.5895576504713561\n",
            "F1:0.6559096409842678\n"
          ],
          "name": "stdout"
        },
        {
          "output_type": "execute_result",
          "data": {
            "text/plain": [
              "(0.8385081408557364,\n",
              " 0.7390909090909091,\n",
              " 0.5895576504713561,\n",
              " 0.6559096409842678)"
            ]
          },
          "metadata": {
            "tags": []
          },
          "execution_count": 20
        }
      ]
    },
    {
      "cell_type": "code",
      "metadata": {
        "id": "QoqUzbV4jJ3y",
        "colab": {
          "base_uri": "https://localhost:8080/"
        },
        "outputId": "9be3a106-131d-4772-827d-944c964ea285"
      },
      "source": [
        "## Predict on Test\n",
        "X_test_eng['pred'] = gs.predict(X_test_eng)\n",
        "X_test_eng\n",
        "\n",
        "## Check Accuracy, Precision, Recall & F1\n",
        "apr(X_test_eng['pred'], y_test)"
      ],
      "execution_count": null,
      "outputs": [
        {
          "output_type": "stream",
          "text": [
            "Accuracy:0.8029528676888131\n",
            "Precision:0.6756756756756757\n",
            "Recall:0.5612244897959183\n",
            "F1:0.6131549609810478\n"
          ],
          "name": "stdout"
        },
        {
          "output_type": "execute_result",
          "data": {
            "text/plain": [
              "(0.8029528676888131,\n",
              " 0.6756756756756757,\n",
              " 0.5612244897959183,\n",
              " 0.6131549609810478)"
            ]
          },
          "metadata": {
            "tags": []
          },
          "execution_count": 21
        }
      ]
    },
    {
      "cell_type": "code",
      "metadata": {
        "colab": {
          "base_uri": "https://localhost:8080/",
          "height": 453
        },
        "id": "k6iqNYT_dmvK",
        "outputId": "2c0a0c64-98ef-4cc2-efec-aa27e100e800"
      },
      "source": [
        "# preparing for the beautiful metrics function\n",
        "metric = X_test_eng.copy()\n",
        "metric = metric.join(y_test)\n",
        "metric"
      ],
      "execution_count": null,
      "outputs": [
        {
          "output_type": "execute_result",
          "data": {
            "text/html": [
              "<div>\n",
              "<style scoped>\n",
              "    .dataframe tbody tr th:only-of-type {\n",
              "        vertical-align: middle;\n",
              "    }\n",
              "\n",
              "    .dataframe tbody tr th {\n",
              "        vertical-align: top;\n",
              "    }\n",
              "\n",
              "    .dataframe thead th {\n",
              "        text-align: right;\n",
              "    }\n",
              "</style>\n",
              "<table border=\"1\" class=\"dataframe\">\n",
              "  <thead>\n",
              "    <tr style=\"text-align: right;\">\n",
              "      <th></th>\n",
              "      <th>Monthly Charges</th>\n",
              "      <th>Tenure Months</th>\n",
              "      <th>Dependents_Yes</th>\n",
              "      <th>Multiple Lines_Yes</th>\n",
              "      <th>Internet Service_Fiber optic</th>\n",
              "      <th>Online Security_Yes</th>\n",
              "      <th>Tech Support_Yes</th>\n",
              "      <th>Contract_Month-to-month</th>\n",
              "      <th>Paperless Billing_Yes</th>\n",
              "      <th>pred</th>\n",
              "      <th>Churn Value</th>\n",
              "    </tr>\n",
              "  </thead>\n",
              "  <tbody>\n",
              "    <tr>\n",
              "      <th>0</th>\n",
              "      <td>101.25</td>\n",
              "      <td>15</td>\n",
              "      <td>0</td>\n",
              "      <td>0</td>\n",
              "      <td>1</td>\n",
              "      <td>0</td>\n",
              "      <td>0</td>\n",
              "      <td>1</td>\n",
              "      <td>1</td>\n",
              "      <td>1</td>\n",
              "      <td>1</td>\n",
              "    </tr>\n",
              "    <tr>\n",
              "      <th>1</th>\n",
              "      <td>100.70</td>\n",
              "      <td>46</td>\n",
              "      <td>0</td>\n",
              "      <td>1</td>\n",
              "      <td>1</td>\n",
              "      <td>1</td>\n",
              "      <td>0</td>\n",
              "      <td>1</td>\n",
              "      <td>1</td>\n",
              "      <td>0</td>\n",
              "      <td>1</td>\n",
              "    </tr>\n",
              "    <tr>\n",
              "      <th>2</th>\n",
              "      <td>51.55</td>\n",
              "      <td>15</td>\n",
              "      <td>0</td>\n",
              "      <td>1</td>\n",
              "      <td>0</td>\n",
              "      <td>0</td>\n",
              "      <td>0</td>\n",
              "      <td>1</td>\n",
              "      <td>0</td>\n",
              "      <td>0</td>\n",
              "      <td>1</td>\n",
              "    </tr>\n",
              "    <tr>\n",
              "      <th>3</th>\n",
              "      <td>59.25</td>\n",
              "      <td>8</td>\n",
              "      <td>0</td>\n",
              "      <td>1</td>\n",
              "      <td>0</td>\n",
              "      <td>0</td>\n",
              "      <td>0</td>\n",
              "      <td>1</td>\n",
              "      <td>1</td>\n",
              "      <td>0</td>\n",
              "      <td>0</td>\n",
              "    </tr>\n",
              "    <tr>\n",
              "      <th>4</th>\n",
              "      <td>92.55</td>\n",
              "      <td>53</td>\n",
              "      <td>1</td>\n",
              "      <td>0</td>\n",
              "      <td>1</td>\n",
              "      <td>0</td>\n",
              "      <td>1</td>\n",
              "      <td>1</td>\n",
              "      <td>1</td>\n",
              "      <td>0</td>\n",
              "      <td>0</td>\n",
              "    </tr>\n",
              "    <tr>\n",
              "      <th>...</th>\n",
              "      <td>...</td>\n",
              "      <td>...</td>\n",
              "      <td>...</td>\n",
              "      <td>...</td>\n",
              "      <td>...</td>\n",
              "      <td>...</td>\n",
              "      <td>...</td>\n",
              "      <td>...</td>\n",
              "      <td>...</td>\n",
              "      <td>...</td>\n",
              "      <td>...</td>\n",
              "    </tr>\n",
              "    <tr>\n",
              "      <th>1756</th>\n",
              "      <td>45.40</td>\n",
              "      <td>37</td>\n",
              "      <td>0</td>\n",
              "      <td>0</td>\n",
              "      <td>0</td>\n",
              "      <td>1</td>\n",
              "      <td>1</td>\n",
              "      <td>0</td>\n",
              "      <td>0</td>\n",
              "      <td>0</td>\n",
              "      <td>0</td>\n",
              "    </tr>\n",
              "    <tr>\n",
              "      <th>1757</th>\n",
              "      <td>78.00</td>\n",
              "      <td>49</td>\n",
              "      <td>1</td>\n",
              "      <td>0</td>\n",
              "      <td>0</td>\n",
              "      <td>0</td>\n",
              "      <td>0</td>\n",
              "      <td>0</td>\n",
              "      <td>0</td>\n",
              "      <td>0</td>\n",
              "      <td>0</td>\n",
              "    </tr>\n",
              "    <tr>\n",
              "      <th>1758</th>\n",
              "      <td>100.30</td>\n",
              "      <td>52</td>\n",
              "      <td>1</td>\n",
              "      <td>0</td>\n",
              "      <td>1</td>\n",
              "      <td>1</td>\n",
              "      <td>0</td>\n",
              "      <td>0</td>\n",
              "      <td>0</td>\n",
              "      <td>0</td>\n",
              "      <td>0</td>\n",
              "    </tr>\n",
              "    <tr>\n",
              "      <th>1759</th>\n",
              "      <td>90.10</td>\n",
              "      <td>26</td>\n",
              "      <td>0</td>\n",
              "      <td>1</td>\n",
              "      <td>0</td>\n",
              "      <td>1</td>\n",
              "      <td>1</td>\n",
              "      <td>0</td>\n",
              "      <td>1</td>\n",
              "      <td>0</td>\n",
              "      <td>0</td>\n",
              "    </tr>\n",
              "    <tr>\n",
              "      <th>1760</th>\n",
              "      <td>19.20</td>\n",
              "      <td>1</td>\n",
              "      <td>0</td>\n",
              "      <td>0</td>\n",
              "      <td>0</td>\n",
              "      <td>0</td>\n",
              "      <td>0</td>\n",
              "      <td>1</td>\n",
              "      <td>0</td>\n",
              "      <td>0</td>\n",
              "      <td>0</td>\n",
              "    </tr>\n",
              "  </tbody>\n",
              "</table>\n",
              "<p>1761 rows × 11 columns</p>\n",
              "</div>"
            ],
            "text/plain": [
              "      Monthly Charges  Tenure Months  ...  pred  Churn Value\n",
              "0              101.25             15  ...     1            1\n",
              "1              100.70             46  ...     0            1\n",
              "2               51.55             15  ...     0            1\n",
              "3               59.25              8  ...     0            0\n",
              "4               92.55             53  ...     0            0\n",
              "...               ...            ...  ...   ...          ...\n",
              "1756            45.40             37  ...     0            0\n",
              "1757            78.00             49  ...     0            0\n",
              "1758           100.30             52  ...     0            0\n",
              "1759            90.10             26  ...     0            0\n",
              "1760            19.20              1  ...     0            0\n",
              "\n",
              "[1761 rows x 11 columns]"
            ]
          },
          "metadata": {
            "tags": []
          },
          "execution_count": 23
        }
      ]
    },
    {
      "cell_type": "code",
      "metadata": {
        "colab": {
          "base_uri": "https://localhost:8080/",
          "height": 363
        },
        "id": "KKLKFWabephG",
        "outputId": "3ce11269-9ced-4b8e-ae56-711762984fd8"
      },
      "source": [
        "#running the beautiful metrics function\n",
        "produce_confusion('Stayed','Churned','binary',metric,'pred','Churn Value')"
      ],
      "execution_count": null,
      "outputs": [
        {
          "output_type": "stream",
          "text": [
            "Test accuracy =  0.8029528676888131\n",
            "Test precision =  0.6756756756756757\n",
            "Test recall =  0.5612244897959183\n",
            "Test F1 score =  0.6131549609810478\n"
          ],
          "name": "stdout"
        },
        {
          "output_type": "display_data",
          "data": {
            "image/png": "[encoded data removed]",
            "text/plain": [
              "<Figure size 432x288 with 2 Axes>"
            ]
          },
          "metadata": {
            "tags": [],
            "needs_background": "light"
          }
        }
      ]
    },
    {
      "cell_type": "markdown",
      "metadata": {
        "id": "33r5khhjjJ3y"
      },
      "source": [
        "# Feature importance"
      ]
    },
    {
      "cell_type": "code",
      "metadata": {
        "id": "dAXbUTtZjJ3y",
        "colab": {
          "base_uri": "https://localhost:8080/"
        },
        "outputId": "fc09cd82-3dbb-42dd-dbed-59573f4f7054"
      },
      "source": [
        "#list of columns\n",
        "feature_names = list(X_test_eng.columns)\n",
        "feature_names"
      ],
      "execution_count": null,
      "outputs": [
        {
          "output_type": "execute_result",
          "data": {
            "text/plain": [
              "['Monthly Charges',\n",
              " 'Tenure Months',\n",
              " 'Dependents_Yes',\n",
              " 'Multiple Lines_Yes',\n",
              " 'Internet Service_Fiber optic',\n",
              " 'Online Security_Yes',\n",
              " 'Tech Support_Yes',\n",
              " 'Contract_Month-to-month',\n",
              " 'Paperless Billing_Yes',\n",
              " 'pred']"
            ]
          },
          "metadata": {
            "tags": []
          },
          "execution_count": 33
        }
      ]
    },
    {
      "cell_type": "code",
      "metadata": {
        "id": "69UlUd3njJ3y"
      },
      "source": [
        "#remove predictions if present\n",
        "try:\n",
        "    X_test_eng.drop(columns = 'pred', inplace = True)\n",
        "    feature_names.remove('pred')\n",
        "except:\n",
        "    print('no pred')"
      ],
      "execution_count": null,
      "outputs": []
    },
    {
      "cell_type": "code",
      "metadata": {
        "id": "uJblzsEfjJ3z",
        "colab": {
          "base_uri": "https://localhost:8080/"
        },
        "outputId": "24f186f2-746e-4403-d126-fa5a2ccad54d"
      },
      "source": [
        "#code from the internet that calculates feature importance\n",
        "from sklearn.inspection import permutation_importance\n",
        "import time\n",
        "import numpy as np\n",
        "\n",
        "start_time = time.time()\n",
        "result = permutation_importance(\n",
        "    gs, X_test_eng, y_test, n_repeats=10, n_jobs=2)\n",
        "elapsed_time = time.time() - start_time\n",
        "print(f\"Elapsed time to compute the importances: \"\n",
        "      f\"{elapsed_time:.3f} seconds\")\n",
        "\n",
        "forest_importances = pd.Series(result.importances_mean, index=feature_names)\n",
        "forest_importances"
      ],
      "execution_count": null,
      "outputs": [
        {
          "output_type": "stream",
          "text": [
            "Elapsed time to compute the importances: 9.855 seconds\n"
          ],
          "name": "stdout"
        },
        {
          "output_type": "execute_result",
          "data": {
            "text/plain": [
              "Monthly Charges                 0.021408\n",
              "Tenure Months                   0.059057\n",
              "Dependents_Yes                  0.012720\n",
              "Multiple Lines_Yes              0.005281\n",
              "Internet Service_Fiber optic    0.024532\n",
              "Online Security_Yes             0.008461\n",
              "Tech Support_Yes                0.002385\n",
              "Contract_Month-to-month         0.037365\n",
              "Paperless Billing_Yes           0.008631\n",
              "dtype: float64"
            ]
          },
          "metadata": {
            "tags": []
          },
          "execution_count": 35
        }
      ]
    },
    {
      "cell_type": "code",
      "metadata": {
        "id": "8prGadjsjJ30",
        "colab": {
          "base_uri": "https://localhost:8080/",
          "height": 297
        },
        "outputId": "4ff43057-2a41-4d1b-8629-ffc7f4cf5822"
      },
      "source": [
        "#code from the internet that plots importances\n",
        "fig, ax = plt.subplots()\n",
        "forest_importances.plot.bar(yerr=result.importances_std, ax=ax)\n",
        "ax.set_title(\"Feature importances using permutation on full model\")\n",
        "ax.set_ylabel(\"Mean accuracy decrease\")\n",
        "fig.tight_layout()\n",
        "plt.show()"
      ],
      "execution_count": null,
      "outputs": [
        {
          "output_type": "display_data",
          "data": {
            "image/png": "[encoded data removed]",
            "text/plain": [
              "<Figure size 432x288 with 1 Axes>"
            ]
          },
          "metadata": {
            "tags": [],
            "needs_background": "light"
          }
        }
      ]
    },
    {
      "cell_type": "markdown",
      "metadata": {
        "id": "eRX2RvTFfpYK"
      },
      "source": [
        "# Churn risk list"
      ]
    },
    {
      "cell_type": "code",
      "metadata": {
        "id": "7nD_EY7qcuBQ"
      },
      "source": [
        "#reading in the original data\n",
        "myDF = pd.read_excel('customer_churn.xlsx', header = 0)"
      ],
      "execution_count": null,
      "outputs": []
    },
    {
      "cell_type": "code",
      "metadata": {
        "id": "nAwV7YBTc0uy"
      },
      "source": [
        "churn = myDF.copy()\n",
        "#removing useless columns\n",
        "try:\n",
        "    churn.drop(columns = ['Churn Label','CustomerID', 'Count', 'Country', 'State','City','Lat Long', 'Latitude', 'Longitude', 'Churn Reason'], inplace = True)\n",
        "except:\n",
        "    print('Already dropped!')"
      ],
      "execution_count": null,
      "outputs": []
    },
    {
      "cell_type": "code",
      "metadata": {
        "colab": {
          "base_uri": "https://localhost:8080/",
          "height": 453
        },
        "id": "qe7LFKkhdRHa",
        "outputId": "d16c71e5-6084-40a3-b2a5-35a0b876d103"
      },
      "source": [
        "#only customers who have not left\n",
        "loyal = churn[churn['Churn Value'] == 0]\n",
        "loyal_eng = feature_eng(loyal)\n",
        "\n",
        "loyal_eng"
      ],
      "execution_count": null,
      "outputs": [
        {
          "output_type": "execute_result",
          "data": {
            "text/html": [
              "<div>\n",
              "<style scoped>\n",
              "    .dataframe tbody tr th:only-of-type {\n",
              "        vertical-align: middle;\n",
              "    }\n",
              "\n",
              "    .dataframe tbody tr th {\n",
              "        vertical-align: top;\n",
              "    }\n",
              "\n",
              "    .dataframe thead th {\n",
              "        text-align: right;\n",
              "    }\n",
              "</style>\n",
              "<table border=\"1\" class=\"dataframe\">\n",
              "  <thead>\n",
              "    <tr style=\"text-align: right;\">\n",
              "      <th></th>\n",
              "      <th>Monthly Charges</th>\n",
              "      <th>Tenure Months</th>\n",
              "      <th>Dependents_Yes</th>\n",
              "      <th>Multiple Lines_Yes</th>\n",
              "      <th>Internet Service_Fiber optic</th>\n",
              "      <th>Online Security_Yes</th>\n",
              "      <th>Tech Support_Yes</th>\n",
              "      <th>Contract_Month-to-month</th>\n",
              "      <th>Paperless Billing_Yes</th>\n",
              "    </tr>\n",
              "  </thead>\n",
              "  <tbody>\n",
              "    <tr>\n",
              "      <th>1869</th>\n",
              "      <td>29.85</td>\n",
              "      <td>1</td>\n",
              "      <td>0</td>\n",
              "      <td>0</td>\n",
              "      <td>0</td>\n",
              "      <td>0</td>\n",
              "      <td>0</td>\n",
              "      <td>1</td>\n",
              "      <td>1</td>\n",
              "    </tr>\n",
              "    <tr>\n",
              "      <th>1870</th>\n",
              "      <td>56.95</td>\n",
              "      <td>34</td>\n",
              "      <td>0</td>\n",
              "      <td>0</td>\n",
              "      <td>0</td>\n",
              "      <td>1</td>\n",
              "      <td>0</td>\n",
              "      <td>0</td>\n",
              "      <td>0</td>\n",
              "    </tr>\n",
              "    <tr>\n",
              "      <th>1871</th>\n",
              "      <td>42.30</td>\n",
              "      <td>45</td>\n",
              "      <td>0</td>\n",
              "      <td>0</td>\n",
              "      <td>0</td>\n",
              "      <td>1</td>\n",
              "      <td>1</td>\n",
              "      <td>0</td>\n",
              "      <td>0</td>\n",
              "    </tr>\n",
              "    <tr>\n",
              "      <th>1872</th>\n",
              "      <td>89.10</td>\n",
              "      <td>22</td>\n",
              "      <td>1</td>\n",
              "      <td>1</td>\n",
              "      <td>1</td>\n",
              "      <td>0</td>\n",
              "      <td>0</td>\n",
              "      <td>1</td>\n",
              "      <td>1</td>\n",
              "    </tr>\n",
              "    <tr>\n",
              "      <th>1873</th>\n",
              "      <td>29.75</td>\n",
              "      <td>10</td>\n",
              "      <td>0</td>\n",
              "      <td>0</td>\n",
              "      <td>0</td>\n",
              "      <td>1</td>\n",
              "      <td>0</td>\n",
              "      <td>1</td>\n",
              "      <td>0</td>\n",
              "    </tr>\n",
              "    <tr>\n",
              "      <th>...</th>\n",
              "      <td>...</td>\n",
              "      <td>...</td>\n",
              "      <td>...</td>\n",
              "      <td>...</td>\n",
              "      <td>...</td>\n",
              "      <td>...</td>\n",
              "      <td>...</td>\n",
              "      <td>...</td>\n",
              "      <td>...</td>\n",
              "    </tr>\n",
              "    <tr>\n",
              "      <th>7038</th>\n",
              "      <td>21.15</td>\n",
              "      <td>72</td>\n",
              "      <td>0</td>\n",
              "      <td>0</td>\n",
              "      <td>0</td>\n",
              "      <td>0</td>\n",
              "      <td>0</td>\n",
              "      <td>0</td>\n",
              "      <td>1</td>\n",
              "    </tr>\n",
              "    <tr>\n",
              "      <th>7039</th>\n",
              "      <td>84.80</td>\n",
              "      <td>24</td>\n",
              "      <td>1</td>\n",
              "      <td>1</td>\n",
              "      <td>0</td>\n",
              "      <td>1</td>\n",
              "      <td>1</td>\n",
              "      <td>0</td>\n",
              "      <td>1</td>\n",
              "    </tr>\n",
              "    <tr>\n",
              "      <th>7040</th>\n",
              "      <td>103.20</td>\n",
              "      <td>72</td>\n",
              "      <td>1</td>\n",
              "      <td>1</td>\n",
              "      <td>1</td>\n",
              "      <td>0</td>\n",
              "      <td>0</td>\n",
              "      <td>0</td>\n",
              "      <td>1</td>\n",
              "    </tr>\n",
              "    <tr>\n",
              "      <th>7041</th>\n",
              "      <td>29.60</td>\n",
              "      <td>11</td>\n",
              "      <td>1</td>\n",
              "      <td>0</td>\n",
              "      <td>0</td>\n",
              "      <td>1</td>\n",
              "      <td>0</td>\n",
              "      <td>1</td>\n",
              "      <td>1</td>\n",
              "    </tr>\n",
              "    <tr>\n",
              "      <th>7042</th>\n",
              "      <td>105.65</td>\n",
              "      <td>66</td>\n",
              "      <td>0</td>\n",
              "      <td>0</td>\n",
              "      <td>1</td>\n",
              "      <td>1</td>\n",
              "      <td>1</td>\n",
              "      <td>0</td>\n",
              "      <td>1</td>\n",
              "    </tr>\n",
              "  </tbody>\n",
              "</table>\n",
              "<p>5174 rows × 9 columns</p>\n",
              "</div>"
            ],
            "text/plain": [
              "      Monthly Charges  ...  Paperless Billing_Yes\n",
              "1869            29.85  ...                      1\n",
              "1870            56.95  ...                      0\n",
              "1871            42.30  ...                      0\n",
              "1872            89.10  ...                      1\n",
              "1873            29.75  ...                      0\n",
              "...               ...  ...                    ...\n",
              "7038            21.15  ...                      1\n",
              "7039            84.80  ...                      1\n",
              "7040           103.20  ...                      1\n",
              "7041            29.60  ...                      1\n",
              "7042           105.65  ...                      1\n",
              "\n",
              "[5174 rows x 9 columns]"
            ]
          },
          "metadata": {
            "tags": []
          },
          "execution_count": 39
        }
      ]
    },
    {
      "cell_type": "code",
      "metadata": {
        "id": "b-HTEjpBc7bc"
      },
      "source": [
        "#adding CustomerID back to the DataFrame\n",
        "loyal_id = myDF['CustomerID'][myDF['Churn Value'] == 0]\n",
        "test = loyal_eng.join(loyal_id)\n",
        "test.sort_values('Churn Probability', ascending= False, inplace = True)"
      ],
      "execution_count": null,
      "outputs": []
    },
    {
      "cell_type": "code",
      "metadata": {
        "colab": {
          "base_uri": "https://localhost:8080/",
          "height": 419
        },
        "id": "5DLyipfGjdVg",
        "outputId": "852fd49d-d279-4fee-b97d-3ea50b42edf2"
      },
      "source": [
        "#list of all customers and risk\n",
        "churn_list = test[['CustomerID', 'Churn Probability']]\n",
        "churn_list"
      ],
      "execution_count": null,
      "outputs": [
        {
          "output_type": "execute_result",
          "data": {
            "text/html": [
              "<div>\n",
              "<style scoped>\n",
              "    .dataframe tbody tr th:only-of-type {\n",
              "        vertical-align: middle;\n",
              "    }\n",
              "\n",
              "    .dataframe tbody tr th {\n",
              "        vertical-align: top;\n",
              "    }\n",
              "\n",
              "    .dataframe thead th {\n",
              "        text-align: right;\n",
              "    }\n",
              "</style>\n",
              "<table border=\"1\" class=\"dataframe\">\n",
              "  <thead>\n",
              "    <tr style=\"text-align: right;\">\n",
              "      <th></th>\n",
              "      <th>CustomerID</th>\n",
              "      <th>Churn Probability</th>\n",
              "    </tr>\n",
              "  </thead>\n",
              "  <tbody>\n",
              "    <tr>\n",
              "      <th>6213</th>\n",
              "      <td>1628-BIZYP</td>\n",
              "      <td>0.883002</td>\n",
              "    </tr>\n",
              "    <tr>\n",
              "      <th>5657</th>\n",
              "      <td>7577-SWIFR</td>\n",
              "      <td>0.873740</td>\n",
              "    </tr>\n",
              "    <tr>\n",
              "      <th>4481</th>\n",
              "      <td>2254-DLXRI</td>\n",
              "      <td>0.871454</td>\n",
              "    </tr>\n",
              "    <tr>\n",
              "      <th>2676</th>\n",
              "      <td>7439-DKZTW</td>\n",
              "      <td>0.869715</td>\n",
              "    </tr>\n",
              "    <tr>\n",
              "      <th>5906</th>\n",
              "      <td>4912-PIGUY</td>\n",
              "      <td>0.859782</td>\n",
              "    </tr>\n",
              "    <tr>\n",
              "      <th>...</th>\n",
              "      <td>...</td>\n",
              "      <td>...</td>\n",
              "    </tr>\n",
              "    <tr>\n",
              "      <th>4948</th>\n",
              "      <td>6248-BSHKG</td>\n",
              "      <td>0.000451</td>\n",
              "    </tr>\n",
              "    <tr>\n",
              "      <th>3881</th>\n",
              "      <td>4636-TVXVG</td>\n",
              "      <td>0.000451</td>\n",
              "    </tr>\n",
              "    <tr>\n",
              "      <th>2520</th>\n",
              "      <td>1764-VUUMT</td>\n",
              "      <td>0.000408</td>\n",
              "    </tr>\n",
              "    <tr>\n",
              "      <th>2330</th>\n",
              "      <td>2804-ETQDK</td>\n",
              "      <td>0.000408</td>\n",
              "    </tr>\n",
              "    <tr>\n",
              "      <th>6261</th>\n",
              "      <td>9800-OUIGR</td>\n",
              "      <td>0.000408</td>\n",
              "    </tr>\n",
              "  </tbody>\n",
              "</table>\n",
              "<p>5174 rows × 2 columns</p>\n",
              "</div>"
            ],
            "text/plain": [
              "      CustomerID  Churn Probability\n",
              "6213  1628-BIZYP           0.883002\n",
              "5657  7577-SWIFR           0.873740\n",
              "4481  2254-DLXRI           0.871454\n",
              "2676  7439-DKZTW           0.869715\n",
              "5906  4912-PIGUY           0.859782\n",
              "...          ...                ...\n",
              "4948  6248-BSHKG           0.000451\n",
              "3881  4636-TVXVG           0.000451\n",
              "2520  1764-VUUMT           0.000408\n",
              "2330  2804-ETQDK           0.000408\n",
              "6261  9800-OUIGR           0.000408\n",
              "\n",
              "[5174 rows x 2 columns]"
            ]
          },
          "metadata": {
            "tags": []
          },
          "execution_count": 42
        }
      ]
    },
    {
      "cell_type": "code",
      "metadata": {
        "id": "BB9r644Mjvl9"
      },
      "source": [
        "#save dataframe as csv file\n",
        "churn_list.to_csv('RF_churn.csv', index = None)"
      ],
      "execution_count": null,
      "outputs": []
    },
    {
      "cell_type": "code",
      "metadata": {
        "colab": {
          "base_uri": "https://localhost:8080/",
          "height": 419
        },
        "id": "qmT8O-m2c89Z",
        "outputId": "5ac127f9-4a73-472e-b590-0e54cdda7eab"
      },
      "source": [
        "#top 500 by churn risk\n",
        "top_500_list = test[['CustomerID', 'Churn Probability']].head(500)\n",
        "top_500_list"
      ],
      "execution_count": null,
      "outputs": [
        {
          "output_type": "execute_result",
          "data": {
            "text/html": [
              "<div>\n",
              "<style scoped>\n",
              "    .dataframe tbody tr th:only-of-type {\n",
              "        vertical-align: middle;\n",
              "    }\n",
              "\n",
              "    .dataframe tbody tr th {\n",
              "        vertical-align: top;\n",
              "    }\n",
              "\n",
              "    .dataframe thead th {\n",
              "        text-align: right;\n",
              "    }\n",
              "</style>\n",
              "<table border=\"1\" class=\"dataframe\">\n",
              "  <thead>\n",
              "    <tr style=\"text-align: right;\">\n",
              "      <th></th>\n",
              "      <th>CustomerID</th>\n",
              "      <th>Churn Probability</th>\n",
              "    </tr>\n",
              "  </thead>\n",
              "  <tbody>\n",
              "    <tr>\n",
              "      <th>6213</th>\n",
              "      <td>1628-BIZYP</td>\n",
              "      <td>0.883002</td>\n",
              "    </tr>\n",
              "    <tr>\n",
              "      <th>5657</th>\n",
              "      <td>7577-SWIFR</td>\n",
              "      <td>0.873740</td>\n",
              "    </tr>\n",
              "    <tr>\n",
              "      <th>4481</th>\n",
              "      <td>2254-DLXRI</td>\n",
              "      <td>0.871454</td>\n",
              "    </tr>\n",
              "    <tr>\n",
              "      <th>2676</th>\n",
              "      <td>7439-DKZTW</td>\n",
              "      <td>0.869715</td>\n",
              "    </tr>\n",
              "    <tr>\n",
              "      <th>5906</th>\n",
              "      <td>4912-PIGUY</td>\n",
              "      <td>0.859782</td>\n",
              "    </tr>\n",
              "    <tr>\n",
              "      <th>...</th>\n",
              "      <td>...</td>\n",
              "      <td>...</td>\n",
              "    </tr>\n",
              "    <tr>\n",
              "      <th>2739</th>\n",
              "      <td>1346-UFHAX</td>\n",
              "      <td>0.473142</td>\n",
              "    </tr>\n",
              "    <tr>\n",
              "      <th>3373</th>\n",
              "      <td>8543-MSDMF</td>\n",
              "      <td>0.472988</td>\n",
              "    </tr>\n",
              "    <tr>\n",
              "      <th>6957</th>\n",
              "      <td>9398-MMQTO</td>\n",
              "      <td>0.472730</td>\n",
              "    </tr>\n",
              "    <tr>\n",
              "      <th>5901</th>\n",
              "      <td>6538-POCHL</td>\n",
              "      <td>0.472390</td>\n",
              "    </tr>\n",
              "    <tr>\n",
              "      <th>6775</th>\n",
              "      <td>3798-EPWRR</td>\n",
              "      <td>0.471745</td>\n",
              "    </tr>\n",
              "  </tbody>\n",
              "</table>\n",
              "<p>500 rows × 2 columns</p>\n",
              "</div>"
            ],
            "text/plain": [
              "      CustomerID  Churn Probability\n",
              "6213  1628-BIZYP           0.883002\n",
              "5657  7577-SWIFR           0.873740\n",
              "4481  2254-DLXRI           0.871454\n",
              "2676  7439-DKZTW           0.869715\n",
              "5906  4912-PIGUY           0.859782\n",
              "...          ...                ...\n",
              "2739  1346-UFHAX           0.473142\n",
              "3373  8543-MSDMF           0.472988\n",
              "6957  9398-MMQTO           0.472730\n",
              "5901  6538-POCHL           0.472390\n",
              "6775  3798-EPWRR           0.471745\n",
              "\n",
              "[500 rows x 2 columns]"
            ]
          },
          "metadata": {
            "tags": []
          },
          "execution_count": 44
        }
      ]
    },
    {
      "cell_type": "code",
      "metadata": {
        "id": "vDLEEfENjB-h"
      },
      "source": [
        "#save dataframe as csv file\n",
        "top_500_list.to_csv('RF_top_500.csv', index = None)"
      ],
      "execution_count": null,
      "outputs": []
    }
  ]
}