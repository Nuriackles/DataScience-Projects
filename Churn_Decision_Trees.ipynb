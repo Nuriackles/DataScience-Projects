{
  "nbformat": 4,
  "nbformat_minor": 0,
  "metadata": {
    "nteract": {
      "version": "0.28.0"
    },
    "colab": {
      "name": "Churn Decision Trees.ipynb",
      "provenance": [],
      "collapsed_sections": []
    },
    "language_info": {
      "name": "python"
    },
    "kernelspec": {
      "name": "python3",
      "display_name": "Python 3"
    }
  },
  "cells": [
    {
      "cell_type": "markdown",
      "metadata": {
        "id": "8LVw9h96jJ3Y"
      },
      "source": [
        "# Import packages and modules"
      ]
    },
    {
      "cell_type": "code",
      "metadata": {
        "id": "ysWpLJ9ojJ3Z"
      },
      "source": [
        "import numpy as np\n",
        "import seaborn as sns\n",
        "import matplotlib.pyplot as plt\n",
        "import pandas as pd\n",
        "\n",
        "from sklearn import metrics\n",
        "from time import time\n",
        "\n",
        "%matplotlib inline\n",
        "\n",
        "from sklearn import tree\n",
        "from sklearn.tree import DecisionTreeClassifier\n",
        "from sklearn.model_selection import train_test_split, cross_val_score, GridSearchCV\n",
        "from sklearn.metrics import confusion_matrix, accuracy_score, precision_score, recall_score, f1_score\n",
        "from sklearn.ensemble import BaggingClassifier\n",
        "from sklearn.ensemble import RandomForestClassifier, ExtraTreesClassifier"
      ],
      "execution_count": null,
      "outputs": []
    },
    {
      "cell_type": "markdown",
      "metadata": {
        "id": "4MpxnAKLjJ3a"
      },
      "source": [
        "# Useful Functions"
      ]
    },
    {
      "cell_type": "code",
      "metadata": {
        "id": "4fL00iq4jJ3c"
      },
      "source": [
        "## accuracy, precision, recall, f1 score\n",
        "\n",
        "def apr(y_pred, y_real):\n",
        "    accuracy = accuracy_score(y_real, y_pred)\n",
        "    precision = precision_score(y_real, y_pred)\n",
        "    recall = recall_score(y_real, y_pred)\n",
        "    f1 = f1_score(y_real, y_pred)\n",
        "    \n",
        "    print(f\"Accuracy:{accuracy}\")\n",
        "    print(f\"Precision:{precision}\")\n",
        "    print(f\"Recall:{recall}\")\n",
        "    print(f\"F1:{f1}\")\n",
        "    return accuracy, precision, recall, f1\n",
        "\n",
        "\n",
        "## confusion matrix\n",
        "\n",
        "def produce_confusion(positive_label, negative_label, cut_off, df, y_pred_name, y_real_name):\n",
        "    \n",
        "    #Set pred to 0 or 1 depending on whether it's higher than the cut_off point.\n",
        "    \n",
        "    if cut_off != 'binary':      \n",
        "        df['pred_binary'] = np.where(df[y_pred_name] > cut_off , 1, 0)\n",
        "    else: \n",
        "        df['pred_binary'] = df[y_pred_name]\n",
        "    \n",
        "    #Build the CM\n",
        "    cm = confusion_matrix(df[y_real_name], df['pred_binary'])  \n",
        "    \n",
        "    ax= plt.subplot()\n",
        "    sns.heatmap(cm, annot=True, ax=ax, fmt='g'); \n",
        "\n",
        "    # labels, title, ticks\n",
        "    ax.set_xlabel('Predicted labels');ax.set_ylabel('Real labels'); \n",
        "    ax.set_title('Confusion Matrix'); \n",
        "    ax.xaxis.set_ticklabels([negative_label, positive_label])\n",
        "    ax.yaxis.set_ticklabels([negative_label, positive_label]);\n",
        "\n",
        "    print('Test accuracy = ', accuracy_score(df[y_real_name], df['pred_binary']))\n",
        "    print('Test precision = ', precision_score(df[y_real_name], df['pred_binary']))\n",
        "    print('Test recall = ', recall_score(df[y_real_name], df['pred_binary']))\n",
        "    print('Test f1 = ', f1_score(df[y_real_name], df['pred_binary']))\n",
        "\n",
        "\n",
        "    return accuracy_score(df[y_real_name], df['pred_binary'])"
      ],
      "execution_count": null,
      "outputs": []
    },
    {
      "cell_type": "code",
      "metadata": {
        "id": "RqUmBh2fjJ3d"
      },
      "source": [
        "#import data from csv to DataFrame\n",
        "X_train = pd.read_csv('X_train.csv')\n",
        "y_train = pd.read_csv('y_train.csv')\n",
        "X_test = pd.read_csv('X_test.csv')\n",
        "y_test = pd.read_csv('y_test.csv')"
      ],
      "execution_count": null,
      "outputs": []
    },
    {
      "cell_type": "markdown",
      "metadata": {
        "id": "E4QlYxLKjJ3e"
      },
      "source": [
        "# Feature Engineering"
      ]
    },
    {
      "cell_type": "code",
      "metadata": {
        "id": "JMepwCuUjJ3e"
      },
      "source": [
        "#function to automatically create dummies to chosen columns\n",
        "def one_hot(df, col):\n",
        "    new_df = pd.get_dummies(df, columns=col, prefix=col[0])\n",
        "    return new_df\n",
        "\n",
        "#main feature engineering function\n",
        "def feature_eng(dfx):\n",
        "\n",
        "    dfx = dfx.copy()\n",
        "\n",
        "    dfx['Total Charges'] = dfx['Total Charges'].apply(pd.to_numeric, errors = 'coerce')\n",
        "    dfx['Total Charges'].fillna(0, inplace = True)\n",
        "\n",
        "    \n",
        "    to_be_dummied = [\n",
        "                    'Gender',\n",
        "                    'Senior Citizen', \n",
        "                    'Partner', \n",
        "                    'Dependents',\n",
        "                    'Phone Service',\n",
        "                    'Multiple Lines', \n",
        "                    'Internet Service', \n",
        "                    'Online Security', \n",
        "                    'Online Backup', \n",
        "                    'Device Protection', \n",
        "                    'Tech Support', \n",
        "                    'Streaming TV', \n",
        "                    'Streaming Movies', \n",
        "                    'Contract', \n",
        "                    'Paperless Billing', \n",
        "                    'Payment Method'\n",
        "                     ]\n",
        "\n",
        "    feature_cols = list(dfx.columns)\n",
        "    \n",
        "    one_hot_targets = []\n",
        "    not_hot_cols = []\n",
        "\n",
        "    for i in feature_cols:\n",
        "        if i in to_be_dummied:\n",
        "            one_hot_targets.append(i)\n",
        "        else:\n",
        "            not_hot_cols.append(i)\n",
        "\n",
        "\n",
        "    for target in one_hot_targets:\n",
        "        new = one_hot(dfx[target], [target])\n",
        "        dfx.drop(columns=target, inplace=True)\n",
        "        feature_cols.remove(target)\n",
        "        new_list = feature_cols + list(new.columns)\n",
        "        feature_cols = new_list.copy()\n",
        "        dfx = pd.concat([dfx, new], axis=1, join=\"inner\")\n",
        "\n",
        "    dfx['Payment Method_Automatic'] = dfx['Payment Method_Bank transfer (automatic)'] + dfx['Payment Method_Credit card (automatic)']\n",
        "    dfx['Payment Method_Manual'] = dfx['Payment Method_Electronic check'] + dfx['Payment Method_Mailed check']\n",
        "\n",
        "\n",
        "    final_cols = [  \n",
        "                    'Monthly Charges', \n",
        "                    #'Total Charges', \n",
        "                    'Tenure Months', \n",
        "                    #'Churn Value',\n",
        "                    #'Gender_Female', \n",
        "                    #'Gender_Male', \n",
        "                    #'Senior Citizen_No',\n",
        "                    #'Senior Citizen_Yes', \n",
        "                    #'Partner_No', \n",
        "                    #'Partner_Yes', \n",
        "                    #'Dependents_No',\n",
        "                    'Dependents_Yes', \n",
        "                    #'Phone Service_No', \n",
        "                    #'Phone Service_Yes',\n",
        "                    #'Multiple Lines_No', \n",
        "                    #'Multiple Lines_No phone service',   \n",
        "                    #'Multiple Lines_Yes', \n",
        "                    #'Internet Service_DSL',\n",
        "                    'Internet Service_Fiber optic', \n",
        "                    #'Internet Service_No',\n",
        "                    #'Online Security_No', \n",
        "                    #'Online Security_No internet service',\n",
        "                    #'Online Security_Yes', \n",
        "                    #'Online Backup_No',\n",
        "                    #'Online Backup_No internet service', \n",
        "                    #'Online Backup_Yes',\n",
        "                    #'Device Protection_No', \n",
        "                    #'Device Protection_No internet service',\n",
        "                    #'Device Protection_Yes', \n",
        "                    #'Tech Support_No',\n",
        "                    #'Tech Support_No internet service', \n",
        "                    #'Tech Support_Yes',\n",
        "                    #'Streaming TV_No',\n",
        "                    #'Streaming TV_No internet service',\n",
        "                    #'Streaming TV_Yes', \n",
        "                    #'Streaming Movies_No',\n",
        "                    #'Streaming Movies_No internet service', \n",
        "                    #'Streaming Movies_Yes',\n",
        "                    'Contract_Month-to-month', \n",
        "                    #'Contract_One year',\n",
        "                    #'Contract_Two year',\n",
        "                    #'Paperless Billing_No', \n",
        "                    'Paperless Billing_Yes',\n",
        "                    #'Payment Method_Bank transfer (automatic)',\n",
        "                    #'Payment Method_Credit card (automatic)',\n",
        "                    #'Payment Method_Electronic check', \n",
        "                    #'Payment Method_Mailed check',\n",
        "                    #'Payment Method_Automatic',\n",
        "                    #'Payment Method_Manual'\n",
        "                    ]\n",
        "\n",
        "    for col in final_cols: \n",
        "        if col not in dfx.columns:\n",
        "            dfx[col] = 0\n",
        "\n",
        "    dfx = dfx[final_cols]\n",
        "        \n",
        "    return dfx"
      ],
      "execution_count": null,
      "outputs": []
    },
    {
      "cell_type": "code",
      "metadata": {
        "id": "7WWdPcwGjJ3h"
      },
      "source": [
        "#applying feature engineering\n",
        "X_train_eng = feature_eng(X_train)\n",
        "X_test_eng = feature_eng(X_test)"
      ],
      "execution_count": null,
      "outputs": []
    },
    {
      "cell_type": "code",
      "metadata": {
        "id": "f0gj5MerjJ3l"
      },
      "source": [
        "# define feature cols\n",
        "feature_cols = list(X_train_eng.columns)"
      ],
      "execution_count": null,
      "outputs": []
    },
    {
      "cell_type": "markdown",
      "metadata": {
        "id": "Ozn_aTgdjJ3l"
      },
      "source": [
        "# Decision Tree"
      ]
    },
    {
      "cell_type": "code",
      "metadata": {
        "id": "Btwyje-WjJ3l"
      },
      "source": [
        "# create empty classifier\n",
        "treeclf = DecisionTreeClassifier(max_depth=5)"
      ],
      "execution_count": null,
      "outputs": []
    },
    {
      "cell_type": "code",
      "metadata": {
        "id": "GOCtSAc5jJ3m"
      },
      "source": [
        "# X are predictors, y is list of classes\n",
        "X = X_train_eng[feature_cols]\n",
        "y = y_train['Churn Value']\n",
        "\n",
        "# fit the model\n",
        "our_model = treeclf.fit(X, y)"
      ],
      "execution_count": null,
      "outputs": []
    },
    {
      "cell_type": "code",
      "metadata": {
        "id": "uOdwDwL7jJ3m",
        "colab": {
          "base_uri": "https://localhost:8080/"
        },
        "outputId": "2fffbe1e-e519-4fc6-8701-2e4c3cf0a1d1"
      },
      "source": [
        "# see the output classes\n",
        "treeclf.classes_"
      ],
      "execution_count": null,
      "outputs": [
        {
          "output_type": "execute_result",
          "data": {
            "text/plain": [
              "array([0, 1])"
            ]
          },
          "metadata": {
            "tags": []
          },
          "execution_count": 525
        }
      ]
    },
    {
      "cell_type": "code",
      "metadata": {
        "id": "AfQkZhkajJ3m"
      },
      "source": [
        "# create treeplot\n",
        "#fig = plt.figure(figsize=(50,40))\n",
        "\n",
        "# the underscore is needed to give a 'name' to the treeplot\n",
        "#_ = tree.plot_tree(treeclf, feature_names = feature_cols, class_names = ['Did Not Churn', 'Churned'], filled = True)"
      ],
      "execution_count": null,
      "outputs": []
    },
    {
      "cell_type": "code",
      "metadata": {
        "id": "B2x2A1P4jJ3n",
        "colab": {
          "base_uri": "https://localhost:8080/"
        },
        "outputId": "b5520e50-a14d-4bbe-e978-4793fe56def0"
      },
      "source": [
        "# tree scores\n",
        "print(f'Score on training set: {treeclf.score(X_train_eng[feature_cols], y_train)}')\n",
        "print(f'Score on testing set: {treeclf.score(X_test_eng[feature_cols], y_test)}')"
      ],
      "execution_count": null,
      "outputs": [
        {
          "output_type": "stream",
          "text": [
            "Score on training set: 0.7998864066641423\n",
            "Score on testing set: 0.7864849517319704\n"
          ],
          "name": "stdout"
        }
      ]
    },
    {
      "cell_type": "markdown",
      "metadata": {
        "id": "ks6qaVy9jJ3n"
      },
      "source": [
        "# GridSearch"
      ]
    },
    {
      "cell_type": "code",
      "metadata": {
        "id": "md6LuH6FjJ3n"
      },
      "source": [
        "# gridsearch of many trees\n",
        "\n",
        "grid = GridSearchCV(estimator = DecisionTreeClassifier(),\n",
        "                    param_grid = {'max_depth': [2, 3, 4, 5, 6, 7, 8, 9, 10, 15, 20],\n",
        "                                  'min_samples_split': [2, 3, 4, 5, 10, 15, 20, 25, 30, 40, 50, 100, 200],\n",
        "                                  'min_samples_leaf': [2, 3, 4, 5, 6, 7, 10, 20, 50]},\n",
        "                    cv = 5,\n",
        "                    refit = True,\n",
        "                    verbose = 1,\n",
        "                    scoring = 'accuracy')"
      ],
      "execution_count": null,
      "outputs": []
    },
    {
      "cell_type": "code",
      "metadata": {
        "id": "FNlzbvQUjJ3n",
        "colab": {
          "base_uri": "https://localhost:8080/"
        },
        "outputId": "6bb7a3cb-97fd-4de2-ee99-d912674c019e"
      },
      "source": [
        "# fitting all combinations of parameters\n",
        "\n",
        "now = time()\n",
        "\n",
        "grid.fit(X_train_eng, y_train)\n",
        "\n",
        "print(f' Time in seconds: {time() - now}')"
      ],
      "execution_count": null,
      "outputs": [
        {
          "output_type": "stream",
          "text": [
            "Fitting 5 folds for each of 1287 candidates, totalling 6435 fits\n"
          ],
          "name": "stdout"
        },
        {
          "output_type": "stream",
          "text": [
            "[Parallel(n_jobs=1)]: Using backend SequentialBackend with 1 concurrent workers.\n"
          ],
          "name": "stderr"
        },
        {
          "output_type": "stream",
          "text": [
            " Time in seconds: 58.296223640441895\n"
          ],
          "name": "stdout"
        },
        {
          "output_type": "stream",
          "text": [
            "[Parallel(n_jobs=1)]: Done 6435 out of 6435 | elapsed:   58.3s finished\n"
          ],
          "name": "stderr"
        }
      ]
    },
    {
      "cell_type": "code",
      "metadata": {
        "id": "8xYkK7N_jJ3o",
        "colab": {
          "base_uri": "https://localhost:8080/"
        },
        "outputId": "2a5d7981-f14b-4abd-887d-baee3eebcb96"
      },
      "source": [
        "# best parameters for decision tree \n",
        "grid.best_params_"
      ],
      "execution_count": null,
      "outputs": [
        {
          "output_type": "execute_result",
          "data": {
            "text/plain": [
              "{'max_depth': 15, 'min_samples_leaf': 20, 'min_samples_split': 200}"
            ]
          },
          "metadata": {
            "tags": []
          },
          "execution_count": 530
        }
      ]
    },
    {
      "cell_type": "code",
      "metadata": {
        "id": "igXGoI7ljJ3o",
        "colab": {
          "base_uri": "https://localhost:8080/"
        },
        "outputId": "325f9781-dadc-44f7-e719-761ddfd8cbf2"
      },
      "source": [
        "# accuracy score\n",
        "grid.best_score_"
      ],
      "execution_count": null,
      "outputs": [
        {
          "output_type": "execute_result",
          "data": {
            "text/plain": [
              "0.7996957512685989"
            ]
          },
          "metadata": {
            "tags": []
          },
          "execution_count": 531
        }
      ]
    },
    {
      "cell_type": "code",
      "metadata": {
        "id": "nydAcfd9jJ3o",
        "colab": {
          "base_uri": "https://localhost:8080/"
        },
        "outputId": "1f0af4ab-4c2b-4826-809e-36f44b737697"
      },
      "source": [
        "# best model to run\n",
        "grid.best_estimator_"
      ],
      "execution_count": null,
      "outputs": [
        {
          "output_type": "execute_result",
          "data": {
            "text/plain": [
              "DecisionTreeClassifier(ccp_alpha=0.0, class_weight=None, criterion='gini',\n",
              "                       max_depth=15, max_features=None, max_leaf_nodes=None,\n",
              "                       min_impurity_decrease=0.0, min_impurity_split=None,\n",
              "                       min_samples_leaf=20, min_samples_split=200,\n",
              "                       min_weight_fraction_leaf=0.0, presort='deprecated',\n",
              "                       random_state=None, splitter='best')"
            ]
          },
          "metadata": {
            "tags": []
          },
          "execution_count": 532
        }
      ]
    },
    {
      "cell_type": "code",
      "metadata": {
        "id": "PaK5maxEjJ3o"
      },
      "source": [
        "#defining parameters\n",
        "dt = DecisionTreeClassifier(max_depth=15, min_samples_leaf=20, min_samples_split=200)"
      ],
      "execution_count": null,
      "outputs": []
    },
    {
      "cell_type": "code",
      "metadata": {
        "id": "W9DM9CbEjJ3p",
        "colab": {
          "base_uri": "https://localhost:8080/"
        },
        "outputId": "df303568-f691-40e6-84f2-45975431c004"
      },
      "source": [
        "# fitting model\n",
        "dt.fit(X_train_eng, y_train)"
      ],
      "execution_count": null,
      "outputs": [
        {
          "output_type": "execute_result",
          "data": {
            "text/plain": [
              "DecisionTreeClassifier(ccp_alpha=0.0, class_weight=None, criterion='gini',\n",
              "                       max_depth=15, max_features=None, max_leaf_nodes=None,\n",
              "                       min_impurity_decrease=0.0, min_impurity_split=None,\n",
              "                       min_samples_leaf=20, min_samples_split=200,\n",
              "                       min_weight_fraction_leaf=0.0, presort='deprecated',\n",
              "                       random_state=None, splitter='best')"
            ]
          },
          "metadata": {
            "tags": []
          },
          "execution_count": 536
        }
      ]
    },
    {
      "cell_type": "code",
      "metadata": {
        "id": "PfQdF-abjJ3p"
      },
      "source": [
        "# create treeplot\n",
        "#fig = plt.figure(figsize=(50,40))\n",
        "\n",
        "# the underscore is needed to give a 'name' to the treeplot\n",
        "#_ = tree.plot_tree(dt, feature_names = feature_cols, class_names = ['Did Not Churn', 'Churned'], filled = True)"
      ],
      "execution_count": null,
      "outputs": []
    },
    {
      "cell_type": "code",
      "metadata": {
        "id": "5TknGdmZjJ3p"
      },
      "source": [
        "#train predictions\n",
        "train_results = X_train_eng.copy()\n",
        "train_results['y_pred'] = dt.predict(X_train_eng)\n",
        "train_results['y_real'] = y_train\n",
        "train_results['y_prob'] = dt.predict_proba(X_train_eng)[:,1]"
      ],
      "execution_count": null,
      "outputs": []
    },
    {
      "cell_type": "code",
      "metadata": {
        "id": "_wquZbMYjJ3p"
      },
      "source": [
        "#test predictions\n",
        "test_results = X_test_eng.copy()\n",
        "test_results['y_pred'] = dt.predict(X_test_eng)\n",
        "test_results['y_real'] = y_test\n",
        "test_results['y_prob'] = dt.predict_proba(X_test_eng)[:,1]"
      ],
      "execution_count": null,
      "outputs": []
    },
    {
      "cell_type": "markdown",
      "metadata": {
        "id": "quAztWygjJ3p"
      },
      "source": [
        "# Feature Importance"
      ]
    },
    {
      "cell_type": "code",
      "metadata": {
        "id": "90DYYA__jJ3q"
      },
      "source": [
        "# feature importance\n",
        "importance = list(zip(feature_cols, list(dt.feature_importances_)))"
      ],
      "execution_count": null,
      "outputs": []
    },
    {
      "cell_type": "code",
      "metadata": {
        "id": "BweBTfQ_jJ3q",
        "colab": {
          "base_uri": "https://localhost:8080/"
        },
        "outputId": "d3ad6fcd-9bf6-4c00-9e6a-810d3f30d447"
      },
      "source": [
        "#sorted list of importances\n",
        "sorted(importance, key = lambda x: x[1], reverse= True)"
      ],
      "execution_count": null,
      "outputs": [
        {
          "output_type": "execute_result",
          "data": {
            "text/plain": [
              "[('Contract_Month-to-month', 0.47401237214605507),\n",
              " ('Tenure Months', 0.20903857826651445),\n",
              " ('Internet Service_Fiber optic', 0.149604322327802),\n",
              " ('Monthly Charges', 0.0792506630651743),\n",
              " ('Dependents_Yes', 0.07315136565284057),\n",
              " ('Paperless Billing_Yes', 0.014942698541613631)]"
            ]
          },
          "metadata": {
            "tags": []
          },
          "execution_count": 541
        }
      ]
    },
    {
      "cell_type": "markdown",
      "metadata": {
        "id": "KmkAwQ0YjJ3q"
      },
      "source": [
        "# Metrics"
      ]
    },
    {
      "cell_type": "code",
      "metadata": {
        "id": "H3ln2BcZjJ3r",
        "colab": {
          "base_uri": "https://localhost:8080/",
          "height": 380
        },
        "outputId": "172c8640-88b9-4a18-92e9-c886e73dfd26"
      },
      "source": [
        "# confision matrix for train data\n",
        "produce_confusion('Stayed', 'Churned', 'binary', train_results, 'y_pred', 'y_real')"
      ],
      "execution_count": null,
      "outputs": [
        {
          "output_type": "stream",
          "text": [
            "Test accuracy =  0.8118137069291935\n",
            "Test precision =  0.6732673267326733\n",
            "Test recall =  0.542422044960116\n",
            "Test f1 =  0.6008032128514057\n"
          ],
          "name": "stdout"
        },
        {
          "output_type": "execute_result",
          "data": {
            "text/plain": [
              "0.8118137069291935"
            ]
          },
          "metadata": {
            "tags": []
          },
          "execution_count": 542
        },
        {
          "output_type": "display_data",
          "data": {
            "image/png": "[encoded data removed]",
            "text/plain": [
              "<Figure size 432x288 with 2 Axes>"
            ]
          },
          "metadata": {
            "tags": [],
            "needs_background": "light"
          }
        }
      ]
    },
    {
      "cell_type": "code",
      "metadata": {
        "id": "ZWkUzFFNjJ3r",
        "colab": {
          "base_uri": "https://localhost:8080/",
          "height": 380
        },
        "outputId": "6b8dd4fd-937d-4207-cc17-3b931f917a4a"
      },
      "source": [
        "#confusion matrix for test data\n",
        "produce_confusion('Stayed', 'Churned', 'binary', test_results, 'y_pred', 'y_real')"
      ],
      "execution_count": null,
      "outputs": [
        {
          "output_type": "stream",
          "text": [
            "Test accuracy =  0.8063600227143668\n",
            "Test precision =  0.6778042959427207\n",
            "Test recall =  0.5795918367346938\n",
            "Test f1 =  0.6248624862486248\n"
          ],
          "name": "stdout"
        },
        {
          "output_type": "execute_result",
          "data": {
            "text/plain": [
              "0.8063600227143668"
            ]
          },
          "metadata": {
            "tags": []
          },
          "execution_count": 543
        },
        {
          "output_type": "display_data",
          "data": {
            "image/png": "[encoded data removed]",
            "text/plain": [
              "<Figure size 432x288 with 2 Axes>"
            ]
          },
          "metadata": {
            "tags": [],
            "needs_background": "light"
          }
        }
      ]
    },
    {
      "cell_type": "markdown",
      "metadata": {
        "id": "eRX2RvTFfpYK"
      },
      "source": [
        "# Churn risk list"
      ]
    },
    {
      "cell_type": "code",
      "metadata": {
        "id": "7nD_EY7qcuBQ"
      },
      "source": [
        "#importing original data into dataframe\n",
        "myDF = pd.read_excel('customer_churn.xlsx', header = 0)"
      ],
      "execution_count": null,
      "outputs": []
    },
    {
      "cell_type": "code",
      "metadata": {
        "id": "nAwV7YBTc0uy"
      },
      "source": [
        "churn = myDF.copy()\n",
        "#removing useless columns\n",
        "try:\n",
        "    churn.drop(columns = ['Churn Label','CustomerID', 'Count', 'Country', 'State','City','Lat Long', 'Latitude', 'Longitude', 'Churn Reason'], inplace = True)\n",
        "except:\n",
        "    print('Already dropped!')"
      ],
      "execution_count": null,
      "outputs": []
    },
    {
      "cell_type": "code",
      "metadata": {
        "colab": {
          "base_uri": "https://localhost:8080/",
          "height": 419
        },
        "id": "qe7LFKkhdRHa",
        "outputId": "9e59c163-22c9-47d8-abcf-d45804946af8"
      },
      "source": [
        "#only existing customers\n",
        "loyal = churn[churn['Churn Value'] == 0]\n",
        "loyal_eng = feature_eng(loyal)\n",
        "\n",
        "loyal_eng"
      ],
      "execution_count": null,
      "outputs": [
        {
          "output_type": "execute_result",
          "data": {
            "text/html": [
              "<div>\n",
              "<style scoped>\n",
              "    .dataframe tbody tr th:only-of-type {\n",
              "        vertical-align: middle;\n",
              "    }\n",
              "\n",
              "    .dataframe tbody tr th {\n",
              "        vertical-align: top;\n",
              "    }\n",
              "\n",
              "    .dataframe thead th {\n",
              "        text-align: right;\n",
              "    }\n",
              "</style>\n",
              "<table border=\"1\" class=\"dataframe\">\n",
              "  <thead>\n",
              "    <tr style=\"text-align: right;\">\n",
              "      <th></th>\n",
              "      <th>Monthly Charges</th>\n",
              "      <th>Tenure Months</th>\n",
              "      <th>Dependents_Yes</th>\n",
              "      <th>Internet Service_Fiber optic</th>\n",
              "      <th>Contract_Month-to-month</th>\n",
              "      <th>Paperless Billing_Yes</th>\n",
              "    </tr>\n",
              "  </thead>\n",
              "  <tbody>\n",
              "    <tr>\n",
              "      <th>1869</th>\n",
              "      <td>29.85</td>\n",
              "      <td>1</td>\n",
              "      <td>0</td>\n",
              "      <td>0</td>\n",
              "      <td>1</td>\n",
              "      <td>1</td>\n",
              "    </tr>\n",
              "    <tr>\n",
              "      <th>1870</th>\n",
              "      <td>56.95</td>\n",
              "      <td>34</td>\n",
              "      <td>0</td>\n",
              "      <td>0</td>\n",
              "      <td>0</td>\n",
              "      <td>0</td>\n",
              "    </tr>\n",
              "    <tr>\n",
              "      <th>1871</th>\n",
              "      <td>42.30</td>\n",
              "      <td>45</td>\n",
              "      <td>0</td>\n",
              "      <td>0</td>\n",
              "      <td>0</td>\n",
              "      <td>0</td>\n",
              "    </tr>\n",
              "    <tr>\n",
              "      <th>1872</th>\n",
              "      <td>89.10</td>\n",
              "      <td>22</td>\n",
              "      <td>1</td>\n",
              "      <td>1</td>\n",
              "      <td>1</td>\n",
              "      <td>1</td>\n",
              "    </tr>\n",
              "    <tr>\n",
              "      <th>1873</th>\n",
              "      <td>29.75</td>\n",
              "      <td>10</td>\n",
              "      <td>0</td>\n",
              "      <td>0</td>\n",
              "      <td>1</td>\n",
              "      <td>0</td>\n",
              "    </tr>\n",
              "    <tr>\n",
              "      <th>...</th>\n",
              "      <td>...</td>\n",
              "      <td>...</td>\n",
              "      <td>...</td>\n",
              "      <td>...</td>\n",
              "      <td>...</td>\n",
              "      <td>...</td>\n",
              "    </tr>\n",
              "    <tr>\n",
              "      <th>7038</th>\n",
              "      <td>21.15</td>\n",
              "      <td>72</td>\n",
              "      <td>0</td>\n",
              "      <td>0</td>\n",
              "      <td>0</td>\n",
              "      <td>1</td>\n",
              "    </tr>\n",
              "    <tr>\n",
              "      <th>7039</th>\n",
              "      <td>84.80</td>\n",
              "      <td>24</td>\n",
              "      <td>1</td>\n",
              "      <td>0</td>\n",
              "      <td>0</td>\n",
              "      <td>1</td>\n",
              "    </tr>\n",
              "    <tr>\n",
              "      <th>7040</th>\n",
              "      <td>103.20</td>\n",
              "      <td>72</td>\n",
              "      <td>1</td>\n",
              "      <td>1</td>\n",
              "      <td>0</td>\n",
              "      <td>1</td>\n",
              "    </tr>\n",
              "    <tr>\n",
              "      <th>7041</th>\n",
              "      <td>29.60</td>\n",
              "      <td>11</td>\n",
              "      <td>1</td>\n",
              "      <td>0</td>\n",
              "      <td>1</td>\n",
              "      <td>1</td>\n",
              "    </tr>\n",
              "    <tr>\n",
              "      <th>7042</th>\n",
              "      <td>105.65</td>\n",
              "      <td>66</td>\n",
              "      <td>0</td>\n",
              "      <td>1</td>\n",
              "      <td>0</td>\n",
              "      <td>1</td>\n",
              "    </tr>\n",
              "  </tbody>\n",
              "</table>\n",
              "<p>5174 rows × 6 columns</p>\n",
              "</div>"
            ],
            "text/plain": [
              "      Monthly Charges  ...  Paperless Billing_Yes\n",
              "1869            29.85  ...                      1\n",
              "1870            56.95  ...                      0\n",
              "1871            42.30  ...                      0\n",
              "1872            89.10  ...                      1\n",
              "1873            29.75  ...                      0\n",
              "...               ...  ...                    ...\n",
              "7038            21.15  ...                      1\n",
              "7039            84.80  ...                      1\n",
              "7040           103.20  ...                      1\n",
              "7041            29.60  ...                      1\n",
              "7042           105.65  ...                      1\n",
              "\n",
              "[5174 rows x 6 columns]"
            ]
          },
          "metadata": {
            "tags": []
          },
          "execution_count": 549
        }
      ]
    },
    {
      "cell_type": "code",
      "metadata": {
        "id": "b-HTEjpBc7bc"
      },
      "source": [
        "#adding Customer ID back to the dataframe\n",
        "loyal_id = myDF['CustomerID'][myDF['Churn Value'] == 0]\n",
        "test = loyal_eng.join(loyal_id)\n",
        "test.sort_values('Churn Probability', ascending= False, inplace = True)"
      ],
      "execution_count": null,
      "outputs": []
    },
    {
      "cell_type": "code",
      "metadata": {
        "colab": {
          "base_uri": "https://localhost:8080/",
          "height": 419
        },
        "id": "qmT8O-m2c89Z",
        "outputId": "c4d4f2d2-2a8f-457a-80bc-57c2fbbedb32"
      },
      "source": [
        "#list of top 500 by churn risk\n",
        "churn_list = test[['CustomerID', 'Churn Probability']].head(500)\n",
        "churn_list"
      ],
      "execution_count": null,
      "outputs": [
        {
          "output_type": "execute_result",
          "data": {
            "text/html": [
              "<div>\n",
              "<style scoped>\n",
              "    .dataframe tbody tr th:only-of-type {\n",
              "        vertical-align: middle;\n",
              "    }\n",
              "\n",
              "    .dataframe tbody tr th {\n",
              "        vertical-align: top;\n",
              "    }\n",
              "\n",
              "    .dataframe thead th {\n",
              "        text-align: right;\n",
              "    }\n",
              "</style>\n",
              "<table border=\"1\" class=\"dataframe\">\n",
              "  <thead>\n",
              "    <tr style=\"text-align: right;\">\n",
              "      <th></th>\n",
              "      <th>CustomerID</th>\n",
              "      <th>Churn Probability</th>\n",
              "    </tr>\n",
              "  </thead>\n",
              "  <tbody>\n",
              "    <tr>\n",
              "      <th>4327</th>\n",
              "      <td>5043-TRZWM</td>\n",
              "      <td>0.869822</td>\n",
              "    </tr>\n",
              "    <tr>\n",
              "      <th>2948</th>\n",
              "      <td>1866-OBPNR</td>\n",
              "      <td>0.869822</td>\n",
              "    </tr>\n",
              "    <tr>\n",
              "      <th>5820</th>\n",
              "      <td>4273-MBHYA</td>\n",
              "      <td>0.869822</td>\n",
              "    </tr>\n",
              "    <tr>\n",
              "      <th>5786</th>\n",
              "      <td>1941-HOSAM</td>\n",
              "      <td>0.869822</td>\n",
              "    </tr>\n",
              "    <tr>\n",
              "      <th>4329</th>\n",
              "      <td>1640-PLFMP</td>\n",
              "      <td>0.869822</td>\n",
              "    </tr>\n",
              "    <tr>\n",
              "      <th>...</th>\n",
              "      <td>...</td>\n",
              "      <td>...</td>\n",
              "    </tr>\n",
              "    <tr>\n",
              "      <th>4460</th>\n",
              "      <td>2916-BQZLN</td>\n",
              "      <td>0.538043</td>\n",
              "    </tr>\n",
              "    <tr>\n",
              "      <th>5443</th>\n",
              "      <td>9058-MJLZC</td>\n",
              "      <td>0.538043</td>\n",
              "    </tr>\n",
              "    <tr>\n",
              "      <th>3330</th>\n",
              "      <td>5692-ICXLW</td>\n",
              "      <td>0.538043</td>\n",
              "    </tr>\n",
              "    <tr>\n",
              "      <th>6676</th>\n",
              "      <td>3439-GVUSX</td>\n",
              "      <td>0.483871</td>\n",
              "    </tr>\n",
              "    <tr>\n",
              "      <th>5885</th>\n",
              "      <td>8660-BUETV</td>\n",
              "      <td>0.483871</td>\n",
              "    </tr>\n",
              "  </tbody>\n",
              "</table>\n",
              "<p>500 rows × 2 columns</p>\n",
              "</div>"
            ],
            "text/plain": [
              "      CustomerID  Churn Probability\n",
              "4327  5043-TRZWM           0.869822\n",
              "2948  1866-OBPNR           0.869822\n",
              "5820  4273-MBHYA           0.869822\n",
              "5786  1941-HOSAM           0.869822\n",
              "4329  1640-PLFMP           0.869822\n",
              "...          ...                ...\n",
              "4460  2916-BQZLN           0.538043\n",
              "5443  9058-MJLZC           0.538043\n",
              "3330  5692-ICXLW           0.538043\n",
              "6676  3439-GVUSX           0.483871\n",
              "5885  8660-BUETV           0.483871\n",
              "\n",
              "[500 rows x 2 columns]"
            ]
          },
          "metadata": {
            "tags": []
          },
          "execution_count": 552
        }
      ]
    },
    {
      "cell_type": "code",
      "metadata": {
        "id": "VrGNt-gMjViQ"
      },
      "source": [
        "# save list as csv file\n",
        "churn_list.to_csv('DT_top_500.csv', index = None)"
      ],
      "execution_count": null,
      "outputs": []
    }
  ]
}